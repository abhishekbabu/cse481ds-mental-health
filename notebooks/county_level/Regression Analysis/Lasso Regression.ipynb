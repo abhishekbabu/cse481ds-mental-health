{
 "cells": [
  {
   "cell_type": "markdown",
   "id": "e26d95e4",
   "metadata": {},
   "source": [
    "## Lasso Regression"
   ]
  },
  {
   "cell_type": "markdown",
   "id": "fa90ef92",
   "metadata": {},
   "source": [
    "### Setup"
   ]
  },
  {
   "cell_type": "code",
   "execution_count": null,
   "id": "f7a88aca",
   "metadata": {},
   "outputs": [],
   "source": [
    "import pandas as pd\n",
    "import matplotlib.pyplot as plt\n",
    "import seaborn as sns\n",
    "import numpy as np\n",
    "import os\n",
    "import scipy.stats as stats\n",
    "import math\n",
    "\n",
    "!pip install sklearn\n",
    "from sklearn.linear_model import LassoCV\n",
    "from sklearn.model_selection import RepeatedKFold\n",
    "from sklearn.metrics import mean_absolute_error"
   ]
  },
  {
   "cell_type": "code",
   "execution_count": null,
   "id": "5769814d",
   "metadata": {},
   "outputs": [],
   "source": []
  },
  {
   "cell_type": "markdown",
   "id": "7a39612e",
   "metadata": {},
   "source": [
    "### Lasso regression for predicting Poor Mental Health Days"
   ]
  },
  {
   "cell_type": "code",
   "execution_count": null,
   "id": "5b8bc4a1",
   "metadata": {},
   "outputs": [],
   "source": [
    "cv = RepeatedKFold(n_splits=10, n_repeats=3, random_state=1)\n",
    "model = LassoCV(cv=cv, n_jobs=-1)\n",
    "model.fit(X_train, Y_train.iloc[:,0])\n",
    "print('alpha: %f' % model.alpha_)\n",
    "\n",
    "predictions = model.predict(X_test)\n",
    "mae = mean_absolute_error(Y_test.iloc[:,0], predictions)\n",
    "print(mae)\n",
    "\n",
    "coeffs = model.coef_\n",
    "important_variables = [i for i, e in enumerate(coeffs) if e != 0]\n",
    "for i in important_variables:\n",
    "    print(factors[i])\n",
    "    print(coeffs[i])"
   ]
  }
 ],
 "metadata": {
  "kernelspec": {
   "display_name": "Python 3",
   "language": "python",
   "name": "python3"
  },
  "language_info": {
   "codemirror_mode": {
    "name": "ipython",
    "version": 3
   },
   "file_extension": ".py",
   "mimetype": "text/x-python",
   "name": "python",
   "nbconvert_exporter": "python",
   "pygments_lexer": "ipython3",
   "version": "3.7.10"
  }
 },
 "nbformat": 4,
 "nbformat_minor": 5
}
