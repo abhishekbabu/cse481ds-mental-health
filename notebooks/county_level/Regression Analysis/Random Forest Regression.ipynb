{
 "cells": [
  {
   "cell_type": "markdown",
   "metadata": {
    "id": "e26d95e4"
   },
   "source": [
    "## Random Forest Regression"
   ]
  },
  {
   "cell_type": "markdown",
   "metadata": {
    "id": "fa90ef92"
   },
   "source": [
    "### Setup"
   ]
  },
  {
   "cell_type": "code",
   "execution_count": 2,
   "metadata": {
    "colab": {
     "base_uri": "https://localhost:8080/"
    },
    "id": "f7a88aca",
    "outputId": "6c263712-15d1-448d-b1ad-759a07dc5334"
   },
   "outputs": [
    {
     "name": "stdout",
     "output_type": "stream",
     "text": [
      "Requirement already satisfied: sklearn in c:\\users\\mikey\\anaconda3\\lib\\site-packages (0.0)\n",
      "Requirement already satisfied: scikit-learn in c:\\users\\mikey\\anaconda3\\lib\\site-packages (from sklearn) (0.23.1)\n",
      "Requirement already satisfied: threadpoolctl>=2.0.0 in c:\\users\\mikey\\anaconda3\\lib\\site-packages (from scikit-learn->sklearn) (2.1.0)\n",
      "Requirement already satisfied: scipy>=0.19.1 in c:\\users\\mikey\\anaconda3\\lib\\site-packages (from scikit-learn->sklearn) (1.5.0)\n",
      "Requirement already satisfied: numpy>=1.13.3 in c:\\users\\mikey\\anaconda3\\lib\\site-packages (from scikit-learn->sklearn) (1.18.5)\n",
      "Requirement already satisfied: joblib>=0.11 in c:\\users\\mikey\\anaconda3\\lib\\site-packages (from scikit-learn->sklearn) (0.16.0)\n"
     ]
    }
   ],
   "source": [
    "import pandas as pd\n",
    "import matplotlib.pyplot as plt\n",
    "import seaborn as sns\n",
    "import numpy as np\n",
    "import os\n",
    "import scipy.stats as stats\n",
    "import math\n",
    "\n",
    "!pip install sklearn\n",
    "from sklearn.ensemble import RandomForestRegressor\n",
    "from sklearn.model_selection import GridSearchCV\n",
    "from sklearn.model_selection import RepeatedKFold\n",
    "from sklearn.metrics import mean_absolute_error\n",
    "from sklearn.metrics import mean_squared_error\n",
    "from sklearn.metrics import r2_score"
   ]
  },
  {
   "cell_type": "code",
   "execution_count": 3,
   "metadata": {
    "colab": {
     "base_uri": "https://localhost:8080/",
     "height": 292
    },
    "id": "5769814d",
    "outputId": "83161315-e9e8-48c8-a61b-915b27808085"
   },
   "outputs": [
    {
     "data": {
      "text/html": [
       "<div>\n",
       "<style scoped>\n",
       "    .dataframe tbody tr th:only-of-type {\n",
       "        vertical-align: middle;\n",
       "    }\n",
       "\n",
       "    .dataframe tbody tr th {\n",
       "        vertical-align: top;\n",
       "    }\n",
       "\n",
       "    .dataframe thead th {\n",
       "        text-align: right;\n",
       "    }\n",
       "</style>\n",
       "<table border=\"1\" class=\"dataframe\">\n",
       "  <thead>\n",
       "    <tr style=\"text-align: right;\">\n",
       "      <th></th>\n",
       "      <th>High school graduation raw value</th>\n",
       "      <th>Unemployment raw value</th>\n",
       "      <th>Some college raw value</th>\n",
       "      <th>Ratio of population to mental health providers</th>\n",
       "      <th>Median household income raw value</th>\n",
       "      <th>Average Temperature</th>\n",
       "      <th>January Average Temperature</th>\n",
       "      <th>February Average Temperature</th>\n",
       "      <th>March Average Temperature</th>\n",
       "      <th>April Average Temperature</th>\n",
       "      <th>...</th>\n",
       "      <th>April Average Precipitation</th>\n",
       "      <th>May Average Precipitation</th>\n",
       "      <th>June Average Precipitation</th>\n",
       "      <th>July Average Precipitation</th>\n",
       "      <th>August Average Precipitation</th>\n",
       "      <th>September Average Precipitation</th>\n",
       "      <th>October Average Precipitation</th>\n",
       "      <th>November Average Precipitation</th>\n",
       "      <th>December Average Precipitation</th>\n",
       "      <th>RUCC</th>\n",
       "    </tr>\n",
       "  </thead>\n",
       "  <tbody>\n",
       "    <tr>\n",
       "      <th>0</th>\n",
       "      <td>0.847000</td>\n",
       "      <td>0.096000</td>\n",
       "      <td>0.568000</td>\n",
       "      <td>4885.000000</td>\n",
       "      <td>60735.0</td>\n",
       "      <td>54.808333</td>\n",
       "      <td>26.6</td>\n",
       "      <td>36.3</td>\n",
       "      <td>44.2</td>\n",
       "      <td>55.8</td>\n",
       "      <td>...</td>\n",
       "      <td>11.01</td>\n",
       "      <td>5.75</td>\n",
       "      <td>6.53</td>\n",
       "      <td>2.99</td>\n",
       "      <td>2.16</td>\n",
       "      <td>5.30</td>\n",
       "      <td>3.10</td>\n",
       "      <td>5.95</td>\n",
       "      <td>4.90</td>\n",
       "      <td>1.0</td>\n",
       "    </tr>\n",
       "    <tr>\n",
       "      <th>1</th>\n",
       "      <td>0.780000</td>\n",
       "      <td>0.066812</td>\n",
       "      <td>0.547429</td>\n",
       "      <td>954.495385</td>\n",
       "      <td>42945.0</td>\n",
       "      <td>74.058333</td>\n",
       "      <td>59.9</td>\n",
       "      <td>61.5</td>\n",
       "      <td>71.2</td>\n",
       "      <td>72.5</td>\n",
       "      <td>...</td>\n",
       "      <td>1.64</td>\n",
       "      <td>7.55</td>\n",
       "      <td>8.57</td>\n",
       "      <td>3.95</td>\n",
       "      <td>6.58</td>\n",
       "      <td>8.25</td>\n",
       "      <td>3.81</td>\n",
       "      <td>0.24</td>\n",
       "      <td>1.01</td>\n",
       "      <td>1.0</td>\n",
       "    </tr>\n",
       "    <tr>\n",
       "      <th>2</th>\n",
       "      <td>0.780000</td>\n",
       "      <td>0.069824</td>\n",
       "      <td>0.453978</td>\n",
       "      <td>2573.647059</td>\n",
       "      <td>40994.0</td>\n",
       "      <td>60.825000</td>\n",
       "      <td>38.5</td>\n",
       "      <td>42.9</td>\n",
       "      <td>55.2</td>\n",
       "      <td>59.1</td>\n",
       "      <td>...</td>\n",
       "      <td>2.69</td>\n",
       "      <td>3.51</td>\n",
       "      <td>2.22</td>\n",
       "      <td>3.80</td>\n",
       "      <td>5.73</td>\n",
       "      <td>0.96</td>\n",
       "      <td>0.54</td>\n",
       "      <td>1.99</td>\n",
       "      <td>3.87</td>\n",
       "      <td>6.0</td>\n",
       "    </tr>\n",
       "    <tr>\n",
       "      <th>3</th>\n",
       "      <td>0.866534</td>\n",
       "      <td>0.059000</td>\n",
       "      <td>0.785187</td>\n",
       "      <td>4209.193548</td>\n",
       "      <td>81586.0</td>\n",
       "      <td>43.408333</td>\n",
       "      <td>16.3</td>\n",
       "      <td>17.3</td>\n",
       "      <td>24.8</td>\n",
       "      <td>39.0</td>\n",
       "      <td>...</td>\n",
       "      <td>5.51</td>\n",
       "      <td>5.31</td>\n",
       "      <td>5.99</td>\n",
       "      <td>3.51</td>\n",
       "      <td>1.34</td>\n",
       "      <td>1.62</td>\n",
       "      <td>3.07</td>\n",
       "      <td>0.53</td>\n",
       "      <td>1.26</td>\n",
       "      <td>1.0</td>\n",
       "    </tr>\n",
       "    <tr>\n",
       "      <th>4</th>\n",
       "      <td>0.806995</td>\n",
       "      <td>0.102000</td>\n",
       "      <td>0.681151</td>\n",
       "      <td>4158.038961</td>\n",
       "      <td>43863.0</td>\n",
       "      <td>60.991667</td>\n",
       "      <td>46.3</td>\n",
       "      <td>44.2</td>\n",
       "      <td>46.8</td>\n",
       "      <td>61.4</td>\n",
       "      <td>...</td>\n",
       "      <td>4.63</td>\n",
       "      <td>3.10</td>\n",
       "      <td>10.77</td>\n",
       "      <td>8.40</td>\n",
       "      <td>5.02</td>\n",
       "      <td>1.72</td>\n",
       "      <td>1.12</td>\n",
       "      <td>2.85</td>\n",
       "      <td>4.85</td>\n",
       "      <td>2.0</td>\n",
       "    </tr>\n",
       "  </tbody>\n",
       "</table>\n",
       "<p>5 rows × 32 columns</p>\n",
       "</div>"
      ],
      "text/plain": [
       "   High school graduation raw value  Unemployment raw value  \\\n",
       "0                          0.847000                0.096000   \n",
       "1                          0.780000                0.066812   \n",
       "2                          0.780000                0.069824   \n",
       "3                          0.866534                0.059000   \n",
       "4                          0.806995                0.102000   \n",
       "\n",
       "   Some college raw value  Ratio of population to mental health providers  \\\n",
       "0                0.568000                                     4885.000000   \n",
       "1                0.547429                                      954.495385   \n",
       "2                0.453978                                     2573.647059   \n",
       "3                0.785187                                     4209.193548   \n",
       "4                0.681151                                     4158.038961   \n",
       "\n",
       "   Median household income raw value  Average Temperature  \\\n",
       "0                            60735.0            54.808333   \n",
       "1                            42945.0            74.058333   \n",
       "2                            40994.0            60.825000   \n",
       "3                            81586.0            43.408333   \n",
       "4                            43863.0            60.991667   \n",
       "\n",
       "   January Average Temperature  February Average Temperature  \\\n",
       "0                         26.6                          36.3   \n",
       "1                         59.9                          61.5   \n",
       "2                         38.5                          42.9   \n",
       "3                         16.3                          17.3   \n",
       "4                         46.3                          44.2   \n",
       "\n",
       "   March Average Temperature  April Average Temperature  ...  \\\n",
       "0                       44.2                       55.8  ...   \n",
       "1                       71.2                       72.5  ...   \n",
       "2                       55.2                       59.1  ...   \n",
       "3                       24.8                       39.0  ...   \n",
       "4                       46.8                       61.4  ...   \n",
       "\n",
       "   April Average Precipitation  May Average Precipitation  \\\n",
       "0                        11.01                       5.75   \n",
       "1                         1.64                       7.55   \n",
       "2                         2.69                       3.51   \n",
       "3                         5.51                       5.31   \n",
       "4                         4.63                       3.10   \n",
       "\n",
       "   June Average Precipitation  July Average Precipitation  \\\n",
       "0                        6.53                        2.99   \n",
       "1                        8.57                        3.95   \n",
       "2                        2.22                        3.80   \n",
       "3                        5.99                        3.51   \n",
       "4                       10.77                        8.40   \n",
       "\n",
       "   August Average Precipitation  September Average Precipitation  \\\n",
       "0                          2.16                             5.30   \n",
       "1                          6.58                             8.25   \n",
       "2                          5.73                             0.96   \n",
       "3                          1.34                             1.62   \n",
       "4                          5.02                             1.72   \n",
       "\n",
       "   October Average Precipitation  November Average Precipitation  \\\n",
       "0                           3.10                            5.95   \n",
       "1                           3.81                            0.24   \n",
       "2                           0.54                            1.99   \n",
       "3                           3.07                            0.53   \n",
       "4                           1.12                            2.85   \n",
       "\n",
       "   December Average Precipitation  RUCC  \n",
       "0                            4.90   1.0  \n",
       "1                            1.01   1.0  \n",
       "2                            3.87   6.0  \n",
       "3                            1.26   1.0  \n",
       "4                            4.85   2.0  \n",
       "\n",
       "[5 rows x 32 columns]"
      ]
     },
     "execution_count": 3,
     "metadata": {},
     "output_type": "execute_result"
    }
   ],
   "source": [
    "X_train_full = pd.read_csv(\"X_train.csv\")\n",
    "X_train_full.head(5)"
   ]
  },
  {
   "cell_type": "code",
   "execution_count": 4,
   "metadata": {
    "colab": {
     "base_uri": "https://localhost:8080/",
     "height": 204
    },
    "id": "af01c867",
    "outputId": "1b3bbac4-207b-4e53-8c7e-97d0dcec0462"
   },
   "outputs": [
    {
     "data": {
      "text/html": [
       "<div>\n",
       "<style scoped>\n",
       "    .dataframe tbody tr th:only-of-type {\n",
       "        vertical-align: middle;\n",
       "    }\n",
       "\n",
       "    .dataframe tbody tr th {\n",
       "        vertical-align: top;\n",
       "    }\n",
       "\n",
       "    .dataframe thead th {\n",
       "        text-align: right;\n",
       "    }\n",
       "</style>\n",
       "<table border=\"1\" class=\"dataframe\">\n",
       "  <thead>\n",
       "    <tr style=\"text-align: right;\">\n",
       "      <th></th>\n",
       "      <th>Poor mental health days raw value</th>\n",
       "      <th>Crude Rate</th>\n",
       "    </tr>\n",
       "  </thead>\n",
       "  <tbody>\n",
       "    <tr>\n",
       "      <th>0</th>\n",
       "      <td>4.1</td>\n",
       "      <td>16.6</td>\n",
       "    </tr>\n",
       "    <tr>\n",
       "      <th>1</th>\n",
       "      <td>4.2</td>\n",
       "      <td>11.0</td>\n",
       "    </tr>\n",
       "    <tr>\n",
       "      <th>2</th>\n",
       "      <td>3.9</td>\n",
       "      <td>24.9</td>\n",
       "    </tr>\n",
       "    <tr>\n",
       "      <th>3</th>\n",
       "      <td>2.3</td>\n",
       "      <td>8.7</td>\n",
       "    </tr>\n",
       "    <tr>\n",
       "      <th>4</th>\n",
       "      <td>4.0</td>\n",
       "      <td>16.8</td>\n",
       "    </tr>\n",
       "  </tbody>\n",
       "</table>\n",
       "</div>"
      ],
      "text/plain": [
       "   Poor mental health days raw value  Crude Rate\n",
       "0                                4.1        16.6\n",
       "1                                4.2        11.0\n",
       "2                                3.9        24.9\n",
       "3                                2.3         8.7\n",
       "4                                4.0        16.8"
      ]
     },
     "execution_count": 4,
     "metadata": {},
     "output_type": "execute_result"
    }
   ],
   "source": [
    "Y_train_full = pd.read_csv(\"Y_train.csv\")\n",
    "Y_train_full.head(5)"
   ]
  },
  {
   "cell_type": "markdown",
   "metadata": {
    "id": "7a39612e"
   },
   "source": [
    "### Random Forest regression for predicting Poor Mental Health Days"
   ]
  },
  {
   "cell_type": "code",
   "execution_count": 5,
   "metadata": {
    "colab": {
     "base_uri": "https://localhost:8080/"
    },
    "id": "5b8bc4a1",
    "outputId": "8e1bdfe7-f547-4752-a92a-074617635798"
   },
   "outputs": [
    {
     "name": "stdout",
     "output_type": "stream",
     "text": [
      "Fitting 5 folds for each of 288 candidates, totalling 1440 fits\n"
     ]
    },
    {
     "name": "stderr",
     "output_type": "stream",
     "text": [
      "[Parallel(n_jobs=-1)]: Using backend LokyBackend with 8 concurrent workers.\n",
      "[Parallel(n_jobs=-1)]: Done  25 tasks      | elapsed:    8.1s\n",
      "[Parallel(n_jobs=-1)]: Done 146 tasks      | elapsed:   49.4s\n",
      "[Parallel(n_jobs=-1)]: Done 349 tasks      | elapsed:  2.2min\n",
      "[Parallel(n_jobs=-1)]: Done 632 tasks      | elapsed:  4.0min\n",
      "[Parallel(n_jobs=-1)]: Done 997 tasks      | elapsed:  6.4min\n",
      "[Parallel(n_jobs=-1)]: Done 1440 out of 1440 | elapsed:  9.4min finished\n"
     ]
    },
    {
     "name": "stdout",
     "output_type": "stream",
     "text": [
      "Downloaded the tutorial in 571.9111 seconds\n",
      "mae = 0.3725401294811723\n",
      "rmse = 0.5148437867726245\n",
      "r2 = 0.37816963062589204\n",
      "1\n",
      "Fitting 5 folds for each of 288 candidates, totalling 1440 fits\n"
     ]
    },
    {
     "name": "stderr",
     "output_type": "stream",
     "text": [
      "[Parallel(n_jobs=-1)]: Using backend LokyBackend with 8 concurrent workers.\n",
      "[Parallel(n_jobs=-1)]: Done  25 tasks      | elapsed:    8.0s\n",
      "[Parallel(n_jobs=-1)]: Done 146 tasks      | elapsed:   51.0s\n",
      "[Parallel(n_jobs=-1)]: Done 349 tasks      | elapsed:  2.3min\n",
      "[Parallel(n_jobs=-1)]: Done 632 tasks      | elapsed:  4.2min\n",
      "[Parallel(n_jobs=-1)]: Done 997 tasks      | elapsed:  6.9min\n",
      "[Parallel(n_jobs=-1)]: Done 1440 out of 1440 | elapsed:  9.9min finished\n"
     ]
    },
    {
     "name": "stdout",
     "output_type": "stream",
     "text": [
      "Downloaded the tutorial in 600.9826 seconds\n",
      "mae = 0.37557789990190155\n",
      "rmse = 0.49295848204735054\n",
      "r2 = 0.4228184612534954\n",
      "2\n",
      "Fitting 5 folds for each of 288 candidates, totalling 1440 fits\n"
     ]
    },
    {
     "name": "stderr",
     "output_type": "stream",
     "text": [
      "[Parallel(n_jobs=-1)]: Using backend LokyBackend with 8 concurrent workers.\n",
      "[Parallel(n_jobs=-1)]: Done  25 tasks      | elapsed:    7.3s\n",
      "[Parallel(n_jobs=-1)]: Done 146 tasks      | elapsed:   51.9s\n",
      "[Parallel(n_jobs=-1)]: Done 349 tasks      | elapsed:  2.3min\n",
      "[Parallel(n_jobs=-1)]: Done 632 tasks      | elapsed:  4.1min\n",
      "[Parallel(n_jobs=-1)]: Done 997 tasks      | elapsed:  6.6min\n",
      "[Parallel(n_jobs=-1)]: Done 1440 out of 1440 | elapsed:  9.6min finished\n"
     ]
    },
    {
     "name": "stdout",
     "output_type": "stream",
     "text": [
      "Downloaded the tutorial in 581.5912 seconds\n",
      "mae = 0.35291616471709125\n",
      "rmse = 0.4817993132396631\n",
      "r2 = 0.5026423645911171\n",
      "3\n",
      "Fitting 5 folds for each of 288 candidates, totalling 1440 fits\n"
     ]
    },
    {
     "name": "stderr",
     "output_type": "stream",
     "text": [
      "[Parallel(n_jobs=-1)]: Using backend LokyBackend with 8 concurrent workers.\n",
      "[Parallel(n_jobs=-1)]: Done  25 tasks      | elapsed:    7.2s\n",
      "[Parallel(n_jobs=-1)]: Done 146 tasks      | elapsed:   50.1s\n",
      "[Parallel(n_jobs=-1)]: Done 349 tasks      | elapsed:  2.3min\n",
      "[Parallel(n_jobs=-1)]: Done 632 tasks      | elapsed:  4.1min\n",
      "[Parallel(n_jobs=-1)]: Done 997 tasks      | elapsed:  6.5min\n",
      "[Parallel(n_jobs=-1)]: Done 1440 out of 1440 | elapsed:  9.5min finished\n"
     ]
    },
    {
     "name": "stdout",
     "output_type": "stream",
     "text": [
      "Downloaded the tutorial in 578.3753 seconds\n",
      "mae = 0.371715577263909\n",
      "rmse = 0.5050801048232525\n",
      "r2 = 0.42676523781461895\n",
      "4\n",
      "Fitting 5 folds for each of 288 candidates, totalling 1440 fits\n"
     ]
    },
    {
     "name": "stderr",
     "output_type": "stream",
     "text": [
      "[Parallel(n_jobs=-1)]: Using backend LokyBackend with 8 concurrent workers.\n",
      "[Parallel(n_jobs=-1)]: Done  25 tasks      | elapsed:    7.0s\n",
      "[Parallel(n_jobs=-1)]: Done 146 tasks      | elapsed:   49.6s\n",
      "[Parallel(n_jobs=-1)]: Done 349 tasks      | elapsed:  2.2min\n",
      "[Parallel(n_jobs=-1)]: Done 632 tasks      | elapsed:  4.1min\n",
      "[Parallel(n_jobs=-1)]: Done 997 tasks      | elapsed:  6.4min\n",
      "[Parallel(n_jobs=-1)]: Done 1440 out of 1440 | elapsed:  9.5min finished\n"
     ]
    },
    {
     "name": "stdout",
     "output_type": "stream",
     "text": [
      "Downloaded the tutorial in 572.8648 seconds\n",
      "mae = 0.3573334218004674\n",
      "rmse = 0.48029546021049546\n",
      "r2 = 0.4412734481575976\n",
      "5\n",
      "Fitting 5 folds for each of 288 candidates, totalling 1440 fits\n"
     ]
    },
    {
     "name": "stderr",
     "output_type": "stream",
     "text": [
      "[Parallel(n_jobs=-1)]: Using backend LokyBackend with 8 concurrent workers.\n",
      "[Parallel(n_jobs=-1)]: Done  25 tasks      | elapsed:    6.8s\n",
      "[Parallel(n_jobs=-1)]: Done 146 tasks      | elapsed:   49.4s\n",
      "[Parallel(n_jobs=-1)]: Done 349 tasks      | elapsed:  2.2min\n",
      "[Parallel(n_jobs=-1)]: Done 632 tasks      | elapsed:  4.1min\n",
      "[Parallel(n_jobs=-1)]: Done 997 tasks      | elapsed:  6.4min\n",
      "[Parallel(n_jobs=-1)]: Done 1440 out of 1440 | elapsed:  9.5min finished\n"
     ]
    },
    {
     "name": "stdout",
     "output_type": "stream",
     "text": [
      "Downloaded the tutorial in 575.4429 seconds\n",
      "mae = 0.3543602462085145\n",
      "rmse = 0.47434625376942585\n",
      "r2 = 0.4593406816007508\n",
      "6\n",
      "Fitting 5 folds for each of 288 candidates, totalling 1440 fits\n"
     ]
    },
    {
     "name": "stderr",
     "output_type": "stream",
     "text": [
      "[Parallel(n_jobs=-1)]: Using backend LokyBackend with 8 concurrent workers.\n",
      "[Parallel(n_jobs=-1)]: Done  25 tasks      | elapsed:    6.8s\n",
      "[Parallel(n_jobs=-1)]: Done 146 tasks      | elapsed:   49.0s\n",
      "[Parallel(n_jobs=-1)]: Done 349 tasks      | elapsed:  2.2min\n",
      "[Parallel(n_jobs=-1)]: Done 632 tasks      | elapsed:  4.0min\n",
      "[Parallel(n_jobs=-1)]: Done 997 tasks      | elapsed:  6.4min\n",
      "[Parallel(n_jobs=-1)]: Done 1440 out of 1440 | elapsed:  9.4min finished\n"
     ]
    },
    {
     "name": "stdout",
     "output_type": "stream",
     "text": [
      "Downloaded the tutorial in 572.3857 seconds\n",
      "mae = 0.3752551834096137\n",
      "rmse = 0.5039141890675551\n",
      "r2 = 0.4208072257748581\n",
      "7\n",
      "Fitting 5 folds for each of 288 candidates, totalling 1440 fits\n"
     ]
    },
    {
     "name": "stderr",
     "output_type": "stream",
     "text": [
      "[Parallel(n_jobs=-1)]: Using backend LokyBackend with 8 concurrent workers.\n",
      "[Parallel(n_jobs=-1)]: Done  25 tasks      | elapsed:    6.7s\n",
      "[Parallel(n_jobs=-1)]: Done 146 tasks      | elapsed:   49.3s\n",
      "[Parallel(n_jobs=-1)]: Done 349 tasks      | elapsed:  2.2min\n",
      "[Parallel(n_jobs=-1)]: Done 632 tasks      | elapsed:  4.2min\n",
      "[Parallel(n_jobs=-1)]: Done 997 tasks      | elapsed:  6.6min\n",
      "[Parallel(n_jobs=-1)]: Done 1440 out of 1440 | elapsed:  9.6min finished\n"
     ]
    },
    {
     "name": "stdout",
     "output_type": "stream",
     "text": [
      "Downloaded the tutorial in 581.3694 seconds\n",
      "mae = 0.3597899878722987\n",
      "rmse = 0.4894199593788224\n",
      "r2 = 0.4718100344372296\n",
      "8\n",
      "Fitting 5 folds for each of 288 candidates, totalling 1440 fits\n"
     ]
    },
    {
     "name": "stderr",
     "output_type": "stream",
     "text": [
      "[Parallel(n_jobs=-1)]: Using backend LokyBackend with 8 concurrent workers.\n",
      "[Parallel(n_jobs=-1)]: Done  25 tasks      | elapsed:    6.9s\n",
      "[Parallel(n_jobs=-1)]: Done 146 tasks      | elapsed:   51.6s\n",
      "[Parallel(n_jobs=-1)]: Done 349 tasks      | elapsed:  2.3min\n",
      "[Parallel(n_jobs=-1)]: Done 632 tasks      | elapsed:  4.1min\n",
      "[Parallel(n_jobs=-1)]: Done 997 tasks      | elapsed:  8.2min\n",
      "[Parallel(n_jobs=-1)]: Done 1440 out of 1440 | elapsed: 18.8min finished\n"
     ]
    },
    {
     "name": "stdout",
     "output_type": "stream",
     "text": [
      "Downloaded the tutorial in 1136.9913 seconds\n",
      "mae = 0.3662255291604377\n",
      "rmse = 0.5174314326728484\n",
      "r2 = 0.45799273781768357\n",
      "9\n",
      "Fitting 5 folds for each of 288 candidates, totalling 1440 fits\n"
     ]
    },
    {
     "name": "stderr",
     "output_type": "stream",
     "text": [
      "[Parallel(n_jobs=-1)]: Using backend LokyBackend with 8 concurrent workers.\n",
      "C:\\Users\\mikey\\anaconda3\\lib\\site-packages\\joblib\\externals\\loky\\process_executor.py:688: UserWarning: A worker stopped while some jobs were given to the executor. This can be caused by a too short worker timeout or by a memory leak.\n",
      "  warnings.warn(\n",
      "[Parallel(n_jobs=-1)]: Done  25 tasks      | elapsed:    8.7s\n",
      "[Parallel(n_jobs=-1)]: Done 146 tasks      | elapsed:   51.6s\n",
      "[Parallel(n_jobs=-1)]: Done 349 tasks      | elapsed:  2.2min\n",
      "[Parallel(n_jobs=-1)]: Done 632 tasks      | elapsed:  4.0min\n",
      "[Parallel(n_jobs=-1)]: Done 997 tasks      | elapsed:  6.3min\n",
      "[Parallel(n_jobs=-1)]: Done 1440 out of 1440 | elapsed:  9.2min finished\n"
     ]
    },
    {
     "name": "stdout",
     "output_type": "stream",
     "text": [
      "Downloaded the tutorial in 558.0979 seconds\n",
      "mae = 0.3648572895310066\n",
      "rmse = 0.49927273906621966\n",
      "r2 = 0.3988954100009694\n",
      "10\n",
      "Fitting 5 folds for each of 288 candidates, totalling 1440 fits\n"
     ]
    },
    {
     "name": "stderr",
     "output_type": "stream",
     "text": [
      "[Parallel(n_jobs=-1)]: Using backend LokyBackend with 8 concurrent workers.\n",
      "[Parallel(n_jobs=-1)]: Done  25 tasks      | elapsed:    6.9s\n",
      "[Parallel(n_jobs=-1)]: Done 146 tasks      | elapsed:   49.0s\n",
      "[Parallel(n_jobs=-1)]: Done 349 tasks      | elapsed:  2.2min\n",
      "[Parallel(n_jobs=-1)]: Done 632 tasks      | elapsed:  4.0min\n",
      "[Parallel(n_jobs=-1)]: Done 997 tasks      | elapsed:  6.3min\n",
      "[Parallel(n_jobs=-1)]: Done 1440 out of 1440 | elapsed:  9.3min finished\n"
     ]
    },
    {
     "name": "stdout",
     "output_type": "stream",
     "text": [
      "Downloaded the tutorial in 561.2179 seconds\n",
      "mae = 0.3475279796800179\n",
      "rmse = 0.46902641376505905\n",
      "r2 = 0.48508721696159507\n",
      "11\n",
      "Fitting 5 folds for each of 288 candidates, totalling 1440 fits\n"
     ]
    },
    {
     "name": "stderr",
     "output_type": "stream",
     "text": [
      "[Parallel(n_jobs=-1)]: Using backend LokyBackend with 8 concurrent workers.\n",
      "[Parallel(n_jobs=-1)]: Done  25 tasks      | elapsed:    6.9s\n",
      "[Parallel(n_jobs=-1)]: Done 146 tasks      | elapsed:   49.5s\n",
      "[Parallel(n_jobs=-1)]: Done 349 tasks      | elapsed:  2.2min\n",
      "[Parallel(n_jobs=-1)]: Done 632 tasks      | elapsed:  4.0min\n",
      "[Parallel(n_jobs=-1)]: Done 997 tasks      | elapsed:  6.3min\n",
      "[Parallel(n_jobs=-1)]: Done 1440 out of 1440 | elapsed:  9.3min finished\n"
     ]
    },
    {
     "name": "stdout",
     "output_type": "stream",
     "text": [
      "Downloaded the tutorial in 561.2443 seconds\n",
      "mae = 0.36718948527166195\n",
      "rmse = 0.5079700756329127\n",
      "r2 = 0.401532232365439\n",
      "12\n",
      "Fitting 5 folds for each of 288 candidates, totalling 1440 fits\n"
     ]
    },
    {
     "name": "stderr",
     "output_type": "stream",
     "text": [
      "[Parallel(n_jobs=-1)]: Using backend LokyBackend with 8 concurrent workers.\n",
      "[Parallel(n_jobs=-1)]: Done  25 tasks      | elapsed:    6.9s\n",
      "[Parallel(n_jobs=-1)]: Done 146 tasks      | elapsed:   49.2s\n",
      "[Parallel(n_jobs=-1)]: Done 349 tasks      | elapsed:  2.2min\n",
      "[Parallel(n_jobs=-1)]: Done 632 tasks      | elapsed: 140.7min\n",
      "[Parallel(n_jobs=-1)]: Done 997 tasks      | elapsed: 143.9min\n",
      "[Parallel(n_jobs=-1)]: Done 1440 out of 1440 | elapsed: 147.0min finished\n"
     ]
    },
    {
     "name": "stdout",
     "output_type": "stream",
     "text": [
      "Downloaded the tutorial in 8823.6108 seconds\n",
      "mae = 0.38042951810858644\n",
      "rmse = 0.5294279225649781\n",
      "r2 = 0.41586256523340126\n",
      "13\n",
      "Fitting 5 folds for each of 288 candidates, totalling 1440 fits\n"
     ]
    },
    {
     "name": "stderr",
     "output_type": "stream",
     "text": [
      "[Parallel(n_jobs=-1)]: Using backend LokyBackend with 8 concurrent workers.\n",
      "[Parallel(n_jobs=-1)]: Done  25 tasks      | elapsed:    6.8s\n",
      "[Parallel(n_jobs=-1)]: Done 146 tasks      | elapsed:   49.2s\n",
      "[Parallel(n_jobs=-1)]: Done 349 tasks      | elapsed:  2.2min\n",
      "[Parallel(n_jobs=-1)]: Done 632 tasks      | elapsed:  3.9min\n",
      "[Parallel(n_jobs=-1)]: Done 997 tasks      | elapsed:  6.2min\n",
      "[Parallel(n_jobs=-1)]: Done 1440 out of 1440 | elapsed:  9.2min finished\n"
     ]
    },
    {
     "name": "stdout",
     "output_type": "stream",
     "text": [
      "Downloaded the tutorial in 555.1338 seconds\n",
      "mae = 0.35903696749702163\n",
      "rmse = 0.4949442954420872\n",
      "r2 = 0.38775341170741773\n",
      "14\n",
      "Fitting 5 folds for each of 288 candidates, totalling 1440 fits\n"
     ]
    },
    {
     "name": "stderr",
     "output_type": "stream",
     "text": [
      "[Parallel(n_jobs=-1)]: Using backend LokyBackend with 8 concurrent workers.\n",
      "[Parallel(n_jobs=-1)]: Done  25 tasks      | elapsed:    6.8s\n",
      "[Parallel(n_jobs=-1)]: Done 146 tasks      | elapsed:   48.4s\n",
      "[Parallel(n_jobs=-1)]: Done 349 tasks      | elapsed:  2.2min\n",
      "[Parallel(n_jobs=-1)]: Done 632 tasks      | elapsed:  3.9min\n",
      "[Parallel(n_jobs=-1)]: Done 997 tasks      | elapsed:  6.2min\n",
      "[Parallel(n_jobs=-1)]: Done 1440 out of 1440 | elapsed:  9.1min finished\n"
     ]
    },
    {
     "name": "stdout",
     "output_type": "stream",
     "text": [
      "Downloaded the tutorial in 553.6655 seconds\n",
      "mae = 0.3958643237688913\n",
      "rmse = 0.53246233427034\n",
      "r2 = 0.4435505308611243\n",
      "15\n",
      "Fitting 5 folds for each of 288 candidates, totalling 1440 fits\n"
     ]
    },
    {
     "name": "stderr",
     "output_type": "stream",
     "text": [
      "[Parallel(n_jobs=-1)]: Using backend LokyBackend with 8 concurrent workers.\n",
      "[Parallel(n_jobs=-1)]: Done  25 tasks      | elapsed:    6.8s\n",
      "[Parallel(n_jobs=-1)]: Done 146 tasks      | elapsed:   48.7s\n",
      "[Parallel(n_jobs=-1)]: Done 349 tasks      | elapsed:  2.2min\n",
      "[Parallel(n_jobs=-1)]: Done 632 tasks      | elapsed:  3.9min\n",
      "[Parallel(n_jobs=-1)]: Done 997 tasks      | elapsed:  6.2min\n",
      "[Parallel(n_jobs=-1)]: Done 1440 out of 1440 | elapsed:  9.2min finished\n"
     ]
    },
    {
     "name": "stdout",
     "output_type": "stream",
     "text": [
      "Downloaded the tutorial in 555.1345 seconds\n",
      "mae = 0.35590053204543787\n",
      "rmse = 0.4736315137373076\n",
      "r2 = 0.45108722612962016\n",
      "16\n",
      "Fitting 5 folds for each of 288 candidates, totalling 1440 fits\n"
     ]
    },
    {
     "name": "stderr",
     "output_type": "stream",
     "text": [
      "[Parallel(n_jobs=-1)]: Using backend LokyBackend with 8 concurrent workers.\n",
      "[Parallel(n_jobs=-1)]: Done  25 tasks      | elapsed:    7.2s\n",
      "[Parallel(n_jobs=-1)]: Done 146 tasks      | elapsed:   48.8s\n",
      "[Parallel(n_jobs=-1)]: Done 349 tasks      | elapsed:  2.2min\n",
      "[Parallel(n_jobs=-1)]: Done 632 tasks      | elapsed:  3.9min\n",
      "[Parallel(n_jobs=-1)]: Done 997 tasks      | elapsed:  6.3min\n",
      "[Parallel(n_jobs=-1)]: Done 1440 out of 1440 | elapsed:  9.2min finished\n"
     ]
    },
    {
     "name": "stdout",
     "output_type": "stream",
     "text": [
      "Downloaded the tutorial in 555.5515 seconds\n",
      "mae = 0.3651719331604779\n",
      "rmse = 0.491125391672944\n",
      "r2 = 0.42885672248985807\n",
      "17\n",
      "Fitting 5 folds for each of 288 candidates, totalling 1440 fits\n"
     ]
    },
    {
     "name": "stderr",
     "output_type": "stream",
     "text": [
      "[Parallel(n_jobs=-1)]: Using backend LokyBackend with 8 concurrent workers.\n",
      "[Parallel(n_jobs=-1)]: Done  25 tasks      | elapsed:    6.8s\n",
      "[Parallel(n_jobs=-1)]: Done 146 tasks      | elapsed:   49.8s\n",
      "[Parallel(n_jobs=-1)]: Done 349 tasks      | elapsed:  2.2min\n",
      "[Parallel(n_jobs=-1)]: Done 632 tasks      | elapsed:  3.9min\n",
      "[Parallel(n_jobs=-1)]: Done 997 tasks      | elapsed:  6.3min\n",
      "[Parallel(n_jobs=-1)]: Done 1440 out of 1440 | elapsed:  9.2min finished\n"
     ]
    },
    {
     "name": "stdout",
     "output_type": "stream",
     "text": [
      "Downloaded the tutorial in 556.2493 seconds\n",
      "mae = 0.3546337655674722\n",
      "rmse = 0.4766325237130163\n",
      "r2 = 0.4192421276791686\n",
      "18\n",
      "Fitting 5 folds for each of 288 candidates, totalling 1440 fits\n"
     ]
    },
    {
     "name": "stderr",
     "output_type": "stream",
     "text": [
      "[Parallel(n_jobs=-1)]: Using backend LokyBackend with 8 concurrent workers.\n",
      "[Parallel(n_jobs=-1)]: Done  25 tasks      | elapsed:    6.8s\n",
      "[Parallel(n_jobs=-1)]: Done 146 tasks      | elapsed:   49.0s\n",
      "[Parallel(n_jobs=-1)]: Done 349 tasks      | elapsed:  2.2min\n",
      "[Parallel(n_jobs=-1)]: Done 632 tasks      | elapsed:  3.9min\n",
      "[Parallel(n_jobs=-1)]: Done 997 tasks      | elapsed:  6.3min\n",
      "[Parallel(n_jobs=-1)]: Done 1440 out of 1440 | elapsed:  9.2min finished\n"
     ]
    },
    {
     "name": "stdout",
     "output_type": "stream",
     "text": [
      "Downloaded the tutorial in 558.7994 seconds\n",
      "mae = 0.35101905862372734\n",
      "rmse = 0.4771858234400353\n",
      "r2 = 0.4875366359064609\n",
      "19\n",
      "Fitting 5 folds for each of 288 candidates, totalling 1440 fits\n"
     ]
    },
    {
     "name": "stderr",
     "output_type": "stream",
     "text": [
      "[Parallel(n_jobs=-1)]: Using backend LokyBackend with 8 concurrent workers.\n",
      "[Parallel(n_jobs=-1)]: Done  25 tasks      | elapsed:    7.2s\n",
      "[Parallel(n_jobs=-1)]: Done 146 tasks      | elapsed:   48.8s\n",
      "[Parallel(n_jobs=-1)]: Done 349 tasks      | elapsed:  2.2min\n",
      "[Parallel(n_jobs=-1)]: Done 632 tasks      | elapsed:  3.9min\n",
      "[Parallel(n_jobs=-1)]: Done 997 tasks      | elapsed:  6.3min\n",
      "[Parallel(n_jobs=-1)]: Done 1440 out of 1440 | elapsed:  9.2min finished\n"
     ]
    },
    {
     "name": "stdout",
     "output_type": "stream",
     "text": [
      "Downloaded the tutorial in 557.9493 seconds\n",
      "mae = 0.3687396745485403\n",
      "rmse = 0.5072378971559544\n",
      "r2 = 0.45692357236978076\n",
      "20\n",
      "Fitting 5 folds for each of 288 candidates, totalling 1440 fits\n"
     ]
    },
    {
     "name": "stderr",
     "output_type": "stream",
     "text": [
      "[Parallel(n_jobs=-1)]: Using backend LokyBackend with 8 concurrent workers.\n",
      "[Parallel(n_jobs=-1)]: Done  25 tasks      | elapsed:    6.8s\n",
      "[Parallel(n_jobs=-1)]: Done 146 tasks      | elapsed:   49.1s\n",
      "[Parallel(n_jobs=-1)]: Done 349 tasks      | elapsed:  2.2min\n",
      "[Parallel(n_jobs=-1)]: Done 632 tasks      | elapsed:  3.9min\n",
      "[Parallel(n_jobs=-1)]: Done 997 tasks      | elapsed:  6.3min\n",
      "[Parallel(n_jobs=-1)]: Done 1440 out of 1440 | elapsed:  9.2min finished\n"
     ]
    },
    {
     "name": "stdout",
     "output_type": "stream",
     "text": [
      "Downloaded the tutorial in 557.6765 seconds\n",
      "mae = 0.36326746295666373\n",
      "rmse = 0.49149591749580895\n",
      "r2 = 0.4176616208702265\n",
      "21\n",
      "Fitting 5 folds for each of 288 candidates, totalling 1440 fits\n"
     ]
    },
    {
     "name": "stderr",
     "output_type": "stream",
     "text": [
      "[Parallel(n_jobs=-1)]: Using backend LokyBackend with 8 concurrent workers.\n",
      "[Parallel(n_jobs=-1)]: Done  25 tasks      | elapsed:    6.8s\n",
      "[Parallel(n_jobs=-1)]: Done 146 tasks      | elapsed:   48.8s\n",
      "[Parallel(n_jobs=-1)]: Done 349 tasks      | elapsed:  2.2min\n",
      "[Parallel(n_jobs=-1)]: Done 632 tasks      | elapsed:  3.9min\n",
      "[Parallel(n_jobs=-1)]: Done 997 tasks      | elapsed:  6.3min\n",
      "[Parallel(n_jobs=-1)]: Done 1440 out of 1440 | elapsed:  9.2min finished\n"
     ]
    },
    {
     "name": "stdout",
     "output_type": "stream",
     "text": [
      "Downloaded the tutorial in 557.9794 seconds\n",
      "mae = 0.37459792274447834\n",
      "rmse = 0.4982921232563724\n",
      "r2 = 0.45852019460782556\n",
      "22\n",
      "Fitting 5 folds for each of 288 candidates, totalling 1440 fits\n"
     ]
    },
    {
     "name": "stderr",
     "output_type": "stream",
     "text": [
      "[Parallel(n_jobs=-1)]: Using backend LokyBackend with 8 concurrent workers.\n",
      "[Parallel(n_jobs=-1)]: Done  25 tasks      | elapsed:    6.8s\n",
      "[Parallel(n_jobs=-1)]: Done 146 tasks      | elapsed:   48.9s\n",
      "[Parallel(n_jobs=-1)]: Done 349 tasks      | elapsed:  2.2min\n",
      "[Parallel(n_jobs=-1)]: Done 632 tasks      | elapsed:  3.9min\n",
      "[Parallel(n_jobs=-1)]: Done 997 tasks      | elapsed:  6.3min\n",
      "[Parallel(n_jobs=-1)]: Done 1440 out of 1440 | elapsed:  9.2min finished\n"
     ]
    },
    {
     "name": "stdout",
     "output_type": "stream",
     "text": [
      "Downloaded the tutorial in 557.4762 seconds\n",
      "mae = 0.3599822060181159\n",
      "rmse = 0.5031156337078241\n",
      "r2 = 0.4497512103650415\n",
      "23\n",
      "Fitting 5 folds for each of 288 candidates, totalling 1440 fits\n"
     ]
    },
    {
     "name": "stderr",
     "output_type": "stream",
     "text": [
      "[Parallel(n_jobs=-1)]: Using backend LokyBackend with 8 concurrent workers.\n",
      "[Parallel(n_jobs=-1)]: Done  25 tasks      | elapsed:    6.8s\n",
      "[Parallel(n_jobs=-1)]: Done 146 tasks      | elapsed:   48.9s\n",
      "[Parallel(n_jobs=-1)]: Done 349 tasks      | elapsed:  2.2min\n",
      "[Parallel(n_jobs=-1)]: Done 632 tasks      | elapsed:  3.9min\n",
      "[Parallel(n_jobs=-1)]: Done 997 tasks      | elapsed:  6.3min\n",
      "[Parallel(n_jobs=-1)]: Done 1440 out of 1440 | elapsed:  9.2min finished\n"
     ]
    },
    {
     "name": "stdout",
     "output_type": "stream",
     "text": [
      "Downloaded the tutorial in 558.1936 seconds\n",
      "mae = 0.35247891947421967\n",
      "rmse = 0.4955495480169688\n",
      "r2 = 0.4408172847571503\n",
      "24\n",
      "Fitting 5 folds for each of 288 candidates, totalling 1440 fits\n"
     ]
    },
    {
     "name": "stderr",
     "output_type": "stream",
     "text": [
      "[Parallel(n_jobs=-1)]: Using backend LokyBackend with 8 concurrent workers.\n",
      "[Parallel(n_jobs=-1)]: Done  25 tasks      | elapsed:    7.2s\n",
      "[Parallel(n_jobs=-1)]: Done 146 tasks      | elapsed:   48.9s\n",
      "[Parallel(n_jobs=-1)]: Done 349 tasks      | elapsed:  2.2min\n",
      "[Parallel(n_jobs=-1)]: Done 632 tasks      | elapsed:  3.9min\n",
      "[Parallel(n_jobs=-1)]: Done 997 tasks      | elapsed:  6.3min\n",
      "[Parallel(n_jobs=-1)]: Done 1440 out of 1440 | elapsed:  9.2min finished\n"
     ]
    },
    {
     "name": "stdout",
     "output_type": "stream",
     "text": [
      "Downloaded the tutorial in 557.5753 seconds\n",
      "mae = 0.3639312645242324\n",
      "rmse = 0.48699133097201525\n",
      "r2 = 0.43325650267594096\n",
      "25\n",
      "Fitting 5 folds for each of 288 candidates, totalling 1440 fits\n"
     ]
    },
    {
     "name": "stderr",
     "output_type": "stream",
     "text": [
      "[Parallel(n_jobs=-1)]: Using backend LokyBackend with 8 concurrent workers.\n",
      "[Parallel(n_jobs=-1)]: Done  25 tasks      | elapsed:    7.2s\n",
      "[Parallel(n_jobs=-1)]: Done 146 tasks      | elapsed:   49.3s\n",
      "[Parallel(n_jobs=-1)]: Done 349 tasks      | elapsed:  2.2min\n",
      "[Parallel(n_jobs=-1)]: Done 632 tasks      | elapsed:  4.0min\n",
      "[Parallel(n_jobs=-1)]: Done 997 tasks      | elapsed:  6.3min\n",
      "[Parallel(n_jobs=-1)]: Done 1440 out of 1440 | elapsed:  9.2min finished\n"
     ]
    },
    {
     "name": "stdout",
     "output_type": "stream",
     "text": [
      "Downloaded the tutorial in 559.3640 seconds\n",
      "mae = 0.3682572455504265\n",
      "rmse = 0.48621918273769366\n",
      "r2 = 0.4660150375096155\n",
      "26\n",
      "Fitting 5 folds for each of 288 candidates, totalling 1440 fits\n"
     ]
    },
    {
     "name": "stderr",
     "output_type": "stream",
     "text": [
      "[Parallel(n_jobs=-1)]: Using backend LokyBackend with 8 concurrent workers.\n",
      "[Parallel(n_jobs=-1)]: Done  25 tasks      | elapsed:    7.6s\n",
      "[Parallel(n_jobs=-1)]: Done 146 tasks      | elapsed:   49.4s\n",
      "[Parallel(n_jobs=-1)]: Done 349 tasks      | elapsed:  2.3min\n",
      "[Parallel(n_jobs=-1)]: Done 632 tasks      | elapsed:  4.1min\n",
      "[Parallel(n_jobs=-1)]: Done 997 tasks      | elapsed:  6.4min\n",
      "[Parallel(n_jobs=-1)]: Done 1440 out of 1440 | elapsed:  9.4min finished\n"
     ]
    },
    {
     "name": "stdout",
     "output_type": "stream",
     "text": [
      "Downloaded the tutorial in 568.2348 seconds\n",
      "mae = 0.36785262680545017\n",
      "rmse = 0.5144008184206253\n",
      "r2 = 0.4373250053485067\n",
      "27\n",
      "Fitting 5 folds for each of 288 candidates, totalling 1440 fits\n"
     ]
    },
    {
     "name": "stderr",
     "output_type": "stream",
     "text": [
      "[Parallel(n_jobs=-1)]: Using backend LokyBackend with 8 concurrent workers.\n",
      "[Parallel(n_jobs=-1)]: Done  25 tasks      | elapsed:    6.9s\n",
      "[Parallel(n_jobs=-1)]: Done 146 tasks      | elapsed:   49.8s\n",
      "[Parallel(n_jobs=-1)]: Done 349 tasks      | elapsed:  2.2min\n",
      "[Parallel(n_jobs=-1)]: Done 632 tasks      | elapsed:  4.0min\n",
      "[Parallel(n_jobs=-1)]: Done 997 tasks      | elapsed:  6.3min\n",
      "[Parallel(n_jobs=-1)]: Done 1440 out of 1440 | elapsed:  9.3min finished\n"
     ]
    },
    {
     "name": "stdout",
     "output_type": "stream",
     "text": [
      "Downloaded the tutorial in 561.1825 seconds\n",
      "mae = 0.37180619117741065\n",
      "rmse = 0.48849258298059756\n",
      "r2 = 0.4326872409716427\n",
      "28\n",
      "Fitting 5 folds for each of 288 candidates, totalling 1440 fits\n"
     ]
    },
    {
     "name": "stderr",
     "output_type": "stream",
     "text": [
      "[Parallel(n_jobs=-1)]: Using backend LokyBackend with 8 concurrent workers.\n",
      "[Parallel(n_jobs=-1)]: Done  25 tasks      | elapsed:    6.9s\n",
      "[Parallel(n_jobs=-1)]: Done 146 tasks      | elapsed:   49.1s\n",
      "[Parallel(n_jobs=-1)]: Done 349 tasks      | elapsed:  2.2min\n",
      "[Parallel(n_jobs=-1)]: Done 632 tasks      | elapsed:  4.0min\n",
      "[Parallel(n_jobs=-1)]: Done 997 tasks      | elapsed:  6.3min\n",
      "[Parallel(n_jobs=-1)]: Done 1440 out of 1440 | elapsed:  9.2min finished\n"
     ]
    },
    {
     "name": "stdout",
     "output_type": "stream",
     "text": [
      "Downloaded the tutorial in 559.9973 seconds\n",
      "mae = 0.3666840761769151\n",
      "rmse = 0.5124680644328299\n",
      "r2 = 0.4305821342474945\n",
      "29\n",
      "Fitting 5 folds for each of 288 candidates, totalling 1440 fits\n"
     ]
    },
    {
     "name": "stderr",
     "output_type": "stream",
     "text": [
      "[Parallel(n_jobs=-1)]: Using backend LokyBackend with 8 concurrent workers.\n",
      "[Parallel(n_jobs=-1)]: Done  25 tasks      | elapsed:    7.1s\n",
      "[Parallel(n_jobs=-1)]: Done 146 tasks      | elapsed:   48.8s\n",
      "[Parallel(n_jobs=-1)]: Done 349 tasks      | elapsed:  2.2min\n",
      "[Parallel(n_jobs=-1)]: Done 632 tasks      | elapsed:  3.9min\n",
      "[Parallel(n_jobs=-1)]: Done 997 tasks      | elapsed:  6.3min\n",
      "[Parallel(n_jobs=-1)]: Done 1440 out of 1440 | elapsed:  9.2min finished\n"
     ]
    },
    {
     "name": "stdout",
     "output_type": "stream",
     "text": [
      "Downloaded the tutorial in 556.9733 seconds\n",
      "mae = 0.368972914596546\n",
      "rmse = 0.50266884007717\n",
      "r2 = 0.37056462292727965\n",
      "30\n",
      "30\n"
     ]
    }
   ],
   "source": [
    "import time\n",
    "\n",
    "OUTER_FOLDS = 10\n",
    "INNER_FOLDS = 5\n",
    "N_REPEATS = 3\n",
    "\n",
    "# Create the parameter grid based on the results of random search \n",
    "param_grid = {\n",
    "    'bootstrap': [True],\n",
    "    'max_depth': [80, 90, 100, 110],\n",
    "    'max_features': [2, 3],\n",
    "    'min_samples_leaf': [3, 4, 5],\n",
    "    'min_samples_split': [8, 10, 12],\n",
    "    'n_estimators': [100, 200, 300, 1000]\n",
    "}\n",
    "\n",
    "allMAEs = []\n",
    "allRMSEs = []\n",
    "allR2s = []\n",
    "\n",
    "avgKFolds = RepeatedKFold(n_splits=OUTER_FOLDS, n_repeats=N_REPEATS, random_state=1)\n",
    "counter = 0\n",
    "# outer cross validation is to get the average metrics across random folds in\n",
    "# order to select best model to use\n",
    "for train_index, test_index in avgKFolds.split(X_train_full):\n",
    "  X_train, X_val = X_train_full.iloc[train_index], X_train_full.iloc[test_index]\n",
    "  Y_train, Y_val = Y_train_full.iloc[train_index], Y_train_full.iloc[test_index]\n",
    "  \n",
    "  # inner cross validation is for the best hyperparameter\n",
    "  cv = RepeatedKFold(n_splits=INNER_FOLDS, n_repeats=1, random_state=1)\n",
    "  model = RandomForestRegressor(n_estimators = 1000, random_state = 42)\n",
    "\n",
    "  grid_search = GridSearchCV(estimator = model, param_grid = param_grid, \n",
    "                              cv = cv, n_jobs = -1, verbose = 2)\n",
    "  \n",
    "  tic = time.perf_counter()\n",
    "  # col 0 is Poor Mental Health Days\n",
    "  grid_search.fit(X_train, Y_train.iloc[:,0]) \n",
    "\n",
    "  toc = time.perf_counter() \n",
    "  print(f\"Downloaded the tutorial in {toc - tic:0.4f} seconds\")\n",
    "\n",
    "  predictions = grid_search.predict(X_val)\n",
    "  mae = mean_absolute_error(Y_val.iloc[:,0], predictions)\n",
    "  print(\"mae = \" + str(mae))\n",
    "  rmse = math.sqrt(mean_squared_error(Y_val.iloc[:,0], predictions))\n",
    "  print(\"rmse = \" + str(rmse))\n",
    "  r2 = r2_score(Y_val.iloc[:,0], predictions)\n",
    "  print(\"r2 = \" + str(r2))\n",
    "\n",
    "  allMAEs.append(mae)\n",
    "  allRMSEs.append(rmse)\n",
    "  allR2s.append(r2)\n",
    "  counter+=1\n",
    "  print(counter)\n",
    "    \n",
    "print(counter)\n",
    "\n",
    "\n",
    "\n",
    "  "
   ]
  },
  {
   "cell_type": "code",
   "execution_count": 6,
   "metadata": {
    "id": "dac44877"
   },
   "outputs": [],
   "source": [
    "averageMAE = sum(allMAEs)/(OUTER_FOLDS * N_REPEATS)\n",
    "averageRMSE = sum(allRMSEs)/(OUTER_FOLDS * N_REPEATS)\n",
    "averageR2 = sum(allR2s)/(OUTER_FOLDS * N_REPEATS)\n",
    "\n",
    "\n",
    "# Make sure to change this model number for each of the different models. It\n",
    "# just dictates which row in the csv to put the data. \n",
    "model_number = 8\n",
    "\n",
    "full_metrics_df = pd.read_csv(\"All_Model_Metrics.csv\")\n",
    "full_metrics_df.loc[model_number] = [\"Random Forest Regression Poor Mental Health Days\", averageMAE, averageRMSE, averageR2]\n",
    "full_metrics_df.to_csv('All_Model_Metrics.csv', index=False)"
   ]
  },
  {
   "cell_type": "markdown",
   "metadata": {
    "id": "a17d5c16"
   },
   "source": [
    "### Random Forest regression for predicting Suicides"
   ]
  },
  {
   "cell_type": "code",
   "execution_count": 8,
   "metadata": {
    "colab": {
     "base_uri": "https://localhost:8080/"
    },
    "id": "04ac7535",
    "outputId": "77b46fcc-205c-4935-bf07-06bdaf93b0c9"
   },
   "outputs": [
    {
     "name": "stdout",
     "output_type": "stream",
     "text": [
      "Fitting 5 folds for each of 288 candidates, totalling 1440 fits\n"
     ]
    },
    {
     "name": "stderr",
     "output_type": "stream",
     "text": [
      "[Parallel(n_jobs=-1)]: Using backend LokyBackend with 8 concurrent workers.\n",
      "[Parallel(n_jobs=-1)]: Done  25 tasks      | elapsed:    8.0s\n",
      "[Parallel(n_jobs=-1)]: Done 146 tasks      | elapsed:   53.5s\n",
      "[Parallel(n_jobs=-1)]: Done 349 tasks      | elapsed:  2.5min\n",
      "[Parallel(n_jobs=-1)]: Done 632 tasks      | elapsed:  4.4min\n",
      "[Parallel(n_jobs=-1)]: Done 997 tasks      | elapsed:  6.9min\n",
      "[Parallel(n_jobs=-1)]: Done 1440 out of 1440 | elapsed: 10.0min finished\n"
     ]
    },
    {
     "name": "stdout",
     "output_type": "stream",
     "text": [
      "mae = 4.0946531741494505\n",
      "rmse = 6.301813317855992\n",
      "r2 = 0.44276729150060046\n",
      "Fitting 5 folds for each of 288 candidates, totalling 1440 fits\n"
     ]
    },
    {
     "name": "stderr",
     "output_type": "stream",
     "text": [
      "[Parallel(n_jobs=-1)]: Using backend LokyBackend with 8 concurrent workers.\n",
      "[Parallel(n_jobs=-1)]: Done  25 tasks      | elapsed:    7.6s\n",
      "[Parallel(n_jobs=-1)]: Done 146 tasks      | elapsed:   53.5s\n",
      "[Parallel(n_jobs=-1)]: Done 349 tasks      | elapsed:  2.4min\n",
      "[Parallel(n_jobs=-1)]: Done 632 tasks      | elapsed:  4.3min\n",
      "[Parallel(n_jobs=-1)]: Done 997 tasks      | elapsed:  6.8min\n",
      "[Parallel(n_jobs=-1)]: Done 1440 out of 1440 | elapsed: 10.0min finished\n"
     ]
    },
    {
     "name": "stdout",
     "output_type": "stream",
     "text": [
      "mae = 3.5267230971529115\n",
      "rmse = 4.9058418177252685\n",
      "r2 = 0.5000966412402603\n",
      "Fitting 5 folds for each of 288 candidates, totalling 1440 fits\n"
     ]
    },
    {
     "name": "stderr",
     "output_type": "stream",
     "text": [
      "[Parallel(n_jobs=-1)]: Using backend LokyBackend with 8 concurrent workers.\n",
      "[Parallel(n_jobs=-1)]: Done  25 tasks      | elapsed:    7.6s\n",
      "[Parallel(n_jobs=-1)]: Done 146 tasks      | elapsed:   53.6s\n",
      "[Parallel(n_jobs=-1)]: Done 349 tasks      | elapsed:  2.4min\n",
      "[Parallel(n_jobs=-1)]: Done 632 tasks      | elapsed:  4.3min\n",
      "[Parallel(n_jobs=-1)]: Done 997 tasks      | elapsed:  6.9min\n",
      "[Parallel(n_jobs=-1)]: Done 1440 out of 1440 | elapsed: 10.0min finished\n"
     ]
    },
    {
     "name": "stdout",
     "output_type": "stream",
     "text": [
      "mae = 4.054684224474753\n",
      "rmse = 5.444054891204874\n",
      "r2 = 0.5256439902512353\n",
      "Fitting 5 folds for each of 288 candidates, totalling 1440 fits\n"
     ]
    },
    {
     "name": "stderr",
     "output_type": "stream",
     "text": [
      "[Parallel(n_jobs=-1)]: Using backend LokyBackend with 8 concurrent workers.\n",
      "[Parallel(n_jobs=-1)]: Done  25 tasks      | elapsed:    7.6s\n",
      "[Parallel(n_jobs=-1)]: Done 146 tasks      | elapsed:   53.3s\n",
      "[Parallel(n_jobs=-1)]: Done 349 tasks      | elapsed:  2.4min\n",
      "[Parallel(n_jobs=-1)]: Done 632 tasks      | elapsed:  4.3min\n",
      "[Parallel(n_jobs=-1)]: Done 997 tasks      | elapsed:  6.8min\n",
      "[Parallel(n_jobs=-1)]: Done 1440 out of 1440 | elapsed: 10.0min finished\n"
     ]
    },
    {
     "name": "stdout",
     "output_type": "stream",
     "text": [
      "mae = 4.044710965164961\n",
      "rmse = 5.501064036749785\n",
      "r2 = 0.4872593033580036\n",
      "Fitting 5 folds for each of 288 candidates, totalling 1440 fits\n"
     ]
    },
    {
     "name": "stderr",
     "output_type": "stream",
     "text": [
      "[Parallel(n_jobs=-1)]: Using backend LokyBackend with 8 concurrent workers.\n",
      "[Parallel(n_jobs=-1)]: Done  25 tasks      | elapsed:    7.6s\n",
      "[Parallel(n_jobs=-1)]: Done 146 tasks      | elapsed:   53.1s\n",
      "[Parallel(n_jobs=-1)]: Done 349 tasks      | elapsed:  2.4min\n",
      "[Parallel(n_jobs=-1)]: Done 632 tasks      | elapsed:  4.3min\n",
      "[Parallel(n_jobs=-1)]: Done 997 tasks      | elapsed:  6.8min\n",
      "[Parallel(n_jobs=-1)]: Done 1440 out of 1440 | elapsed: 10.0min finished\n"
     ]
    },
    {
     "name": "stdout",
     "output_type": "stream",
     "text": [
      "mae = 3.6643621284190258\n",
      "rmse = 4.6949423989134536\n",
      "r2 = 0.526670379921216\n",
      "Fitting 5 folds for each of 288 candidates, totalling 1440 fits\n"
     ]
    },
    {
     "name": "stderr",
     "output_type": "stream",
     "text": [
      "[Parallel(n_jobs=-1)]: Using backend LokyBackend with 8 concurrent workers.\n",
      "[Parallel(n_jobs=-1)]: Done  25 tasks      | elapsed:    7.6s\n",
      "[Parallel(n_jobs=-1)]: Done 146 tasks      | elapsed:   53.0s\n",
      "[Parallel(n_jobs=-1)]: Done 349 tasks      | elapsed:  2.4min\n",
      "[Parallel(n_jobs=-1)]: Done 632 tasks      | elapsed:  4.3min\n",
      "[Parallel(n_jobs=-1)]: Done 997 tasks      | elapsed:  6.8min\n",
      "[Parallel(n_jobs=-1)]: Done 1440 out of 1440 | elapsed: 10.0min finished\n"
     ]
    },
    {
     "name": "stdout",
     "output_type": "stream",
     "text": [
      "mae = 3.814919089911455\n",
      "rmse = 5.39262785167617\n",
      "r2 = 0.5105915245925247\n",
      "Fitting 5 folds for each of 288 candidates, totalling 1440 fits\n"
     ]
    },
    {
     "name": "stderr",
     "output_type": "stream",
     "text": [
      "[Parallel(n_jobs=-1)]: Using backend LokyBackend with 8 concurrent workers.\n",
      "[Parallel(n_jobs=-1)]: Done  25 tasks      | elapsed:    7.4s\n",
      "[Parallel(n_jobs=-1)]: Done 146 tasks      | elapsed:   52.8s\n",
      "[Parallel(n_jobs=-1)]: Done 349 tasks      | elapsed:  2.4min\n",
      "[Parallel(n_jobs=-1)]: Done 632 tasks      | elapsed:  4.3min\n",
      "[Parallel(n_jobs=-1)]: Done 997 tasks      | elapsed:  6.8min\n",
      "[Parallel(n_jobs=-1)]: Done 1440 out of 1440 | elapsed:  9.9min finished\n"
     ]
    },
    {
     "name": "stdout",
     "output_type": "stream",
     "text": [
      "mae = 3.7593108252929044\n",
      "rmse = 5.049905653984309\n",
      "r2 = 0.45152903925063925\n",
      "Fitting 5 folds for each of 288 candidates, totalling 1440 fits\n"
     ]
    },
    {
     "name": "stderr",
     "output_type": "stream",
     "text": [
      "[Parallel(n_jobs=-1)]: Using backend LokyBackend with 8 concurrent workers.\n",
      "[Parallel(n_jobs=-1)]: Done  25 tasks      | elapsed:    7.5s\n",
      "[Parallel(n_jobs=-1)]: Done 146 tasks      | elapsed:   53.1s\n",
      "[Parallel(n_jobs=-1)]: Done 349 tasks      | elapsed:  2.4min\n",
      "[Parallel(n_jobs=-1)]: Done 632 tasks      | elapsed:  4.3min\n",
      "[Parallel(n_jobs=-1)]: Done 997 tasks      | elapsed:  6.8min\n",
      "[Parallel(n_jobs=-1)]: Done 1440 out of 1440 | elapsed: 10.0min finished\n"
     ]
    },
    {
     "name": "stdout",
     "output_type": "stream",
     "text": [
      "mae = 3.949768769490121\n",
      "rmse = 5.79654470057022\n",
      "r2 = 0.43673353853659436\n",
      "Fitting 5 folds for each of 288 candidates, totalling 1440 fits\n"
     ]
    },
    {
     "name": "stderr",
     "output_type": "stream",
     "text": [
      "[Parallel(n_jobs=-1)]: Using backend LokyBackend with 8 concurrent workers.\n",
      "[Parallel(n_jobs=-1)]: Done  25 tasks      | elapsed:    7.7s\n",
      "[Parallel(n_jobs=-1)]: Done 146 tasks      | elapsed:   53.2s\n",
      "[Parallel(n_jobs=-1)]: Done 349 tasks      | elapsed:  2.4min\n",
      "[Parallel(n_jobs=-1)]: Done 632 tasks      | elapsed:  4.3min\n",
      "[Parallel(n_jobs=-1)]: Done 997 tasks      | elapsed:  6.8min\n",
      "[Parallel(n_jobs=-1)]: Done 1440 out of 1440 | elapsed: 10.0min finished\n"
     ]
    },
    {
     "name": "stdout",
     "output_type": "stream",
     "text": [
      "mae = 3.9037235026658776\n",
      "rmse = 5.445098340311848\n",
      "r2 = 0.5258458027646336\n",
      "Fitting 5 folds for each of 288 candidates, totalling 1440 fits\n"
     ]
    },
    {
     "name": "stderr",
     "output_type": "stream",
     "text": [
      "[Parallel(n_jobs=-1)]: Using backend LokyBackend with 8 concurrent workers.\n",
      "[Parallel(n_jobs=-1)]: Done  25 tasks      | elapsed:    7.5s\n",
      "[Parallel(n_jobs=-1)]: Done 146 tasks      | elapsed:   52.9s\n",
      "[Parallel(n_jobs=-1)]: Done 349 tasks      | elapsed:  2.4min\n",
      "[Parallel(n_jobs=-1)]: Done 632 tasks      | elapsed:  4.3min\n",
      "[Parallel(n_jobs=-1)]: Done 997 tasks      | elapsed:  6.8min\n",
      "[Parallel(n_jobs=-1)]: Done 1440 out of 1440 | elapsed: 10.0min finished\n"
     ]
    },
    {
     "name": "stdout",
     "output_type": "stream",
     "text": [
      "mae = 3.835025673367958\n",
      "rmse = 5.295942136853406\n",
      "r2 = 0.5074025289172829\n",
      "Fitting 5 folds for each of 288 candidates, totalling 1440 fits\n"
     ]
    },
    {
     "name": "stderr",
     "output_type": "stream",
     "text": [
      "[Parallel(n_jobs=-1)]: Using backend LokyBackend with 8 concurrent workers.\n",
      "[Parallel(n_jobs=-1)]: Done  25 tasks      | elapsed:    7.6s\n",
      "[Parallel(n_jobs=-1)]: Done 146 tasks      | elapsed:   53.3s\n",
      "[Parallel(n_jobs=-1)]: Done 349 tasks      | elapsed:  2.4min\n",
      "[Parallel(n_jobs=-1)]: Done 632 tasks      | elapsed:  4.3min\n",
      "[Parallel(n_jobs=-1)]: Done 997 tasks      | elapsed:  6.8min\n",
      "[Parallel(n_jobs=-1)]: Done 1440 out of 1440 | elapsed: 10.0min finished\n"
     ]
    },
    {
     "name": "stdout",
     "output_type": "stream",
     "text": [
      "mae = 4.016744331282044\n",
      "rmse = 5.494012256578335\n",
      "r2 = 0.5222789852515615\n",
      "Fitting 5 folds for each of 288 candidates, totalling 1440 fits\n"
     ]
    },
    {
     "name": "stderr",
     "output_type": "stream",
     "text": [
      "[Parallel(n_jobs=-1)]: Using backend LokyBackend with 8 concurrent workers.\n",
      "[Parallel(n_jobs=-1)]: Done  25 tasks      | elapsed:    7.4s\n",
      "[Parallel(n_jobs=-1)]: Done 146 tasks      | elapsed:   52.9s\n",
      "[Parallel(n_jobs=-1)]: Done 349 tasks      | elapsed:  2.4min\n",
      "[Parallel(n_jobs=-1)]: Done 632 tasks      | elapsed:  4.3min\n",
      "[Parallel(n_jobs=-1)]: Done 997 tasks      | elapsed:  6.8min\n",
      "[Parallel(n_jobs=-1)]: Done 1440 out of 1440 | elapsed: 10.0min finished\n"
     ]
    },
    {
     "name": "stdout",
     "output_type": "stream",
     "text": [
      "mae = 3.782969128218962\n",
      "rmse = 5.077776978061556\n",
      "r2 = 0.45705406179838104\n",
      "Fitting 5 folds for each of 288 candidates, totalling 1440 fits\n"
     ]
    },
    {
     "name": "stderr",
     "output_type": "stream",
     "text": [
      "[Parallel(n_jobs=-1)]: Using backend LokyBackend with 8 concurrent workers.\n",
      "[Parallel(n_jobs=-1)]: Done  25 tasks      | elapsed:    7.5s\n",
      "[Parallel(n_jobs=-1)]: Done 146 tasks      | elapsed:   52.9s\n",
      "[Parallel(n_jobs=-1)]: Done 349 tasks      | elapsed:  2.4min\n",
      "[Parallel(n_jobs=-1)]: Done 632 tasks      | elapsed:  4.3min\n",
      "[Parallel(n_jobs=-1)]: Done 997 tasks      | elapsed:  6.8min\n",
      "[Parallel(n_jobs=-1)]: Done 1440 out of 1440 | elapsed:  9.9min finished\n"
     ]
    },
    {
     "name": "stdout",
     "output_type": "stream",
     "text": [
      "mae = 3.9686845662077097\n",
      "rmse = 5.651736146303269\n",
      "r2 = 0.5018127665096629\n",
      "Fitting 5 folds for each of 288 candidates, totalling 1440 fits\n"
     ]
    },
    {
     "name": "stderr",
     "output_type": "stream",
     "text": [
      "[Parallel(n_jobs=-1)]: Using backend LokyBackend with 8 concurrent workers.\n",
      "[Parallel(n_jobs=-1)]: Done  25 tasks      | elapsed:    7.6s\n",
      "[Parallel(n_jobs=-1)]: Done 146 tasks      | elapsed:   53.1s\n",
      "[Parallel(n_jobs=-1)]: Done 349 tasks      | elapsed:  2.4min\n",
      "[Parallel(n_jobs=-1)]: Done 632 tasks      | elapsed:  4.3min\n",
      "[Parallel(n_jobs=-1)]: Done 997 tasks      | elapsed:  6.8min\n",
      "[Parallel(n_jobs=-1)]: Done 1440 out of 1440 | elapsed: 10.0min finished\n"
     ]
    },
    {
     "name": "stdout",
     "output_type": "stream",
     "text": [
      "mae = 3.666734277561551\n",
      "rmse = 4.953598758840162\n",
      "r2 = 0.52676016670328\n",
      "Fitting 5 folds for each of 288 candidates, totalling 1440 fits\n"
     ]
    },
    {
     "name": "stderr",
     "output_type": "stream",
     "text": [
      "[Parallel(n_jobs=-1)]: Using backend LokyBackend with 8 concurrent workers.\n",
      "[Parallel(n_jobs=-1)]: Done  25 tasks      | elapsed:    7.5s\n",
      "[Parallel(n_jobs=-1)]: Done 146 tasks      | elapsed:   53.6s\n",
      "[Parallel(n_jobs=-1)]: Done 349 tasks      | elapsed:  2.4min\n",
      "[Parallel(n_jobs=-1)]: Done 632 tasks      | elapsed:  4.3min\n",
      "[Parallel(n_jobs=-1)]: Done 997 tasks      | elapsed:  6.8min\n",
      "[Parallel(n_jobs=-1)]: Done 1440 out of 1440 | elapsed: 10.0min finished\n"
     ]
    },
    {
     "name": "stdout",
     "output_type": "stream",
     "text": [
      "mae = 3.507454271322519\n",
      "rmse = 4.810567564147822\n",
      "r2 = 0.5084105860890684\n",
      "Fitting 5 folds for each of 288 candidates, totalling 1440 fits\n"
     ]
    },
    {
     "name": "stderr",
     "output_type": "stream",
     "text": [
      "[Parallel(n_jobs=-1)]: Using backend LokyBackend with 8 concurrent workers.\n",
      "[Parallel(n_jobs=-1)]: Done  25 tasks      | elapsed:    7.5s\n",
      "[Parallel(n_jobs=-1)]: Done 146 tasks      | elapsed:   53.3s\n",
      "[Parallel(n_jobs=-1)]: Done 349 tasks      | elapsed:  2.4min\n",
      "[Parallel(n_jobs=-1)]: Done 632 tasks      | elapsed:  4.3min\n",
      "[Parallel(n_jobs=-1)]: Done 997 tasks      | elapsed:  6.8min\n",
      "[Parallel(n_jobs=-1)]: Done 1440 out of 1440 | elapsed: 10.0min finished\n"
     ]
    },
    {
     "name": "stdout",
     "output_type": "stream",
     "text": [
      "mae = 4.05998521875912\n",
      "rmse = 5.729840949327761\n",
      "r2 = 0.4835645223484597\n",
      "Fitting 5 folds for each of 288 candidates, totalling 1440 fits\n"
     ]
    },
    {
     "name": "stderr",
     "output_type": "stream",
     "text": [
      "[Parallel(n_jobs=-1)]: Using backend LokyBackend with 8 concurrent workers.\n",
      "[Parallel(n_jobs=-1)]: Done  25 tasks      | elapsed:    7.8s\n",
      "[Parallel(n_jobs=-1)]: Done 146 tasks      | elapsed:   53.1s\n",
      "[Parallel(n_jobs=-1)]: Done 349 tasks      | elapsed:  2.4min\n",
      "[Parallel(n_jobs=-1)]: Done 632 tasks      | elapsed:  4.3min\n",
      "[Parallel(n_jobs=-1)]: Done 997 tasks      | elapsed:  6.8min\n",
      "[Parallel(n_jobs=-1)]: Done 1440 out of 1440 | elapsed: 10.0min finished\n"
     ]
    },
    {
     "name": "stdout",
     "output_type": "stream",
     "text": [
      "mae = 3.789997757148017\n",
      "rmse = 4.865962408633181\n",
      "r2 = 0.5172005021253563\n",
      "Fitting 5 folds for each of 288 candidates, totalling 1440 fits\n"
     ]
    },
    {
     "name": "stderr",
     "output_type": "stream",
     "text": [
      "[Parallel(n_jobs=-1)]: Using backend LokyBackend with 8 concurrent workers.\n",
      "[Parallel(n_jobs=-1)]: Done  25 tasks      | elapsed:    7.8s\n",
      "[Parallel(n_jobs=-1)]: Done 146 tasks      | elapsed:   52.9s\n",
      "[Parallel(n_jobs=-1)]: Done 349 tasks      | elapsed:  2.4min\n",
      "[Parallel(n_jobs=-1)]: Done 632 tasks      | elapsed:  4.3min\n",
      "[Parallel(n_jobs=-1)]: Done 997 tasks      | elapsed:  6.8min\n",
      "[Parallel(n_jobs=-1)]: Done 1440 out of 1440 | elapsed: 10.0min finished\n"
     ]
    },
    {
     "name": "stdout",
     "output_type": "stream",
     "text": [
      "mae = 3.9517192517800948\n",
      "rmse = 6.3098391699271605\n",
      "r2 = 0.4304996504986711\n",
      "Fitting 5 folds for each of 288 candidates, totalling 1440 fits\n"
     ]
    },
    {
     "name": "stderr",
     "output_type": "stream",
     "text": [
      "[Parallel(n_jobs=-1)]: Using backend LokyBackend with 8 concurrent workers.\n",
      "[Parallel(n_jobs=-1)]: Done  25 tasks      | elapsed:    7.5s\n",
      "[Parallel(n_jobs=-1)]: Done 146 tasks      | elapsed:   53.4s\n",
      "[Parallel(n_jobs=-1)]: Done 349 tasks      | elapsed:  2.4min\n",
      "[Parallel(n_jobs=-1)]: Done 632 tasks      | elapsed:  4.3min\n",
      "[Parallel(n_jobs=-1)]: Done 997 tasks      | elapsed:  6.8min\n",
      "[Parallel(n_jobs=-1)]: Done 1440 out of 1440 | elapsed: 10.0min finished\n"
     ]
    },
    {
     "name": "stdout",
     "output_type": "stream",
     "text": [
      "mae = 4.0885797166493445\n",
      "rmse = 5.850903592101147\n",
      "r2 = 0.4671418659380292\n",
      "Fitting 5 folds for each of 288 candidates, totalling 1440 fits\n"
     ]
    },
    {
     "name": "stderr",
     "output_type": "stream",
     "text": [
      "[Parallel(n_jobs=-1)]: Using backend LokyBackend with 8 concurrent workers.\n",
      "[Parallel(n_jobs=-1)]: Done  25 tasks      | elapsed:    7.6s\n",
      "[Parallel(n_jobs=-1)]: Done 146 tasks      | elapsed:   53.0s\n",
      "[Parallel(n_jobs=-1)]: Done 349 tasks      | elapsed:  2.4min\n",
      "[Parallel(n_jobs=-1)]: Done 632 tasks      | elapsed:  4.3min\n",
      "[Parallel(n_jobs=-1)]: Done 997 tasks      | elapsed:  6.8min\n",
      "[Parallel(n_jobs=-1)]: Done 1440 out of 1440 | elapsed: 10.0min finished\n"
     ]
    },
    {
     "name": "stdout",
     "output_type": "stream",
     "text": [
      "mae = 3.8227456074133057\n",
      "rmse = 4.998875669130915\n",
      "r2 = 0.5228986967361772\n",
      "Fitting 5 folds for each of 288 candidates, totalling 1440 fits\n"
     ]
    },
    {
     "name": "stderr",
     "output_type": "stream",
     "text": [
      "[Parallel(n_jobs=-1)]: Using backend LokyBackend with 8 concurrent workers.\n",
      "[Parallel(n_jobs=-1)]: Done  25 tasks      | elapsed:    7.5s\n",
      "[Parallel(n_jobs=-1)]: Done 146 tasks      | elapsed:   52.9s\n",
      "[Parallel(n_jobs=-1)]: Done 349 tasks      | elapsed:  2.4min\n",
      "[Parallel(n_jobs=-1)]: Done 632 tasks      | elapsed:  4.3min\n",
      "[Parallel(n_jobs=-1)]: Done 997 tasks      | elapsed:  6.8min\n",
      "[Parallel(n_jobs=-1)]: Done 1440 out of 1440 | elapsed: 10.0min finished\n"
     ]
    },
    {
     "name": "stdout",
     "output_type": "stream",
     "text": [
      "mae = 3.592785136136781\n",
      "rmse = 4.906212845455419\n",
      "r2 = 0.47009605071544214\n",
      "Fitting 5 folds for each of 288 candidates, totalling 1440 fits\n"
     ]
    },
    {
     "name": "stderr",
     "output_type": "stream",
     "text": [
      "[Parallel(n_jobs=-1)]: Using backend LokyBackend with 8 concurrent workers.\n",
      "[Parallel(n_jobs=-1)]: Done  25 tasks      | elapsed:    7.9s\n",
      "[Parallel(n_jobs=-1)]: Done 146 tasks      | elapsed:   54.5s\n",
      "[Parallel(n_jobs=-1)]: Done 349 tasks      | elapsed:  2.4min\n",
      "[Parallel(n_jobs=-1)]: Done 632 tasks      | elapsed:  4.3min\n",
      "[Parallel(n_jobs=-1)]: Done 997 tasks      | elapsed:  6.9min\n",
      "[Parallel(n_jobs=-1)]: Done 1440 out of 1440 | elapsed: 10.1min finished\n"
     ]
    },
    {
     "name": "stdout",
     "output_type": "stream",
     "text": [
      "mae = 4.01748699498412\n",
      "rmse = 6.3761612892800725\n",
      "r2 = 0.48388362451905986\n",
      "Fitting 5 folds for each of 288 candidates, totalling 1440 fits\n"
     ]
    },
    {
     "name": "stderr",
     "output_type": "stream",
     "text": [
      "[Parallel(n_jobs=-1)]: Using backend LokyBackend with 8 concurrent workers.\n",
      "[Parallel(n_jobs=-1)]: Done  25 tasks      | elapsed:    7.9s\n",
      "[Parallel(n_jobs=-1)]: Done 146 tasks      | elapsed:   53.2s\n",
      "[Parallel(n_jobs=-1)]: Done 349 tasks      | elapsed:  2.4min\n",
      "[Parallel(n_jobs=-1)]: Done 632 tasks      | elapsed:  4.3min\n",
      "[Parallel(n_jobs=-1)]: Done 997 tasks      | elapsed:  6.8min\n",
      "[Parallel(n_jobs=-1)]: Done 1440 out of 1440 | elapsed: 10.0min finished\n"
     ]
    },
    {
     "name": "stdout",
     "output_type": "stream",
     "text": [
      "mae = 3.97357203316804\n",
      "rmse = 5.550650244374696\n",
      "r2 = 0.42975759990847817\n",
      "Fitting 5 folds for each of 288 candidates, totalling 1440 fits\n"
     ]
    },
    {
     "name": "stderr",
     "output_type": "stream",
     "text": [
      "[Parallel(n_jobs=-1)]: Using backend LokyBackend with 8 concurrent workers.\n",
      "[Parallel(n_jobs=-1)]: Done  25 tasks      | elapsed:    7.6s\n",
      "[Parallel(n_jobs=-1)]: Done 146 tasks      | elapsed:   52.8s\n",
      "[Parallel(n_jobs=-1)]: Done 349 tasks      | elapsed:  2.4min\n",
      "[Parallel(n_jobs=-1)]: Done 632 tasks      | elapsed:  4.3min\n",
      "[Parallel(n_jobs=-1)]: Done 997 tasks      | elapsed:  6.8min\n",
      "[Parallel(n_jobs=-1)]: Done 1440 out of 1440 | elapsed: 10.0min finished\n"
     ]
    },
    {
     "name": "stdout",
     "output_type": "stream",
     "text": [
      "mae = 3.6864212189821877\n",
      "rmse = 4.8209726878699986\n",
      "r2 = 0.5719212850076008\n",
      "Fitting 5 folds for each of 288 candidates, totalling 1440 fits\n"
     ]
    },
    {
     "name": "stderr",
     "output_type": "stream",
     "text": [
      "[Parallel(n_jobs=-1)]: Using backend LokyBackend with 8 concurrent workers.\n",
      "[Parallel(n_jobs=-1)]: Done  25 tasks      | elapsed:    7.7s\n",
      "[Parallel(n_jobs=-1)]: Done 146 tasks      | elapsed:   53.3s\n",
      "[Parallel(n_jobs=-1)]: Done 349 tasks      | elapsed:  2.4min\n",
      "[Parallel(n_jobs=-1)]: Done 632 tasks      | elapsed:  4.3min\n",
      "[Parallel(n_jobs=-1)]: Done 997 tasks      | elapsed:  6.8min\n",
      "[Parallel(n_jobs=-1)]: Done 1440 out of 1440 | elapsed:  9.9min finished\n"
     ]
    },
    {
     "name": "stdout",
     "output_type": "stream",
     "text": [
      "mae = 4.105493574117818\n",
      "rmse = 5.64906318182085\n",
      "r2 = 0.5500151585604764\n",
      "Fitting 5 folds for each of 288 candidates, totalling 1440 fits\n"
     ]
    },
    {
     "name": "stderr",
     "output_type": "stream",
     "text": [
      "[Parallel(n_jobs=-1)]: Using backend LokyBackend with 8 concurrent workers.\n",
      "[Parallel(n_jobs=-1)]: Done  25 tasks      | elapsed:    7.7s\n",
      "[Parallel(n_jobs=-1)]: Done 146 tasks      | elapsed:   52.8s\n",
      "[Parallel(n_jobs=-1)]: Done 349 tasks      | elapsed:  2.4min\n",
      "[Parallel(n_jobs=-1)]: Done 632 tasks      | elapsed:  4.3min\n",
      "[Parallel(n_jobs=-1)]: Done 997 tasks      | elapsed:  6.8min\n",
      "[Parallel(n_jobs=-1)]: Done 1440 out of 1440 | elapsed:  9.9min finished\n"
     ]
    },
    {
     "name": "stdout",
     "output_type": "stream",
     "text": [
      "mae = 3.7888607324927057\n",
      "rmse = 5.554843044492426\n",
      "r2 = 0.460989929127267\n",
      "Fitting 5 folds for each of 288 candidates, totalling 1440 fits\n"
     ]
    },
    {
     "name": "stderr",
     "output_type": "stream",
     "text": [
      "[Parallel(n_jobs=-1)]: Using backend LokyBackend with 8 concurrent workers.\n",
      "[Parallel(n_jobs=-1)]: Done  25 tasks      | elapsed:    7.5s\n",
      "[Parallel(n_jobs=-1)]: Done 146 tasks      | elapsed:   52.9s\n",
      "[Parallel(n_jobs=-1)]: Done 349 tasks      | elapsed:  2.4min\n",
      "[Parallel(n_jobs=-1)]: Done 632 tasks      | elapsed:  4.3min\n",
      "[Parallel(n_jobs=-1)]: Done 997 tasks      | elapsed:  6.8min\n",
      "[Parallel(n_jobs=-1)]: Done 1440 out of 1440 | elapsed: 10.0min finished\n"
     ]
    },
    {
     "name": "stdout",
     "output_type": "stream",
     "text": [
      "mae = 3.4609708378907564\n",
      "rmse = 4.483632299728968\n",
      "r2 = 0.47770679227972546\n",
      "Fitting 5 folds for each of 288 candidates, totalling 1440 fits\n"
     ]
    },
    {
     "name": "stderr",
     "output_type": "stream",
     "text": [
      "[Parallel(n_jobs=-1)]: Using backend LokyBackend with 8 concurrent workers.\n",
      "[Parallel(n_jobs=-1)]: Done  25 tasks      | elapsed:    7.9s\n",
      "[Parallel(n_jobs=-1)]: Done 146 tasks      | elapsed:   53.2s\n",
      "[Parallel(n_jobs=-1)]: Done 349 tasks      | elapsed:  2.4min\n",
      "[Parallel(n_jobs=-1)]: Done 632 tasks      | elapsed:  4.3min\n",
      "[Parallel(n_jobs=-1)]: Done 997 tasks      | elapsed:  6.8min\n",
      "[Parallel(n_jobs=-1)]: Done 1440 out of 1440 | elapsed: 10.0min finished\n"
     ]
    },
    {
     "name": "stdout",
     "output_type": "stream",
     "text": [
      "mae = 4.1505845754175095\n",
      "rmse = 5.863433393835188\n",
      "r2 = 0.4870760313459499\n",
      "Fitting 5 folds for each of 288 candidates, totalling 1440 fits\n"
     ]
    },
    {
     "name": "stderr",
     "output_type": "stream",
     "text": [
      "[Parallel(n_jobs=-1)]: Using backend LokyBackend with 8 concurrent workers.\n",
      "[Parallel(n_jobs=-1)]: Done  25 tasks      | elapsed:    7.5s\n",
      "[Parallel(n_jobs=-1)]: Done 146 tasks      | elapsed:   53.0s\n",
      "[Parallel(n_jobs=-1)]: Done 349 tasks      | elapsed:  2.4min\n",
      "[Parallel(n_jobs=-1)]: Done 632 tasks      | elapsed:  4.3min\n",
      "[Parallel(n_jobs=-1)]: Done 997 tasks      | elapsed:  6.8min\n",
      "[Parallel(n_jobs=-1)]: Done 1440 out of 1440 | elapsed: 10.0min finished\n"
     ]
    },
    {
     "name": "stdout",
     "output_type": "stream",
     "text": [
      "mae = 3.7980613478357133\n",
      "rmse = 5.119913508828482\n",
      "r2 = 0.4799005489061682\n",
      "Fitting 5 folds for each of 288 candidates, totalling 1440 fits\n"
     ]
    },
    {
     "name": "stderr",
     "output_type": "stream",
     "text": [
      "[Parallel(n_jobs=-1)]: Using backend LokyBackend with 8 concurrent workers.\n",
      "[Parallel(n_jobs=-1)]: Done  25 tasks      | elapsed:    7.2s\n",
      "[Parallel(n_jobs=-1)]: Done 146 tasks      | elapsed:   52.4s\n",
      "[Parallel(n_jobs=-1)]: Done 349 tasks      | elapsed:  2.4min\n",
      "[Parallel(n_jobs=-1)]: Done 632 tasks      | elapsed:  4.3min\n",
      "[Parallel(n_jobs=-1)]: Done 997 tasks      | elapsed:  6.8min\n",
      "[Parallel(n_jobs=-1)]: Done 1440 out of 1440 | elapsed: 10.0min finished\n"
     ]
    },
    {
     "name": "stdout",
     "output_type": "stream",
     "text": [
      "mae = 4.062002284978816\n",
      "rmse = 5.41375164231074\n",
      "r2 = 0.4750525183303177\n"
     ]
    }
   ],
   "source": [
    "OUTER_FOLDS = 10\n",
    "INNER_FOLDS = 5\n",
    "N_REPEATS = 3\n",
    "\n",
    "allMAEs = []\n",
    "allRMSEs = []\n",
    "allR2s = []\n",
    "\n",
    "avgKFolds = RepeatedKFold(n_splits=OUTER_FOLDS, n_repeats=N_REPEATS, random_state=1)\n",
    "\n",
    "# outer cross validation is to get the average metrics across random folds in\n",
    "# order to select best model to use\n",
    "for train_index, test_index in avgKFolds.split(X_train_full):\n",
    "  X_train, X_val = X_train_full.iloc[train_index], X_train_full.iloc[test_index]\n",
    "  Y_train, Y_val = Y_train_full.iloc[train_index], Y_train_full.iloc[test_index]\n",
    "    \n",
    "  # inner cross validation is for the best hyperparameter\n",
    "  cv = RepeatedKFold(n_splits=INNER_FOLDS, n_repeats=1, random_state=1)\n",
    "  model = RandomForestRegressor(n_estimators = 1000, random_state = 42)\n",
    "\n",
    "  grid_search = GridSearchCV(estimator = model, param_grid = param_grid, \n",
    "                              cv = cv, n_jobs = -1, verbose = 2)\n",
    "  \n",
    "  tic = time.perf_counter()\n",
    "  # col 0 is Poor Mental Health Days\n",
    "  grid_search.fit(X_train, Y_train.iloc[:,1]) \n",
    "\n",
    "  predictions = grid_search.predict(X_val)\n",
    "\n",
    "  mae = mean_absolute_error(Y_val.iloc[:,1], predictions)\n",
    "  print(\"mae = \" + str(mae))\n",
    "  rmse = math.sqrt(mean_squared_error(Y_val.iloc[:,1], predictions))\n",
    "  print(\"rmse = \" + str(rmse))\n",
    "  r2 = r2_score(Y_val.iloc[:,1], predictions)\n",
    "  print(\"r2 = \" + str(r2))\n",
    "\n",
    "  allMAEs.append(mae)\n",
    "  allRMSEs.append(rmse)\n",
    "  allR2s.append(r2)"
   ]
  },
  {
   "cell_type": "code",
   "execution_count": 9,
   "metadata": {
    "id": "45d001d6"
   },
   "outputs": [],
   "source": [
    "averageMAE = sum(allMAEs)/(OUTER_FOLDS * N_REPEATS)\n",
    "averageRMSE = sum(allRMSEs)/(OUTER_FOLDS * N_REPEATS)\n",
    "averageR2 = sum(allR2s)/(OUTER_FOLDS * N_REPEATS)\n",
    "\n",
    "\n",
    "# Make sure to change this model number for each of the different models. It\n",
    "# just dictates which row in the csv to put the data. \n",
    "model_number = 9\n",
    "\n",
    "full_metrics_df = pd.read_csv(\"All_Model_Metrics.csv\")\n",
    "full_metrics_df.loc[model_number] = [\"Random Forest Regression Suicides\", averageMAE, averageRMSE, averageR2]\n",
    "full_metrics_df.to_csv('All_Model_Metrics.csv', index=False)"
   ]
  },
  {
   "cell_type": "code",
   "execution_count": null,
   "metadata": {},
   "outputs": [],
   "source": []
  }
 ],
 "metadata": {
  "colab": {
   "collapsed_sections": [],
   "name": "Random Forest Regression.ipynb",
   "provenance": []
  },
  "kernelspec": {
   "display_name": "Python 3",
   "language": "python",
   "name": "python3"
  },
  "language_info": {
   "codemirror_mode": {
    "name": "ipython",
    "version": 3
   },
   "file_extension": ".py",
   "mimetype": "text/x-python",
   "name": "python",
   "nbconvert_exporter": "python",
   "pygments_lexer": "ipython3",
   "version": "3.8.3"
  }
 },
 "nbformat": 4,
 "nbformat_minor": 5
}
