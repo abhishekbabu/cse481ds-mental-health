{
 "cells": [
  {
   "cell_type": "code",
   "execution_count": 1,
   "id": "58057148",
   "metadata": {},
   "outputs": [
    {
     "name": "stdout",
     "output_type": "stream",
     "text": [
      "Requirement already satisfied: sklearn in /homes/iws/bhimar/cse481ds-mental-health/venv/lib/python3.7/site-packages (0.0)\n",
      "Requirement already satisfied: scikit-learn in /homes/iws/bhimar/cse481ds-mental-health/venv/lib/python3.7/site-packages (from sklearn) (1.0.1)\n",
      "Requirement already satisfied: numpy>=1.14.6 in /homes/iws/bhimar/cse481ds-mental-health/venv/lib/python3.7/site-packages (from scikit-learn->sklearn) (1.21.3)\n",
      "Requirement already satisfied: threadpoolctl>=2.0.0 in /homes/iws/bhimar/cse481ds-mental-health/venv/lib/python3.7/site-packages (from scikit-learn->sklearn) (3.0.0)\n",
      "Requirement already satisfied: joblib>=0.11 in /homes/iws/bhimar/cse481ds-mental-health/venv/lib/python3.7/site-packages (from scikit-learn->sklearn) (1.1.0)\n",
      "Requirement already satisfied: scipy>=1.1.0 in /homes/iws/bhimar/cse481ds-mental-health/venv/lib/python3.7/site-packages (from scikit-learn->sklearn) (1.7.1)\n",
      "\u001b[33mWARNING: You are using pip version 20.1.1; however, version 21.3.1 is available.\n",
      "You should consider upgrading via the '/homes/iws/bhimar/cse481ds-mental-health/venv/bin/python3 -m pip install --upgrade pip' command.\u001b[0m\n"
     ]
    },
    {
     "data": {
      "text/plain": [
       "'/homes/iws/bhimar/cse481ds-mental-health/notebooks/county_level/Regression Analysis'"
      ]
     },
     "execution_count": 1,
     "metadata": {},
     "output_type": "execute_result"
    }
   ],
   "source": [
    "import pandas as pd\n",
    "import matplotlib.pyplot as plt\n",
    "import seaborn as sns\n",
    "import numpy as np\n",
    "import os\n",
    "import scipy.stats as stats\n",
    "import math\n",
    "\n",
    "!pip install sklearn\n",
    "os.getcwd()"
   ]
  },
  {
   "cell_type": "code",
   "execution_count": 2,
   "id": "37f0ee3d",
   "metadata": {},
   "outputs": [
    {
     "data": {
      "text/html": [
       "<div>\n",
       "<style scoped>\n",
       "    .dataframe tbody tr th:only-of-type {\n",
       "        vertical-align: middle;\n",
       "    }\n",
       "\n",
       "    .dataframe tbody tr th {\n",
       "        vertical-align: top;\n",
       "    }\n",
       "\n",
       "    .dataframe thead th {\n",
       "        text-align: right;\n",
       "    }\n",
       "</style>\n",
       "<table border=\"1\" class=\"dataframe\">\n",
       "  <thead>\n",
       "    <tr style=\"text-align: right;\">\n",
       "      <th></th>\n",
       "      <th>State FIPS Code</th>\n",
       "      <th>County FIPS Code</th>\n",
       "      <th>5-digit FIPS Code</th>\n",
       "      <th>State Abbreviation</th>\n",
       "      <th>Name</th>\n",
       "      <th>Release Year</th>\n",
       "      <th>County Ranked (Yes=1/No=0)</th>\n",
       "      <th>Premature death raw value</th>\n",
       "      <th>Premature death numerator</th>\n",
       "      <th>Premature death denominator</th>\n",
       "      <th>...</th>\n",
       "      <th>April Average Precipitation</th>\n",
       "      <th>May Average Precipitation</th>\n",
       "      <th>June Average Precipitation</th>\n",
       "      <th>July Average Precipitation</th>\n",
       "      <th>August Average Precipitation</th>\n",
       "      <th>September Average Precipitation</th>\n",
       "      <th>October Average Precipitation</th>\n",
       "      <th>November Average Precipitation</th>\n",
       "      <th>December Average Precipitation</th>\n",
       "      <th>RUCC</th>\n",
       "    </tr>\n",
       "  </thead>\n",
       "  <tbody>\n",
       "    <tr>\n",
       "      <th>0</th>\n",
       "      <td>1</td>\n",
       "      <td>1</td>\n",
       "      <td>1001</td>\n",
       "      <td>AL</td>\n",
       "      <td>Autauga County</td>\n",
       "      <td>2010</td>\n",
       "      <td>1.0</td>\n",
       "      <td>9778.1</td>\n",
       "      <td>670.0</td>\n",
       "      <td>137881.0</td>\n",
       "      <td>...</td>\n",
       "      <td>2.17</td>\n",
       "      <td>5.72</td>\n",
       "      <td>2.47</td>\n",
       "      <td>3.38</td>\n",
       "      <td>4.38</td>\n",
       "      <td>1.38</td>\n",
       "      <td>3.14</td>\n",
       "      <td>5.01</td>\n",
       "      <td>1.89</td>\n",
       "      <td>2.0</td>\n",
       "    </tr>\n",
       "    <tr>\n",
       "      <th>1</th>\n",
       "      <td>1</td>\n",
       "      <td>3</td>\n",
       "      <td>1003</td>\n",
       "      <td>AL</td>\n",
       "      <td>Baldwin County</td>\n",
       "      <td>2010</td>\n",
       "      <td>1.0</td>\n",
       "      <td>8221.7</td>\n",
       "      <td>2148.0</td>\n",
       "      <td>449589.0</td>\n",
       "      <td>...</td>\n",
       "      <td>2.31</td>\n",
       "      <td>6.31</td>\n",
       "      <td>4.94</td>\n",
       "      <td>4.08</td>\n",
       "      <td>9.38</td>\n",
       "      <td>2.24</td>\n",
       "      <td>2.06</td>\n",
       "      <td>6.11</td>\n",
       "      <td>2.19</td>\n",
       "      <td>3.0</td>\n",
       "    </tr>\n",
       "    <tr>\n",
       "      <th>2</th>\n",
       "      <td>1</td>\n",
       "      <td>9</td>\n",
       "      <td>1009</td>\n",
       "      <td>AL</td>\n",
       "      <td>Blount County</td>\n",
       "      <td>2010</td>\n",
       "      <td>1.0</td>\n",
       "      <td>8929.7</td>\n",
       "      <td>787.0</td>\n",
       "      <td>155580.0</td>\n",
       "      <td>...</td>\n",
       "      <td>5.66</td>\n",
       "      <td>7.47</td>\n",
       "      <td>3.39</td>\n",
       "      <td>3.55</td>\n",
       "      <td>4.31</td>\n",
       "      <td>1.23</td>\n",
       "      <td>3.12</td>\n",
       "      <td>4.62</td>\n",
       "      <td>2.07</td>\n",
       "      <td>1.0</td>\n",
       "    </tr>\n",
       "    <tr>\n",
       "      <th>3</th>\n",
       "      <td>1</td>\n",
       "      <td>15</td>\n",
       "      <td>1015</td>\n",
       "      <td>AL</td>\n",
       "      <td>Calhoun County</td>\n",
       "      <td>2010</td>\n",
       "      <td>1.0</td>\n",
       "      <td>11526.2</td>\n",
       "      <td>2035.0</td>\n",
       "      <td>313874.0</td>\n",
       "      <td>...</td>\n",
       "      <td>3.73</td>\n",
       "      <td>6.46</td>\n",
       "      <td>2.70</td>\n",
       "      <td>4.00</td>\n",
       "      <td>3.78</td>\n",
       "      <td>1.55</td>\n",
       "      <td>2.96</td>\n",
       "      <td>3.06</td>\n",
       "      <td>2.24</td>\n",
       "      <td>3.0</td>\n",
       "    </tr>\n",
       "    <tr>\n",
       "      <th>4</th>\n",
       "      <td>1</td>\n",
       "      <td>31</td>\n",
       "      <td>1031</td>\n",
       "      <td>AL</td>\n",
       "      <td>Coffee County</td>\n",
       "      <td>2010</td>\n",
       "      <td>1.0</td>\n",
       "      <td>9004.7</td>\n",
       "      <td>645.0</td>\n",
       "      <td>126516.0</td>\n",
       "      <td>...</td>\n",
       "      <td>1.88</td>\n",
       "      <td>4.71</td>\n",
       "      <td>3.84</td>\n",
       "      <td>2.78</td>\n",
       "      <td>6.30</td>\n",
       "      <td>2.41</td>\n",
       "      <td>1.38</td>\n",
       "      <td>3.71</td>\n",
       "      <td>2.03</td>\n",
       "      <td>4.0</td>\n",
       "    </tr>\n",
       "  </tbody>\n",
       "</table>\n",
       "<p>5 rows × 543 columns</p>\n",
       "</div>"
      ],
      "text/plain": [
       "   State FIPS Code  County FIPS Code  5-digit FIPS Code State Abbreviation  \\\n",
       "0                1                 1               1001                 AL   \n",
       "1                1                 3               1003                 AL   \n",
       "2                1                 9               1009                 AL   \n",
       "3                1                15               1015                 AL   \n",
       "4                1                31               1031                 AL   \n",
       "\n",
       "             Name  Release Year  County Ranked (Yes=1/No=0)  \\\n",
       "0  Autauga County          2010                         1.0   \n",
       "1  Baldwin County          2010                         1.0   \n",
       "2   Blount County          2010                         1.0   \n",
       "3  Calhoun County          2010                         1.0   \n",
       "4   Coffee County          2010                         1.0   \n",
       "\n",
       "   Premature death raw value  Premature death numerator  \\\n",
       "0                     9778.1                      670.0   \n",
       "1                     8221.7                     2148.0   \n",
       "2                     8929.7                      787.0   \n",
       "3                    11526.2                     2035.0   \n",
       "4                     9004.7                      645.0   \n",
       "\n",
       "   Premature death denominator  ...  April Average Precipitation  \\\n",
       "0                     137881.0  ...                         2.17   \n",
       "1                     449589.0  ...                         2.31   \n",
       "2                     155580.0  ...                         5.66   \n",
       "3                     313874.0  ...                         3.73   \n",
       "4                     126516.0  ...                         1.88   \n",
       "\n",
       "   May Average Precipitation  June Average Precipitation  \\\n",
       "0                       5.72                        2.47   \n",
       "1                       6.31                        4.94   \n",
       "2                       7.47                        3.39   \n",
       "3                       6.46                        2.70   \n",
       "4                       4.71                        3.84   \n",
       "\n",
       "   July Average Precipitation  August Average Precipitation  \\\n",
       "0                        3.38                          4.38   \n",
       "1                        4.08                          9.38   \n",
       "2                        3.55                          4.31   \n",
       "3                        4.00                          3.78   \n",
       "4                        2.78                          6.30   \n",
       "\n",
       "   September Average Precipitation  October Average Precipitation  \\\n",
       "0                             1.38                           3.14   \n",
       "1                             2.24                           2.06   \n",
       "2                             1.23                           3.12   \n",
       "3                             1.55                           2.96   \n",
       "4                             2.41                           1.38   \n",
       "\n",
       "   November Average Precipitation  December Average Precipitation  RUCC  \n",
       "0                            5.01                            1.89   2.0  \n",
       "1                            6.11                            2.19   3.0  \n",
       "2                            4.62                            2.07   1.0  \n",
       "3                            3.06                            2.24   3.0  \n",
       "4                            3.71                            2.03   4.0  \n",
       "\n",
       "[5 rows x 543 columns]"
      ]
     },
     "execution_count": 2,
     "metadata": {},
     "output_type": "execute_result"
    }
   ],
   "source": [
    "df = pd.read_csv('../../../data/processed_data/full_df.csv')\n",
    "df.head()"
   ]
  },
  {
   "cell_type": "markdown",
   "id": "c7f983f4",
   "metadata": {},
   "source": [
    "## Preprocess Data"
   ]
  },
  {
   "cell_type": "markdown",
   "id": "694daf41",
   "metadata": {},
   "source": [
    "### Filter out NaN cols and rows"
   ]
  },
  {
   "cell_type": "code",
   "execution_count": 3,
   "id": "652af823",
   "metadata": {
    "scrolled": true
   },
   "outputs": [
    {
     "name": "stdout",
     "output_type": "stream",
     "text": [
      "6280\n",
      "High school graduation raw value-->33\n",
      "Unemployment raw value-->0\n",
      "Some college raw value-->844\n",
      "Ratio of population to mental health providers-->1758\n",
      "Median household income raw value-->844\n",
      "Average Temperature-->0\n",
      "January Average Temperature-->0\n",
      "February Average Temperature-->0\n",
      "March Average Temperature-->0\n",
      "April Average Temperature-->0\n",
      "May Average Temperature-->0\n",
      "June Average Temperature-->0\n",
      "July Average Temperature-->0\n",
      "August Average Temperature-->0\n",
      "September Average Temperature-->0\n",
      "October Average Temperature-->0\n",
      "November Average Temperautre-->0\n",
      "December Average Temperature-->0\n",
      "Average Precipitation-->0\n",
      "January Average Precipitation-->0\n",
      "February Average Precipitation-->0\n",
      "March Average Precipitation-->0\n",
      "April Average Precipitation-->0\n",
      "May Average Precipitation-->0\n",
      "June Average Precipitation-->0\n",
      "July Average Precipitation-->0\n",
      "August Average Precipitation-->0\n",
      "September Average Precipitation-->0\n",
      "October Average Precipitation-->0\n",
      "November Average Precipitation-->0\n",
      "December Average Precipitation-->0\n",
      "RUCC-->0\n",
      "Poor mental health days raw value-->17\n",
      "Crude Rate-->0\n",
      "\n",
      "4492\n",
      "High school graduation raw value-->0\n",
      "Unemployment raw value-->0\n",
      "Some college raw value-->0\n",
      "Ratio of population to mental health providers-->0\n",
      "Median household income raw value-->0\n",
      "Average Temperature-->0\n",
      "January Average Temperature-->0\n",
      "February Average Temperature-->0\n",
      "March Average Temperature-->0\n",
      "April Average Temperature-->0\n",
      "May Average Temperature-->0\n",
      "June Average Temperature-->0\n",
      "July Average Temperature-->0\n",
      "August Average Temperature-->0\n",
      "September Average Temperature-->0\n",
      "October Average Temperature-->0\n",
      "November Average Temperautre-->0\n",
      "December Average Temperature-->0\n",
      "Average Precipitation-->0\n",
      "January Average Precipitation-->0\n",
      "February Average Precipitation-->0\n",
      "March Average Precipitation-->0\n",
      "April Average Precipitation-->0\n",
      "May Average Precipitation-->0\n",
      "June Average Precipitation-->0\n",
      "July Average Precipitation-->0\n",
      "August Average Precipitation-->0\n",
      "September Average Precipitation-->0\n",
      "October Average Precipitation-->0\n",
      "November Average Precipitation-->0\n",
      "December Average Precipitation-->0\n",
      "RUCC-->0\n",
      "Poor mental health days raw value-->0\n",
      "Crude Rate-->0\n"
     ]
    }
   ],
   "source": [
    "identifying_fields = ['State Abbreviation', 'Name', 'Release Year']\n",
    "with open(\"factors.txt\") as f:\n",
    "     factors = f.read().splitlines()\n",
    "with open(\"outcomes.txt\") as f:\n",
    "     outcomes = f.read().splitlines()\n",
    "filtered_df = df[identifying_fields + factors + outcomes]\n",
    "print(filtered_df.shape[0])\n",
    "filtered_df.head(n=20)\n",
    "for col in factors + outcomes:\n",
    "    print(col + \"-->\" + str(filtered_df[col].isna().sum()))\n",
    "print()\n",
    "filtered_df = filtered_df.dropna()\n",
    "print(filtered_df.shape[0])\n",
    "for col in factors + outcomes:\n",
    "    print(col + \"-->\" + str(filtered_df[col].isna().sum()))"
   ]
  },
  {
   "cell_type": "markdown",
   "id": "7e2d80c9",
   "metadata": {},
   "source": [
    "### Split into Train and Test"
   ]
  },
  {
   "cell_type": "code",
   "execution_count": 4,
   "id": "e0f7983d",
   "metadata": {},
   "outputs": [
    {
     "name": "stdout",
     "output_type": "stream",
     "text": [
      "4492\n",
      "3594\n",
      "898\n",
      "Empty DataFrame\n",
      "Columns: [High school graduation raw value, Unemployment raw value, Some college raw value, Ratio of population to mental health providers, Median household income raw value, Average Temperature, January Average Temperature, February Average Temperature, March Average Temperature, April Average Temperature, May Average Temperature, June Average Temperature, July Average Temperature, August Average Temperature, September Average Temperature, October Average Temperature, November Average Temperautre, December Average Temperature, Average Precipitation, January Average Precipitation, February Average Precipitation, March Average Precipitation, April Average Precipitation, May Average Precipitation, June Average Precipitation, July Average Precipitation, August Average Precipitation, September Average Precipitation, October Average Precipitation, November Average Precipitation, December Average Precipitation, RUCC]\n",
      "Index: []\n",
      "\n",
      "[0 rows x 32 columns]\n",
      "\n",
      "4492\n",
      "3594\n",
      "898\n",
      "\n"
     ]
    }
   ],
   "source": [
    "from sklearn.utils import shuffle\n",
    "filtered_df = shuffle(filtered_df)\n",
    "X_train = filtered_df[factors][:math.ceil(filtered_df.shape[0] * 0.8)]\n",
    "X_test = filtered_df[factors][-1 * math.floor(filtered_df.shape[0] * 0.2):]\n",
    "print(filtered_df.shape[0])\n",
    "print(X_train.shape[0])\n",
    "print(X_test.shape[0])\n",
    "print(pd.merge(X_train, X_test)) # expect likely empty\n",
    "print()\n",
    "\n",
    "Y_train = filtered_df[outcomes][:math.ceil(filtered_df.shape[0] * 0.8)]\n",
    "Y_test = filtered_df[outcomes][-1 * math.floor(filtered_df.shape[0] * 0.2):]\n",
    "print(filtered_df.shape[0])\n",
    "print(Y_train.shape[0])\n",
    "print(Y_test.shape[0])\n",
    "print()"
   ]
  },
  {
   "cell_type": "markdown",
   "id": "10ea4514",
   "metadata": {},
   "source": [
    "## Lasso Regression"
   ]
  },
  {
   "cell_type": "code",
   "execution_count": 5,
   "id": "b4242814",
   "metadata": {},
   "outputs": [],
   "source": [
    "from sklearn.linear_model import LassoCV\n",
    "from sklearn.model_selection import RepeatedKFold\n",
    "from sklearn.metrics import mean_absolute_error"
   ]
  },
  {
   "cell_type": "markdown",
   "id": "6cdd8b93",
   "metadata": {},
   "source": [
    "### Lasso regression for predicting Poor Mental Health Days"
   ]
  },
  {
   "cell_type": "code",
   "execution_count": 6,
   "id": "3622fd6a",
   "metadata": {},
   "outputs": [
    {
     "name": "stdout",
     "output_type": "stream",
     "text": [
      "alpha: 4.198674\n"
     ]
    }
   ],
   "source": [
    "cv = RepeatedKFold(n_splits=10, n_repeats=3, random_state=1)\n",
    "model = LassoCV(cv=cv, n_jobs=-1)\n",
    "model.fit(X_train, Y_train.iloc[:,0])\n",
    "print('alpha: %f' % model.alpha_)"
   ]
  },
  {
   "cell_type": "code",
   "execution_count": 7,
   "id": "491fa9b1",
   "metadata": {},
   "outputs": [
    {
     "name": "stdout",
     "output_type": "stream",
     "text": [
      "0.42865603954865117\n"
     ]
    }
   ],
   "source": [
    "predictions = model.predict(X_test)\n",
    "mae = mean_absolute_error(Y_test.iloc[:,0], predictions)\n",
    "print(mae)"
   ]
  },
  {
   "cell_type": "code",
   "execution_count": 8,
   "id": "61b1c77f",
   "metadata": {},
   "outputs": [
    {
     "name": "stdout",
     "output_type": "stream",
     "text": [
      "Ratio of population to mental health providers\n",
      "2.2717624311817942e-06\n",
      "Median household income raw value\n",
      "-2.42721543472985e-05\n"
     ]
    }
   ],
   "source": [
    "coeffs = model.coef_\n",
    "important_variables = [i for i, e in enumerate(coeffs) if e != 0]\n",
    "for i in important_variables:\n",
    "    print(factors[i])\n",
    "    print(coeffs[i])"
   ]
  },
  {
   "cell_type": "code",
   "execution_count": null,
   "id": "6cf8bb8e",
   "metadata": {},
   "outputs": [],
   "source": []
  }
 ],
 "metadata": {
  "kernelspec": {
   "display_name": "Python 3",
   "language": "python",
   "name": "python3"
  },
  "language_info": {
   "codemirror_mode": {
    "name": "ipython",
    "version": 3
   },
   "file_extension": ".py",
   "mimetype": "text/x-python",
   "name": "python",
   "nbconvert_exporter": "python",
   "pygments_lexer": "ipython3",
   "version": "3.7.10"
  }
 },
 "nbformat": 4,
 "nbformat_minor": 5
}
