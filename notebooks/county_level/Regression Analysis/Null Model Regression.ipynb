{
 "cells": [
  {
   "cell_type": "code",
   "execution_count": 1,
   "id": "20c058d4",
   "metadata": {},
   "outputs": [
    {
     "name": "stdout",
     "output_type": "stream",
     "text": [
      "Requirement already satisfied: sklearn in /homes/iws/bhimar/cse481ds-mental-health/venv/lib/python3.7/site-packages (0.0)\n",
      "Requirement already satisfied: scikit-learn in /homes/iws/bhimar/cse481ds-mental-health/venv/lib/python3.7/site-packages (from sklearn) (1.0.1)\n",
      "Requirement already satisfied: numpy>=1.14.6 in /homes/iws/bhimar/cse481ds-mental-health/venv/lib/python3.7/site-packages (from scikit-learn->sklearn) (1.21.3)\n",
      "Requirement already satisfied: joblib>=0.11 in /homes/iws/bhimar/cse481ds-mental-health/venv/lib/python3.7/site-packages (from scikit-learn->sklearn) (1.1.0)\n",
      "Requirement already satisfied: scipy>=1.1.0 in /homes/iws/bhimar/cse481ds-mental-health/venv/lib/python3.7/site-packages (from scikit-learn->sklearn) (1.7.1)\n",
      "Requirement already satisfied: threadpoolctl>=2.0.0 in /homes/iws/bhimar/cse481ds-mental-health/venv/lib/python3.7/site-packages (from scikit-learn->sklearn) (3.0.0)\n",
      "\u001b[33mWARNING: You are using pip version 20.1.1; however, version 21.3.1 is available.\n",
      "You should consider upgrading via the '/homes/iws/bhimar/cse481ds-mental-health/venv/bin/python3 -m pip install --upgrade pip' command.\u001b[0m\n"
     ]
    }
   ],
   "source": [
    "import pandas as pd\n",
    "import matplotlib.pyplot as plt\n",
    "import seaborn as sns\n",
    "import numpy as np\n",
    "import os\n",
    "import scipy.stats as stats\n",
    "import math\n",
    "\n",
    "!pip install sklearn\n",
    "from sklearn.metrics import mean_absolute_error\n",
    "from sklearn.metrics import mean_squared_error\n",
    "from sklearn.metrics import r2_score"
   ]
  },
  {
   "cell_type": "code",
   "execution_count": 2,
   "id": "88f505c3",
   "metadata": {},
   "outputs": [
    {
     "data": {
      "text/html": [
       "<div>\n",
       "<style scoped>\n",
       "    .dataframe tbody tr th:only-of-type {\n",
       "        vertical-align: middle;\n",
       "    }\n",
       "\n",
       "    .dataframe tbody tr th {\n",
       "        vertical-align: top;\n",
       "    }\n",
       "\n",
       "    .dataframe thead th {\n",
       "        text-align: right;\n",
       "    }\n",
       "</style>\n",
       "<table border=\"1\" class=\"dataframe\">\n",
       "  <thead>\n",
       "    <tr style=\"text-align: right;\">\n",
       "      <th></th>\n",
       "      <th>Poor mental health days raw value</th>\n",
       "      <th>Crude Rate</th>\n",
       "    </tr>\n",
       "  </thead>\n",
       "  <tbody>\n",
       "    <tr>\n",
       "      <th>0</th>\n",
       "      <td>4.1</td>\n",
       "      <td>16.6</td>\n",
       "    </tr>\n",
       "    <tr>\n",
       "      <th>1</th>\n",
       "      <td>4.2</td>\n",
       "      <td>11.0</td>\n",
       "    </tr>\n",
       "    <tr>\n",
       "      <th>2</th>\n",
       "      <td>3.9</td>\n",
       "      <td>24.9</td>\n",
       "    </tr>\n",
       "    <tr>\n",
       "      <th>3</th>\n",
       "      <td>2.3</td>\n",
       "      <td>8.7</td>\n",
       "    </tr>\n",
       "    <tr>\n",
       "      <th>4</th>\n",
       "      <td>4.0</td>\n",
       "      <td>16.8</td>\n",
       "    </tr>\n",
       "  </tbody>\n",
       "</table>\n",
       "</div>"
      ],
      "text/plain": [
       "   Poor mental health days raw value  Crude Rate\n",
       "0                                4.1        16.6\n",
       "1                                4.2        11.0\n",
       "2                                3.9        24.9\n",
       "3                                2.3         8.7\n",
       "4                                4.0        16.8"
      ]
     },
     "execution_count": 2,
     "metadata": {},
     "output_type": "execute_result"
    }
   ],
   "source": [
    "Y_train_full = pd.read_csv(\"Y_train.csv\")\n",
    "Y_train_full.head(5)"
   ]
  },
  {
   "cell_type": "markdown",
   "id": "95ca1e8b",
   "metadata": {},
   "source": [
    "### Null Model for Poor Mental Health Days"
   ]
  },
  {
   "cell_type": "code",
   "execution_count": 8,
   "id": "544ea110",
   "metadata": {},
   "outputs": [
    {
     "name": "stdout",
     "output_type": "stream",
     "text": [
      "mae = 0.5086360859864086\n",
      "rmse = 0.6631535096473475\n",
      "r2 = 0.0\n"
     ]
    }
   ],
   "source": [
    "outcome_train = Y_train_full.iloc[:,0]\n",
    "predictions = np.ones(outcome_train.shape) * np.mean(outcome_train)\n",
    "\n",
    "mae = mean_absolute_error(outcome_train, predictions)\n",
    "print(\"mae = \" + str(mae))\n",
    "rmse = math.sqrt(mean_squared_error(outcome_train, predictions))\n",
    "print(\"rmse = \" + str(rmse))\n",
    "r2 = r2_score(outcome_train, predictions)\n",
    "print(\"r2 = \" + str(r2))"
   ]
  },
  {
   "cell_type": "markdown",
   "id": "c93f4045",
   "metadata": {},
   "source": [
    "### Null Model for Suicide Rate"
   ]
  },
  {
   "cell_type": "code",
   "execution_count": 9,
   "id": "270274ae",
   "metadata": {},
   "outputs": [
    {
     "name": "stdout",
     "output_type": "stream",
     "text": [
      "mae = 5.544285516360395\n",
      "rmse = 7.583319271872654\n",
      "r2 = 0.0\n"
     ]
    }
   ],
   "source": [
    "outcome_train = Y_train_full.iloc[:,1]\n",
    "predictions = np.ones(outcome_train.shape) * np.mean(outcome_train)\n",
    "\n",
    "mae = mean_absolute_error(outcome_train, predictions)\n",
    "print(\"mae = \" + str(mae))\n",
    "rmse = math.sqrt(mean_squared_error(outcome_train, predictions))\n",
    "print(\"rmse = \" + str(rmse))\n",
    "r2 = r2_score(outcome_train, predictions)\n",
    "print(\"r2 = \" + str(r2))"
   ]
  },
  {
   "cell_type": "code",
   "execution_count": null,
   "id": "0317a304",
   "metadata": {},
   "outputs": [],
   "source": []
  }
 ],
 "metadata": {
  "kernelspec": {
   "display_name": "Python 3",
   "language": "python",
   "name": "python3"
  },
  "language_info": {
   "codemirror_mode": {
    "name": "ipython",
    "version": 3
   },
   "file_extension": ".py",
   "mimetype": "text/x-python",
   "name": "python",
   "nbconvert_exporter": "python",
   "pygments_lexer": "ipython3",
   "version": "3.7.10"
  }
 },
 "nbformat": 4,
 "nbformat_minor": 5
}
