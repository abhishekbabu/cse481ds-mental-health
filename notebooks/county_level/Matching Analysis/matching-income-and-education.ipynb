{
 "cells": [
  {
   "cell_type": "code",
   "execution_count": 1,
   "metadata": {},
   "outputs": [],
   "source": [
    "import pandas as pd\n",
    "import numpy as np\n",
    "import statsmodels.api as sm\n",
    "from sklearn.neighbors import NearestNeighbors\n",
    "import matplotlib.pyplot as plt\n",
    "import seaborn as sns"
   ]
  },
  {
   "cell_type": "markdown",
   "metadata": {},
   "source": [
    "## Load Data and Use Relevant Cols"
   ]
  },
  {
   "cell_type": "code",
   "execution_count": 2,
   "metadata": {},
   "outputs": [
    {
     "data": {
      "text/html": [
       "<div>\n",
       "<style scoped>\n",
       "    .dataframe tbody tr th:only-of-type {\n",
       "        vertical-align: middle;\n",
       "    }\n",
       "\n",
       "    .dataframe tbody tr th {\n",
       "        vertical-align: top;\n",
       "    }\n",
       "\n",
       "    .dataframe thead th {\n",
       "        text-align: right;\n",
       "    }\n",
       "</style>\n",
       "<table border=\"1\" class=\"dataframe\">\n",
       "  <thead>\n",
       "    <tr style=\"text-align: right;\">\n",
       "      <th></th>\n",
       "      <th>State Abbreviation</th>\n",
       "      <th>Name</th>\n",
       "      <th>Release Year</th>\n",
       "      <th>High school graduation raw value</th>\n",
       "      <th>Unemployment raw value</th>\n",
       "      <th>Some college raw value</th>\n",
       "      <th>Ratio of population to mental health providers</th>\n",
       "      <th>Median household income raw value</th>\n",
       "      <th>Average Temperature</th>\n",
       "      <th>Average Precipitation</th>\n",
       "      <th>RUCC</th>\n",
       "      <th>Poor mental health days raw value</th>\n",
       "      <th>Crude Rate</th>\n",
       "      <th>high_school_treated</th>\n",
       "      <th>unemployment_treated</th>\n",
       "      <th>college_treated</th>\n",
       "      <th>mental_health_provider_treated</th>\n",
       "      <th>household_income_treated</th>\n",
       "      <th>temperature_treated</th>\n",
       "      <th>precipitation_treated</th>\n",
       "    </tr>\n",
       "  </thead>\n",
       "  <tbody>\n",
       "    <tr>\n",
       "      <th>0</th>\n",
       "      <td>AL</td>\n",
       "      <td>Autauga County</td>\n",
       "      <td>2011</td>\n",
       "      <td>0.740</td>\n",
       "      <td>0.089</td>\n",
       "      <td>0.554</td>\n",
       "      <td>50354.0</td>\n",
       "      <td>51622.0</td>\n",
       "      <td>64.658333</td>\n",
       "      <td>3.769167</td>\n",
       "      <td>2.0</td>\n",
       "      <td>4.1</td>\n",
       "      <td>21.7</td>\n",
       "      <td>0</td>\n",
       "      <td>0</td>\n",
       "      <td>0</td>\n",
       "      <td>0</td>\n",
       "      <td>1</td>\n",
       "      <td>0</td>\n",
       "      <td>0</td>\n",
       "    </tr>\n",
       "    <tr>\n",
       "      <th>1</th>\n",
       "      <td>AL</td>\n",
       "      <td>Baldwin County</td>\n",
       "      <td>2011</td>\n",
       "      <td>0.681</td>\n",
       "      <td>0.088</td>\n",
       "      <td>0.615</td>\n",
       "      <td>6076.0</td>\n",
       "      <td>51957.0</td>\n",
       "      <td>67.733333</td>\n",
       "      <td>3.720833</td>\n",
       "      <td>3.0</td>\n",
       "      <td>4.1</td>\n",
       "      <td>18.2</td>\n",
       "      <td>0</td>\n",
       "      <td>0</td>\n",
       "      <td>1</td>\n",
       "      <td>0</td>\n",
       "      <td>1</td>\n",
       "      <td>0</td>\n",
       "      <td>0</td>\n",
       "    </tr>\n",
       "    <tr>\n",
       "      <th>2</th>\n",
       "      <td>AL</td>\n",
       "      <td>Calhoun County</td>\n",
       "      <td>2011</td>\n",
       "      <td>0.689</td>\n",
       "      <td>0.101</td>\n",
       "      <td>0.499</td>\n",
       "      <td>9452.0</td>\n",
       "      <td>39997.0</td>\n",
       "      <td>62.325000</td>\n",
       "      <td>4.231667</td>\n",
       "      <td>3.0</td>\n",
       "      <td>4.8</td>\n",
       "      <td>14.4</td>\n",
       "      <td>0</td>\n",
       "      <td>0</td>\n",
       "      <td>0</td>\n",
       "      <td>0</td>\n",
       "      <td>0</td>\n",
       "      <td>0</td>\n",
       "      <td>0</td>\n",
       "    </tr>\n",
       "    <tr>\n",
       "      <th>3</th>\n",
       "      <td>AL</td>\n",
       "      <td>Cullman County</td>\n",
       "      <td>2011</td>\n",
       "      <td>0.684</td>\n",
       "      <td>0.094</td>\n",
       "      <td>0.460</td>\n",
       "      <td>20380.0</td>\n",
       "      <td>39276.0</td>\n",
       "      <td>61.333333</td>\n",
       "      <td>5.382500</td>\n",
       "      <td>4.0</td>\n",
       "      <td>4.8</td>\n",
       "      <td>17.4</td>\n",
       "      <td>0</td>\n",
       "      <td>0</td>\n",
       "      <td>0</td>\n",
       "      <td>0</td>\n",
       "      <td>0</td>\n",
       "      <td>0</td>\n",
       "      <td>0</td>\n",
       "    </tr>\n",
       "    <tr>\n",
       "      <th>4</th>\n",
       "      <td>AL</td>\n",
       "      <td>Etowah County</td>\n",
       "      <td>2011</td>\n",
       "      <td>0.702</td>\n",
       "      <td>0.105</td>\n",
       "      <td>0.561</td>\n",
       "      <td>10344.0</td>\n",
       "      <td>37264.0</td>\n",
       "      <td>62.100000</td>\n",
       "      <td>4.965000</td>\n",
       "      <td>3.0</td>\n",
       "      <td>4.4</td>\n",
       "      <td>24.0</td>\n",
       "      <td>0</td>\n",
       "      <td>0</td>\n",
       "      <td>0</td>\n",
       "      <td>0</td>\n",
       "      <td>0</td>\n",
       "      <td>0</td>\n",
       "      <td>0</td>\n",
       "    </tr>\n",
       "  </tbody>\n",
       "</table>\n",
       "</div>"
      ],
      "text/plain": [
       "  State Abbreviation            Name  Release Year  \\\n",
       "0                 AL  Autauga County          2011   \n",
       "1                 AL  Baldwin County          2011   \n",
       "2                 AL  Calhoun County          2011   \n",
       "3                 AL  Cullman County          2011   \n",
       "4                 AL   Etowah County          2011   \n",
       "\n",
       "   High school graduation raw value  Unemployment raw value  \\\n",
       "0                             0.740                   0.089   \n",
       "1                             0.681                   0.088   \n",
       "2                             0.689                   0.101   \n",
       "3                             0.684                   0.094   \n",
       "4                             0.702                   0.105   \n",
       "\n",
       "   Some college raw value  Ratio of population to mental health providers  \\\n",
       "0                   0.554                                         50354.0   \n",
       "1                   0.615                                          6076.0   \n",
       "2                   0.499                                          9452.0   \n",
       "3                   0.460                                         20380.0   \n",
       "4                   0.561                                         10344.0   \n",
       "\n",
       "   Median household income raw value  Average Temperature  \\\n",
       "0                            51622.0            64.658333   \n",
       "1                            51957.0            67.733333   \n",
       "2                            39997.0            62.325000   \n",
       "3                            39276.0            61.333333   \n",
       "4                            37264.0            62.100000   \n",
       "\n",
       "   Average Precipitation  RUCC  Poor mental health days raw value  Crude Rate  \\\n",
       "0               3.769167   2.0                                4.1        21.7   \n",
       "1               3.720833   3.0                                4.1        18.2   \n",
       "2               4.231667   3.0                                4.8        14.4   \n",
       "3               5.382500   4.0                                4.8        17.4   \n",
       "4               4.965000   3.0                                4.4        24.0   \n",
       "\n",
       "   high_school_treated  unemployment_treated  college_treated  \\\n",
       "0                    0                     0                0   \n",
       "1                    0                     0                1   \n",
       "2                    0                     0                0   \n",
       "3                    0                     0                0   \n",
       "4                    0                     0                0   \n",
       "\n",
       "   mental_health_provider_treated  household_income_treated  \\\n",
       "0                               0                         1   \n",
       "1                               0                         1   \n",
       "2                               0                         0   \n",
       "3                               0                         0   \n",
       "4                               0                         0   \n",
       "\n",
       "   temperature_treated  precipitation_treated  \n",
       "0                    0                      0  \n",
       "1                    0                      0  \n",
       "2                    0                      0  \n",
       "3                    0                      0  \n",
       "4                    0                      0  "
      ]
     },
     "execution_count": 2,
     "metadata": {},
     "output_type": "execute_result"
    }
   ],
   "source": [
    "df = pd.read_csv('../../../data/processed_data/df_matching.csv')\n",
    "df.head()"
   ]
  },
  {
   "cell_type": "code",
   "execution_count": 29,
   "metadata": {},
   "outputs": [],
   "source": [
    "locations = list(range(3, 11))"
   ]
  },
  {
   "cell_type": "code",
   "execution_count": 30,
   "metadata": {
    "scrolled": true
   },
   "outputs": [
    {
     "data": {
      "text/html": [
       "<div>\n",
       "<style scoped>\n",
       "    .dataframe tbody tr th:only-of-type {\n",
       "        vertical-align: middle;\n",
       "    }\n",
       "\n",
       "    .dataframe tbody tr th {\n",
       "        vertical-align: top;\n",
       "    }\n",
       "\n",
       "    .dataframe thead th {\n",
       "        text-align: right;\n",
       "    }\n",
       "</style>\n",
       "<table border=\"1\" class=\"dataframe\">\n",
       "  <thead>\n",
       "    <tr style=\"text-align: right;\">\n",
       "      <th></th>\n",
       "      <th>Some college raw value</th>\n",
       "      <th>Ratio of population to mental health providers</th>\n",
       "      <th>Median household income raw value</th>\n",
       "      <th>Average Temperature</th>\n",
       "      <th>Average Precipitation</th>\n",
       "      <th>RUCC</th>\n",
       "      <th>Poor mental health days raw value</th>\n",
       "      <th>Crude Rate</th>\n",
       "    </tr>\n",
       "  </thead>\n",
       "  <tbody>\n",
       "    <tr>\n",
       "      <th>Some college raw value</th>\n",
       "      <td>1.000000</td>\n",
       "      <td>-0.293784</td>\n",
       "      <td>0.625786</td>\n",
       "      <td>-0.257692</td>\n",
       "      <td>-0.071437</td>\n",
       "      <td>-0.402076</td>\n",
       "      <td>-0.482406</td>\n",
       "      <td>-0.319640</td>\n",
       "    </tr>\n",
       "    <tr>\n",
       "      <th>Ratio of population to mental health providers</th>\n",
       "      <td>-0.293784</td>\n",
       "      <td>1.000000</td>\n",
       "      <td>-0.166140</td>\n",
       "      <td>0.123440</td>\n",
       "      <td>-0.005733</td>\n",
       "      <td>0.059733</td>\n",
       "      <td>0.103573</td>\n",
       "      <td>0.084384</td>\n",
       "    </tr>\n",
       "    <tr>\n",
       "      <th>Median household income raw value</th>\n",
       "      <td>0.625786</td>\n",
       "      <td>-0.166140</td>\n",
       "      <td>1.000000</td>\n",
       "      <td>-0.163650</td>\n",
       "      <td>-0.078292</td>\n",
       "      <td>-0.476416</td>\n",
       "      <td>-0.498450</td>\n",
       "      <td>-0.340603</td>\n",
       "    </tr>\n",
       "    <tr>\n",
       "      <th>Average Temperature</th>\n",
       "      <td>-0.257692</td>\n",
       "      <td>0.123440</td>\n",
       "      <td>-0.163650</td>\n",
       "      <td>1.000000</td>\n",
       "      <td>0.168921</td>\n",
       "      <td>-0.194946</td>\n",
       "      <td>0.211751</td>\n",
       "      <td>-0.112829</td>\n",
       "    </tr>\n",
       "    <tr>\n",
       "      <th>Average Precipitation</th>\n",
       "      <td>-0.071437</td>\n",
       "      <td>-0.005733</td>\n",
       "      <td>-0.078292</td>\n",
       "      <td>0.168921</td>\n",
       "      <td>1.000000</td>\n",
       "      <td>-0.024316</td>\n",
       "      <td>0.146356</td>\n",
       "      <td>-0.032800</td>\n",
       "    </tr>\n",
       "    <tr>\n",
       "      <th>RUCC</th>\n",
       "      <td>-0.402076</td>\n",
       "      <td>0.059733</td>\n",
       "      <td>-0.476416</td>\n",
       "      <td>-0.194946</td>\n",
       "      <td>-0.024316</td>\n",
       "      <td>1.000000</td>\n",
       "      <td>0.214069</td>\n",
       "      <td>0.586063</td>\n",
       "    </tr>\n",
       "    <tr>\n",
       "      <th>Poor mental health days raw value</th>\n",
       "      <td>-0.482406</td>\n",
       "      <td>0.103573</td>\n",
       "      <td>-0.498450</td>\n",
       "      <td>0.211751</td>\n",
       "      <td>0.146356</td>\n",
       "      <td>0.214069</td>\n",
       "      <td>1.000000</td>\n",
       "      <td>0.254278</td>\n",
       "    </tr>\n",
       "    <tr>\n",
       "      <th>Crude Rate</th>\n",
       "      <td>-0.319640</td>\n",
       "      <td>0.084384</td>\n",
       "      <td>-0.340603</td>\n",
       "      <td>-0.112829</td>\n",
       "      <td>-0.032800</td>\n",
       "      <td>0.586063</td>\n",
       "      <td>0.254278</td>\n",
       "      <td>1.000000</td>\n",
       "    </tr>\n",
       "  </tbody>\n",
       "</table>\n",
       "</div>"
      ],
      "text/plain": [
       "                                                Some college raw value  \\\n",
       "Some college raw value                                        1.000000   \n",
       "Ratio of population to mental health providers               -0.293784   \n",
       "Median household income raw value                             0.625786   \n",
       "Average Temperature                                          -0.257692   \n",
       "Average Precipitation                                        -0.071437   \n",
       "RUCC                                                         -0.402076   \n",
       "Poor mental health days raw value                            -0.482406   \n",
       "Crude Rate                                                   -0.319640   \n",
       "\n",
       "                                                Ratio of population to mental health providers  \\\n",
       "Some college raw value                                                               -0.293784   \n",
       "Ratio of population to mental health providers                                        1.000000   \n",
       "Median household income raw value                                                    -0.166140   \n",
       "Average Temperature                                                                   0.123440   \n",
       "Average Precipitation                                                                -0.005733   \n",
       "RUCC                                                                                  0.059733   \n",
       "Poor mental health days raw value                                                     0.103573   \n",
       "Crude Rate                                                                            0.084384   \n",
       "\n",
       "                                                Median household income raw value  \\\n",
       "Some college raw value                                                   0.625786   \n",
       "Ratio of population to mental health providers                          -0.166140   \n",
       "Median household income raw value                                        1.000000   \n",
       "Average Temperature                                                     -0.163650   \n",
       "Average Precipitation                                                   -0.078292   \n",
       "RUCC                                                                    -0.476416   \n",
       "Poor mental health days raw value                                       -0.498450   \n",
       "Crude Rate                                                              -0.340603   \n",
       "\n",
       "                                                Average Temperature  \\\n",
       "Some college raw value                                    -0.257692   \n",
       "Ratio of population to mental health providers             0.123440   \n",
       "Median household income raw value                         -0.163650   \n",
       "Average Temperature                                        1.000000   \n",
       "Average Precipitation                                      0.168921   \n",
       "RUCC                                                      -0.194946   \n",
       "Poor mental health days raw value                          0.211751   \n",
       "Crude Rate                                                -0.112829   \n",
       "\n",
       "                                                Average Precipitation  \\\n",
       "Some college raw value                                      -0.071437   \n",
       "Ratio of population to mental health providers              -0.005733   \n",
       "Median household income raw value                           -0.078292   \n",
       "Average Temperature                                          0.168921   \n",
       "Average Precipitation                                        1.000000   \n",
       "RUCC                                                        -0.024316   \n",
       "Poor mental health days raw value                            0.146356   \n",
       "Crude Rate                                                  -0.032800   \n",
       "\n",
       "                                                    RUCC  \\\n",
       "Some college raw value                         -0.402076   \n",
       "Ratio of population to mental health providers  0.059733   \n",
       "Median household income raw value              -0.476416   \n",
       "Average Temperature                            -0.194946   \n",
       "Average Precipitation                          -0.024316   \n",
       "RUCC                                            1.000000   \n",
       "Poor mental health days raw value               0.214069   \n",
       "Crude Rate                                      0.586063   \n",
       "\n",
       "                                                Poor mental health days raw value  \\\n",
       "Some college raw value                                                  -0.482406   \n",
       "Ratio of population to mental health providers                           0.103573   \n",
       "Median household income raw value                                       -0.498450   \n",
       "Average Temperature                                                      0.211751   \n",
       "Average Precipitation                                                    0.146356   \n",
       "RUCC                                                                     0.214069   \n",
       "Poor mental health days raw value                                        1.000000   \n",
       "Crude Rate                                                               0.254278   \n",
       "\n",
       "                                                Crude Rate  \n",
       "Some college raw value                           -0.319640  \n",
       "Ratio of population to mental health providers    0.084384  \n",
       "Median household income raw value                -0.340603  \n",
       "Average Temperature                              -0.112829  \n",
       "Average Precipitation                            -0.032800  \n",
       "RUCC                                              0.586063  \n",
       "Poor mental health days raw value                 0.254278  \n",
       "Crude Rate                                        1.000000  "
      ]
     },
     "execution_count": 30,
     "metadata": {},
     "output_type": "execute_result"
    }
   ],
   "source": [
    "cor = df.corr()\n",
    "cor.iloc[locations, locations]"
   ]
  },
  {
   "cell_type": "markdown",
   "metadata": {},
   "source": [
    "Influence poor mental health days: 'Some college raw value', 'Median household income raw value'"
   ]
  },
  {
   "cell_type": "code",
   "execution_count": 31,
   "metadata": {},
   "outputs": [
    {
     "data": {
      "text/html": [
       "<div>\n",
       "<style scoped>\n",
       "    .dataframe tbody tr th:only-of-type {\n",
       "        vertical-align: middle;\n",
       "    }\n",
       "\n",
       "    .dataframe tbody tr th {\n",
       "        vertical-align: top;\n",
       "    }\n",
       "\n",
       "    .dataframe thead th {\n",
       "        text-align: right;\n",
       "    }\n",
       "</style>\n",
       "<table border=\"1\" class=\"dataframe\">\n",
       "  <thead>\n",
       "    <tr style=\"text-align: right;\">\n",
       "      <th></th>\n",
       "      <th>State Abbreviation</th>\n",
       "      <th>Name</th>\n",
       "      <th>Release Year</th>\n",
       "      <th>High school graduation raw value</th>\n",
       "      <th>Unemployment raw value</th>\n",
       "      <th>Some college raw value</th>\n",
       "      <th>Ratio of population to mental health providers</th>\n",
       "      <th>Median household income raw value</th>\n",
       "      <th>Average Temperature</th>\n",
       "      <th>Average Precipitation</th>\n",
       "      <th>...</th>\n",
       "      <th>Poor mental health days raw value</th>\n",
       "      <th>Crude Rate</th>\n",
       "      <th>high_school_treated</th>\n",
       "      <th>unemployment_treated</th>\n",
       "      <th>college_treated</th>\n",
       "      <th>mental_health_provider_treated</th>\n",
       "      <th>household_income_treated</th>\n",
       "      <th>temperature_treated</th>\n",
       "      <th>precipitation_treated</th>\n",
       "      <th>pscore</th>\n",
       "    </tr>\n",
       "    <tr>\n",
       "      <th>college_and_income_treated</th>\n",
       "      <th></th>\n",
       "      <th></th>\n",
       "      <th></th>\n",
       "      <th></th>\n",
       "      <th></th>\n",
       "      <th></th>\n",
       "      <th></th>\n",
       "      <th></th>\n",
       "      <th></th>\n",
       "      <th></th>\n",
       "      <th></th>\n",
       "      <th></th>\n",
       "      <th></th>\n",
       "      <th></th>\n",
       "      <th></th>\n",
       "      <th></th>\n",
       "      <th></th>\n",
       "      <th></th>\n",
       "      <th></th>\n",
       "      <th></th>\n",
       "      <th></th>\n",
       "    </tr>\n",
       "  </thead>\n",
       "  <tbody>\n",
       "    <tr>\n",
       "      <th>0</th>\n",
       "      <td>2851</td>\n",
       "      <td>2851</td>\n",
       "      <td>2851</td>\n",
       "      <td>2842</td>\n",
       "      <td>2851</td>\n",
       "      <td>2851</td>\n",
       "      <td>2851</td>\n",
       "      <td>2851</td>\n",
       "      <td>2851</td>\n",
       "      <td>2851</td>\n",
       "      <td>...</td>\n",
       "      <td>2851</td>\n",
       "      <td>2851</td>\n",
       "      <td>2851</td>\n",
       "      <td>2851</td>\n",
       "      <td>2851</td>\n",
       "      <td>2851</td>\n",
       "      <td>2851</td>\n",
       "      <td>2851</td>\n",
       "      <td>2851</td>\n",
       "      <td>2851</td>\n",
       "    </tr>\n",
       "    <tr>\n",
       "      <th>1</th>\n",
       "      <td>1611</td>\n",
       "      <td>1611</td>\n",
       "      <td>1611</td>\n",
       "      <td>1599</td>\n",
       "      <td>1611</td>\n",
       "      <td>1611</td>\n",
       "      <td>1611</td>\n",
       "      <td>1611</td>\n",
       "      <td>1611</td>\n",
       "      <td>1611</td>\n",
       "      <td>...</td>\n",
       "      <td>1611</td>\n",
       "      <td>1611</td>\n",
       "      <td>1611</td>\n",
       "      <td>1611</td>\n",
       "      <td>1611</td>\n",
       "      <td>1611</td>\n",
       "      <td>1611</td>\n",
       "      <td>1611</td>\n",
       "      <td>1611</td>\n",
       "      <td>1611</td>\n",
       "    </tr>\n",
       "  </tbody>\n",
       "</table>\n",
       "<p>2 rows × 21 columns</p>\n",
       "</div>"
      ],
      "text/plain": [
       "                            State Abbreviation  Name  Release Year  \\\n",
       "college_and_income_treated                                           \n",
       "0                                         2851  2851          2851   \n",
       "1                                         1611  1611          1611   \n",
       "\n",
       "                            High school graduation raw value  \\\n",
       "college_and_income_treated                                     \n",
       "0                                                       2842   \n",
       "1                                                       1599   \n",
       "\n",
       "                            Unemployment raw value  Some college raw value  \\\n",
       "college_and_income_treated                                                   \n",
       "0                                             2851                    2851   \n",
       "1                                             1611                    1611   \n",
       "\n",
       "                            Ratio of population to mental health providers  \\\n",
       "college_and_income_treated                                                   \n",
       "0                                                                     2851   \n",
       "1                                                                     1611   \n",
       "\n",
       "                            Median household income raw value  \\\n",
       "college_and_income_treated                                      \n",
       "0                                                        2851   \n",
       "1                                                        1611   \n",
       "\n",
       "                            Average Temperature  Average Precipitation  ...  \\\n",
       "college_and_income_treated                                              ...   \n",
       "0                                          2851                   2851  ...   \n",
       "1                                          1611                   1611  ...   \n",
       "\n",
       "                            Poor mental health days raw value  Crude Rate  \\\n",
       "college_and_income_treated                                                  \n",
       "0                                                        2851        2851   \n",
       "1                                                        1611        1611   \n",
       "\n",
       "                            high_school_treated  unemployment_treated  \\\n",
       "college_and_income_treated                                              \n",
       "0                                          2851                  2851   \n",
       "1                                          1611                  1611   \n",
       "\n",
       "                            college_treated  mental_health_provider_treated  \\\n",
       "college_and_income_treated                                                    \n",
       "0                                      2851                            2851   \n",
       "1                                      1611                            1611   \n",
       "\n",
       "                            household_income_treated  temperature_treated  \\\n",
       "college_and_income_treated                                                  \n",
       "0                                               2851                 2851   \n",
       "1                                               1611                 1611   \n",
       "\n",
       "                            precipitation_treated  pscore  \n",
       "college_and_income_treated                                 \n",
       "0                                            2851    2851  \n",
       "1                                            1611    1611  \n",
       "\n",
       "[2 rows x 21 columns]"
      ]
     },
     "execution_count": 31,
     "metadata": {},
     "output_type": "execute_result"
    }
   ],
   "source": [
    "df['college_and_income_treated'] = df['household_income_treated'] & df['college_treated']\n",
    "df.groupby('college_and_income_treated').count()"
   ]
  },
  {
   "cell_type": "markdown",
   "metadata": {},
   "source": [
    "## Step 2: Identify Col needed and examine relationship with covariates"
   ]
  },
  {
   "cell_type": "code",
   "execution_count": 32,
   "metadata": {},
   "outputs": [],
   "source": [
    "categorize_treatment = 'college_and_income_treated'"
   ]
  },
  {
   "cell_type": "code",
   "execution_count": 33,
   "metadata": {},
   "outputs": [
    {
     "data": {
      "text/plain": [
       "<AxesSubplot:xlabel='High school graduation raw value', ylabel='Count'>"
      ]
     },
     "execution_count": 33,
     "metadata": {},
     "output_type": "execute_result"
    },
    {
     "data": {
      "image/png": "[encoded data removed]",
      "text/plain": [
       "<Figure size 432x288 with 1 Axes>"
      ]
     },
     "metadata": {
      "needs_background": "light"
     },
     "output_type": "display_data"
    }
   ],
   "source": [
    "sns.histplot(data=df, x=\"High school graduation raw value\", hue=categorize_treatment, kde=True)"
   ]
  },
  {
   "cell_type": "code",
   "execution_count": 34,
   "metadata": {},
   "outputs": [
    {
     "data": {
      "text/plain": [
       "<AxesSubplot:xlabel='Some college raw value', ylabel='Count'>"
      ]
     },
     "execution_count": 34,
     "metadata": {},
     "output_type": "execute_result"
    },
    {
     "data": {
      "image/png": "[encoded data removed]",
      "text/plain": [
       "<Figure size 432x288 with 1 Axes>"
      ]
     },
     "metadata": {
      "needs_background": "light"
     },
     "output_type": "display_data"
    }
   ],
   "source": [
    "sns.histplot(data=df, x=\"Some college raw value\", hue=categorize_treatment, kde=True)"
   ]
  },
  {
   "cell_type": "code",
   "execution_count": 35,
   "metadata": {},
   "outputs": [
    {
     "data": {
      "text/plain": [
       "<AxesSubplot:xlabel='Unemployment raw value', ylabel='Count'>"
      ]
     },
     "execution_count": 35,
     "metadata": {},
     "output_type": "execute_result"
    },
    {
     "data": {
      "image/png": "[encoded data removed]",
      "text/plain": [
       "<Figure size 432x288 with 1 Axes>"
      ]
     },
     "metadata": {
      "needs_background": "light"
     },
     "output_type": "display_data"
    }
   ],
   "source": [
    "sns.histplot(data=df, x=\"Unemployment raw value\", hue=categorize_treatment, kde=True)"
   ]
  },
  {
   "cell_type": "code",
   "execution_count": 36,
   "metadata": {},
   "outputs": [
    {
     "data": {
      "text/plain": [
       "<AxesSubplot:xlabel='Median household income raw value', ylabel='Count'>"
      ]
     },
     "execution_count": 36,
     "metadata": {},
     "output_type": "execute_result"
    },
    {
     "data": {
      "image/png": "[encoded data removed]",
      "text/plain": [
       "<Figure size 432x288 with 1 Axes>"
      ]
     },
     "metadata": {
      "needs_background": "light"
     },
     "output_type": "display_data"
    }
   ],
   "source": [
    "sns.histplot(data=df, x=\"Median household income raw value\", hue=categorize_treatment, kde=True)"
   ]
  },
  {
   "cell_type": "code",
   "execution_count": 37,
   "metadata": {},
   "outputs": [
    {
     "data": {
      "text/plain": [
       "<AxesSubplot:xlabel='Poor mental health days raw value', ylabel='Count'>"
      ]
     },
     "execution_count": 37,
     "metadata": {},
     "output_type": "execute_result"
    },
    {
     "data": {
      "image/png": "[encoded data removed]",
      "text/plain": [
       "<Figure size 432x288 with 1 Axes>"
      ]
     },
     "metadata": {
      "needs_background": "light"
     },
     "output_type": "display_data"
    }
   ],
   "source": [
    "sns.histplot(data=df, x=\"Poor mental health days raw value\", hue=categorize_treatment, kde=True)"
   ]
  },
  {
   "cell_type": "code",
   "execution_count": 38,
   "metadata": {},
   "outputs": [
    {
     "data": {
      "text/plain": [
       "<AxesSubplot:xlabel='Crude Rate', ylabel='Count'>"
      ]
     },
     "execution_count": 38,
     "metadata": {},
     "output_type": "execute_result"
    },
    {
     "data": {
      "image/png": "[encoded data removed]",
      "text/plain": [
       "<Figure size 432x288 with 1 Axes>"
      ]
     },
     "metadata": {
      "needs_background": "light"
     },
     "output_type": "display_data"
    }
   ],
   "source": [
    "sns.histplot(data=df, x=\"Crude Rate\", hue=categorize_treatment, kde=True)"
   ]
  },
  {
   "cell_type": "markdown",
   "metadata": {},
   "source": [
    "Counties with higher income than median have higher high school and college rates, lower unemployment rate, lower poor mental health days, and lower rate of suicide."
   ]
  },
  {
   "cell_type": "markdown",
   "metadata": {},
   "source": [
    "## Remove Null mental health days raw Value"
   ]
  },
  {
   "cell_type": "code",
   "execution_count": 39,
   "metadata": {},
   "outputs": [],
   "source": [
    "null_vals = df['Poor mental health days raw value'].isna()\n",
    "df_crude = df.copy()\n",
    "df = df[~null_vals] # Store rows without null values"
   ]
  },
  {
   "cell_type": "markdown",
   "metadata": {},
   "source": [
    "# Linear Regressions\n",
    "Q2: What are the estimated ATE specifications?"
   ]
  },
  {
   "cell_type": "code",
   "execution_count": 40,
   "metadata": {},
   "outputs": [],
   "source": [
    "def OLS_estimate(outcome, covariates):\n",
    "    covariates = sm.add_constant(covariates) # adding a constant \n",
    "    model = sm.OLS(outcome, covariates)\n",
    "    result = model.fit()\n",
    "    print(result.summary())"
   ]
  },
  {
   "cell_type": "code",
   "execution_count": 41,
   "metadata": {},
   "outputs": [
    {
     "name": "stdout",
     "output_type": "stream",
     "text": [
      "                                    OLS Regression Results                                   \n",
      "=============================================================================================\n",
      "Dep. Variable:     Poor mental health days raw value   R-squared:                       0.200\n",
      "Model:                                           OLS   Adj. R-squared:                  0.200\n",
      "Method:                                Least Squares   F-statistic:                     558.7\n",
      "Date:                               Mon, 06 Dec 2021   Prob (F-statistic):          3.13e-217\n",
      "Time:                                       10:02:29   Log-Likelihood:                -3966.3\n",
      "No. Observations:                               4462   AIC:                             7939.\n",
      "Df Residuals:                                   4459   BIC:                             7958.\n",
      "Df Model:                                          2                                         \n",
      "Covariance Type:                           nonrobust                                         \n",
      "==============================================================================================\n",
      "                                 coef    std err          t      P>|t|      [0.025      0.975]\n",
      "----------------------------------------------------------------------------------------------\n",
      "const                          3.5798      0.033    109.236      0.000       3.516       3.644\n",
      "college_and_income_treated    -0.5547      0.020    -28.394      0.000      -0.593      -0.516\n",
      "Unemployment raw value         2.3862      0.349      6.840      0.000       1.702       3.070\n",
      "==============================================================================\n",
      "Omnibus:                      329.660   Durbin-Watson:                   1.530\n",
      "Prob(Omnibus):                  0.000   Jarque-Bera (JB):              602.237\n",
      "Skew:                           0.531   Prob(JB):                    1.68e-131\n",
      "Kurtosis:                       4.454   Cond. No.                         43.0\n",
      "==============================================================================\n",
      "\n",
      "Notes:\n",
      "[1] Standard Errors assume that the covariance matrix of the errors is correctly specified.\n"
     ]
    }
   ],
   "source": [
    "# Unemployment only\n",
    "outcome = df['Poor mental health days raw value']\n",
    "covariates = df[[categorize_treatment, 'Unemployment raw value']]\n",
    "OLS_estimate(outcome, covariates)"
   ]
  },
  {
   "cell_type": "code",
   "execution_count": 42,
   "metadata": {},
   "outputs": [
    {
     "name": "stdout",
     "output_type": "stream",
     "text": [
      "                                    OLS Regression Results                                   \n",
      "=============================================================================================\n",
      "Dep. Variable:     Poor mental health days raw value   R-squared:                       0.200\n",
      "Model:                                           OLS   Adj. R-squared:                  0.200\n",
      "Method:                                Least Squares   F-statistic:                     372.4\n",
      "Date:                               Mon, 06 Dec 2021   Prob (F-statistic):          8.30e-216\n",
      "Time:                                       10:02:29   Log-Likelihood:                -3966.3\n",
      "No. Observations:                               4462   AIC:                             7941.\n",
      "Df Residuals:                                   4458   BIC:                             7966.\n",
      "Df Model:                                          3                                         \n",
      "Covariance Type:                           nonrobust                                         \n",
      "==================================================================================================================\n",
      "                                                     coef    std err          t      P>|t|      [0.025      0.975]\n",
      "------------------------------------------------------------------------------------------------------------------\n",
      "const                                              3.5798      0.033    109.223      0.000       3.516       3.644\n",
      "college_and_income_treated                        -0.5544      0.020    -28.184      0.000      -0.593      -0.516\n",
      "Unemployment raw value                             2.3778      0.356      6.677      0.000       1.680       3.076\n",
      "Ratio of population to mental health providers  1.133e-07   9.61e-07      0.118      0.906   -1.77e-06       2e-06\n",
      "==============================================================================\n",
      "Omnibus:                      328.904   Durbin-Watson:                   1.530\n",
      "Prob(Omnibus):                  0.000   Jarque-Bera (JB):              600.622\n",
      "Skew:                           0.530   Prob(JB):                    3.77e-131\n",
      "Kurtosis:                       4.452   Cond. No.                     4.42e+05\n",
      "==============================================================================\n",
      "\n",
      "Notes:\n",
      "[1] Standard Errors assume that the covariance matrix of the errors is correctly specified.\n",
      "[2] The condition number is large, 4.42e+05. This might indicate that there are\n",
      "strong multicollinearity or other numerical problems.\n"
     ]
    }
   ],
   "source": [
    "# Unemployment only + mental health providers\n",
    "outcome = df['Poor mental health days raw value']\n",
    "covariates = df[[categorize_treatment, 'Unemployment raw value', 'Ratio of population to mental health providers']]\n",
    "OLS_estimate(outcome, covariates)"
   ]
  },
  {
   "cell_type": "markdown",
   "metadata": {},
   "source": [
    "Conclusion: it seems like high school graduation, college graduation, and unemployment are all covariates, but college graduation seems to help the most."
   ]
  },
  {
   "cell_type": "markdown",
   "metadata": {},
   "source": [
    "## Propensity Score Matching"
   ]
  },
  {
   "cell_type": "code",
   "execution_count": 43,
   "metadata": {},
   "outputs": [],
   "source": [
    "only_treated = (df[\"household_income_treated\"] == 1)\n",
    "only_untreated = (df[\"household_income_treated\"] == 0)"
   ]
  },
  {
   "cell_type": "code",
   "execution_count": 44,
   "metadata": {},
   "outputs": [
    {
     "data": {
      "text/plain": [
       "<AxesSubplot:xlabel='Unemployment raw value', ylabel='Some college raw value'>"
      ]
     },
     "execution_count": 44,
     "metadata": {},
     "output_type": "execute_result"
    },
    {
     "data": {
      "image/png": "[encoded data removed]",
      "text/plain": [
       "<Figure size 432x288 with 1 Axes>"
      ]
     },
     "metadata": {
      "needs_background": "light"
     },
     "output_type": "display_data"
    }
   ],
   "source": [
    "sns.scatterplot(data=df[only_treated], x = \"Unemployment raw value\", y = \"Some college raw value\", hue = \"household_income_treated\")"
   ]
  },
  {
   "cell_type": "code",
   "execution_count": 88,
   "metadata": {
    "scrolled": true
   },
   "outputs": [
    {
     "data": {
      "text/plain": [
       "<AxesSubplot:xlabel='Unemployment raw value', ylabel='Some college raw value'>"
      ]
     },
     "execution_count": 88,
     "metadata": {},
     "output_type": "execute_result"
    },
    {
     "data": {
      "image/png": "[encoded data removed]",
      "text/plain": [
       "<Figure size 432x288 with 1 Axes>"
      ]
     },
     "metadata": {
      "needs_background": "light"
     },
     "output_type": "display_data"
    }
   ],
   "source": [
    "sns.scatterplot(data=df[only_untreated], x = \"Unemployment raw value\", y = \"Some college raw value\", hue = \"household_income_treated\")"
   ]
  },
  {
   "cell_type": "code",
   "execution_count": 138,
   "metadata": {},
   "outputs": [
    {
     "data": {
      "text/plain": [
       "count    2232.000000\n",
       "mean        1.901434\n",
       "std         1.225809\n",
       "min         1.000000\n",
       "25%         1.000000\n",
       "50%         1.000000\n",
       "75%         2.000000\n",
       "max         7.000000\n",
       "Name: RUCC, dtype: float64"
      ]
     },
     "execution_count": 138,
     "metadata": {},
     "output_type": "execute_result"
    }
   ],
   "source": [
    "df.loc[only_treated, \"RUCC\"].describe()"
   ]
  },
  {
   "cell_type": "code",
   "execution_count": 139,
   "metadata": {},
   "outputs": [
    {
     "data": {
      "text/plain": [
       "count    2230.000000\n",
       "mean        3.140807\n",
       "std         1.543418\n",
       "min         1.000000\n",
       "25%         2.000000\n",
       "50%         3.000000\n",
       "75%         4.000000\n",
       "max         9.000000\n",
       "Name: RUCC, dtype: float64"
      ]
     },
     "execution_count": 139,
     "metadata": {},
     "output_type": "execute_result"
    }
   ],
   "source": [
    "df.loc[only_untreated, \"RUCC\"].describe()"
   ]
  },
  {
   "cell_type": "markdown",
   "metadata": {},
   "source": [
    "### Only use unemployment above 0.05 and college below 0.7 and RUCC above 2"
   ]
  },
  {
   "cell_type": "code",
   "execution_count": 176,
   "metadata": {},
   "outputs": [
    {
     "name": "stdout",
     "output_type": "stream",
     "text": [
      "0.05197176553\n",
      "0.708073734695\n",
      "2.0\n"
     ]
    }
   ],
   "source": [
    "print(df[\"Unemployment raw value\"].quantile(0.1)) # exclude best 10%\n",
    "print(df[\"Some college raw value\"].quantile(0.85)) # 90% below\n",
    "print(df[\"RUCC\"].quantile(0.32)) # exclude 32% below"
   ]
  },
  {
   "cell_type": "code",
   "execution_count": 177,
   "metadata": {},
   "outputs": [],
   "source": [
    "college_filter = (df[\"Some college raw value\"] <= df[\"Some college raw value\"].quantile(0.85))\n",
    "rucc_above2 = (df[\"RUCC\"] > df[\"RUCC\"].quantile(0.32))"
   ]
  },
  {
   "cell_type": "code",
   "execution_count": 194,
   "metadata": {},
   "outputs": [],
   "source": [
    "legal = (df[\"Unemployment raw value\"] >= (df[\"Unemployment raw value\"].quantile(0.1))) & rucc_above2\n",
    "df_trimmed = df[legal] "
   ]
  },
  {
   "cell_type": "code",
   "execution_count": 19,
   "metadata": {},
   "outputs": [
    {
     "name": "stdout",
     "output_type": "stream",
     "text": [
      "Optimization terminated successfully.\n",
      "         Current function value: 0.582459\n",
      "         Iterations 7\n"
     ]
    },
    {
     "data": {
      "image/png": "[encoded data removed]",
      "text/plain": [
       "<Figure size 432x288 with 1 Axes>"
      ]
     },
     "metadata": {
      "needs_background": "light"
     },
     "output_type": "display_data"
    }
   ],
   "source": [
    "def gen_pscore(data, outcome, covariates):\n",
    "    model = sm.Logit(outcome, covariates)\n",
    "    result = model.fit()\n",
    "    data['pscore'] = result.predict(covariates)\n",
    "    data.groupby([categorize_treatment]).pscore.plot(kind='hist', bins=20, alpha=0.8, legend=True)\n",
    "\n",
    "gen_pscore(df, df[categorize_treatment], df[['Unemployment raw value', 'RUCC', 'Ratio of population to mental health providers']] )"
   ]
  },
  {
   "cell_type": "code",
   "execution_count": 21,
   "metadata": {},
   "outputs": [
    {
     "data": {
      "text/html": [
       "<div>\n",
       "<style scoped>\n",
       "    .dataframe tbody tr th:only-of-type {\n",
       "        vertical-align: middle;\n",
       "    }\n",
       "\n",
       "    .dataframe tbody tr th {\n",
       "        vertical-align: top;\n",
       "    }\n",
       "\n",
       "    .dataframe thead th {\n",
       "        text-align: right;\n",
       "    }\n",
       "</style>\n",
       "<table border=\"1\" class=\"dataframe\">\n",
       "  <thead>\n",
       "    <tr style=\"text-align: right;\">\n",
       "      <th></th>\n",
       "      <th>count</th>\n",
       "      <th>mean</th>\n",
       "      <th>std</th>\n",
       "      <th>min</th>\n",
       "      <th>25%</th>\n",
       "      <th>50%</th>\n",
       "      <th>75%</th>\n",
       "      <th>max</th>\n",
       "    </tr>\n",
       "    <tr>\n",
       "      <th>college_and_income_treated</th>\n",
       "      <th></th>\n",
       "      <th></th>\n",
       "      <th></th>\n",
       "      <th></th>\n",
       "      <th></th>\n",
       "      <th></th>\n",
       "      <th></th>\n",
       "      <th></th>\n",
       "    </tr>\n",
       "  </thead>\n",
       "  <tbody>\n",
       "    <tr>\n",
       "      <th>0</th>\n",
       "      <td>2851.0</td>\n",
       "      <td>0.273401</td>\n",
       "      <td>0.117575</td>\n",
       "      <td>0.001388</td>\n",
       "      <td>0.188064</td>\n",
       "      <td>0.282405</td>\n",
       "      <td>0.369304</td>\n",
       "      <td>0.507792</td>\n",
       "    </tr>\n",
       "    <tr>\n",
       "      <th>1</th>\n",
       "      <td>1611.0</td>\n",
       "      <td>0.378343</td>\n",
       "      <td>0.092836</td>\n",
       "      <td>0.001817</td>\n",
       "      <td>0.336326</td>\n",
       "      <td>0.409574</td>\n",
       "      <td>0.449912</td>\n",
       "      <td>0.506985</td>\n",
       "    </tr>\n",
       "  </tbody>\n",
       "</table>\n",
       "</div>"
      ],
      "text/plain": [
       "                             count      mean       std       min       25%  \\\n",
       "college_and_income_treated                                                   \n",
       "0                           2851.0  0.273401  0.117575  0.001388  0.188064   \n",
       "1                           1611.0  0.378343  0.092836  0.001817  0.336326   \n",
       "\n",
       "                                 50%       75%       max  \n",
       "college_and_income_treated                                \n",
       "0                           0.282405  0.369304  0.507792  \n",
       "1                           0.409574  0.449912  0.506985  "
      ]
     },
     "execution_count": 21,
     "metadata": {},
     "output_type": "execute_result"
    }
   ],
   "source": [
    "df.groupby([categorize_treatment]).pscore.describe()"
   ]
  },
  {
   "cell_type": "markdown",
   "metadata": {},
   "source": [
    "### Perform nearest-neighbor matching"
   ]
  },
  {
   "cell_type": "code",
   "execution_count": 24,
   "metadata": {},
   "outputs": [
    {
     "data": {
      "text/html": [
       "<div>\n",
       "<style scoped>\n",
       "    .dataframe tbody tr th:only-of-type {\n",
       "        vertical-align: middle;\n",
       "    }\n",
       "\n",
       "    .dataframe tbody tr th {\n",
       "        vertical-align: top;\n",
       "    }\n",
       "\n",
       "    .dataframe thead th {\n",
       "        text-align: right;\n",
       "    }\n",
       "</style>\n",
       "<table border=\"1\" class=\"dataframe\">\n",
       "  <thead>\n",
       "    <tr style=\"text-align: right;\">\n",
       "      <th></th>\n",
       "      <th>count</th>\n",
       "      <th>mean</th>\n",
       "      <th>std</th>\n",
       "      <th>min</th>\n",
       "      <th>25%</th>\n",
       "      <th>50%</th>\n",
       "      <th>75%</th>\n",
       "      <th>max</th>\n",
       "    </tr>\n",
       "    <tr>\n",
       "      <th>college_and_income_treated</th>\n",
       "      <th></th>\n",
       "      <th></th>\n",
       "      <th></th>\n",
       "      <th></th>\n",
       "      <th></th>\n",
       "      <th></th>\n",
       "      <th></th>\n",
       "      <th></th>\n",
       "    </tr>\n",
       "  </thead>\n",
       "  <tbody>\n",
       "    <tr>\n",
       "      <th>0</th>\n",
       "      <td>2849.0</td>\n",
       "      <td>0.273414</td>\n",
       "      <td>0.117424</td>\n",
       "      <td>0.002556</td>\n",
       "      <td>0.188072</td>\n",
       "      <td>0.282405</td>\n",
       "      <td>0.369294</td>\n",
       "      <td>0.504383</td>\n",
       "    </tr>\n",
       "    <tr>\n",
       "      <th>1</th>\n",
       "      <td>1611.0</td>\n",
       "      <td>0.378343</td>\n",
       "      <td>0.092836</td>\n",
       "      <td>0.001817</td>\n",
       "      <td>0.336326</td>\n",
       "      <td>0.409574</td>\n",
       "      <td>0.449912</td>\n",
       "      <td>0.506985</td>\n",
       "    </tr>\n",
       "  </tbody>\n",
       "</table>\n",
       "</div>"
      ],
      "text/plain": [
       "                             count      mean       std       min       25%  \\\n",
       "college_and_income_treated                                                   \n",
       "0                           2849.0  0.273414  0.117424  0.002556  0.188072   \n",
       "1                           1611.0  0.378343  0.092836  0.001817  0.336326   \n",
       "\n",
       "                                 50%       75%       max  \n",
       "college_and_income_treated                                \n",
       "0                           0.282405  0.369294  0.504383  \n",
       "1                           0.409574  0.449912  0.506985  "
      ]
     },
     "execution_count": 24,
     "metadata": {},
     "output_type": "execute_result"
    }
   ],
   "source": [
    "def trim(data):\n",
    "    control_data = data[data[categorize_treatment] == 0]\n",
    "    treat_data = data[data[categorize_treatment] == 1]\n",
    "\n",
    "    min_control, min_treat = control_data.pscore.min(), treat_data.pscore.min()\n",
    "    max_control, max_treat = control_data.pscore.max(), treat_data.pscore.max()\n",
    "\n",
    "    min_support = max(min_control, min_treat)\n",
    "    max_support = min(max_control, max_treat)\n",
    "\n",
    "    trim_data = data.loc[((data.pscore >= min_support) & (data.pscore <= max_support)),:]\n",
    "\n",
    "    return trim_data\n",
    "\n",
    "trim_df = trim(df)\n",
    "trim_df.groupby([categorize_treatment]).pscore.describe()"
   ]
  },
  {
   "cell_type": "code",
   "execution_count": 25,
   "metadata": {},
   "outputs": [
    {
     "name": "stdout",
     "output_type": "stream",
     "text": [
      "ATE from Nearest Neighbors Matching = -0.524\n"
     ]
    }
   ],
   "source": [
    "def Nearest_Neighbor_Pair(treated_df, non_treated_df):\n",
    "    treated_x = treated_df['pscore'].values\n",
    "    non_treated_x = non_treated_df['pscore'].values\n",
    "\n",
    "    nbrs = NearestNeighbors(n_neighbors=1).fit(np.expand_dims(non_treated_x, axis= 1))\n",
    "    distances, indices = nbrs.kneighbors(np.expand_dims(treated_x, axis= 1))\n",
    "    indices = indices.reshape(indices.shape[0])\n",
    "    matched = non_treated_df.iloc[indices]\n",
    "    return matched\n",
    "\n",
    "treated = trim_df[trim_df[categorize_treatment] == 1]\n",
    "non_treated = trim_df[trim_df[categorize_treatment] == 0]\n",
    "matched_df = Nearest_Neighbor_Pair(treated, non_treated)\n",
    "ATE = np.mean(treated['Poor mental health days raw value'].values - matched_df['Poor mental health days raw value'].values)\n",
    "print('ATE from Nearest Neighbors Matching = {}'.format(round(ATE, 3)))"
   ]
  },
  {
   "cell_type": "markdown",
   "metadata": {},
   "source": [
    "### Examine if the distributions for covariates are balanced"
   ]
  },
  {
   "cell_type": "markdown",
   "metadata": {},
   "source": [
    "Compute smd  \n",
    "source code: http://ethen8181.github.io/machine-learning/ab_tests/causal_inference/matching.html"
   ]
  },
  {
   "cell_type": "code",
   "execution_count": 26,
   "metadata": {},
   "outputs": [],
   "source": [
    "def compute_smd(covariates_table: pd.DataFrame, covariates: list, round_digits: int=4) -> pd.DataFrame:\n",
    "    covariates_smds = []\n",
    "    for var in covariates:\n",
    "        covariates_values = covariates_table[var].values\n",
    "        neg_mean = covariates_values[0, 0]\n",
    "        neg_std = covariates_values[0, 1]\n",
    "        pos_mean = covariates_values[1, 0]\n",
    "        pos_std = covariates_values[1, 1]\n",
    "\n",
    "        smd = (pos_mean - neg_mean) / np.sqrt((pos_std ** 2 + neg_std ** 2) / 2)\n",
    "        smd = round(abs(smd), round_digits)\n",
    "        covariates_smds.append(smd)\n",
    "\n",
    "    return pd.DataFrame({'features': covariates, 'smd': covariates_smds})"
   ]
  },
  {
   "cell_type": "code",
   "execution_count": 27,
   "metadata": {},
   "outputs": [
    {
     "data": {
      "text/html": [
       "<div>\n",
       "<style scoped>\n",
       "    .dataframe tbody tr th:only-of-type {\n",
       "        vertical-align: middle;\n",
       "    }\n",
       "\n",
       "    .dataframe tbody tr th {\n",
       "        vertical-align: top;\n",
       "    }\n",
       "\n",
       "    .dataframe thead tr th {\n",
       "        text-align: left;\n",
       "    }\n",
       "\n",
       "    .dataframe thead tr:last-of-type th {\n",
       "        text-align: right;\n",
       "    }\n",
       "</style>\n",
       "<table border=\"1\" class=\"dataframe\">\n",
       "  <thead>\n",
       "    <tr>\n",
       "      <th></th>\n",
       "      <th>college_and_income_treated</th>\n",
       "      <th colspan=\"2\" halign=\"left\">Unemployment raw value</th>\n",
       "      <th colspan=\"2\" halign=\"left\">Some college raw value</th>\n",
       "      <th colspan=\"2\" halign=\"left\">RUCC</th>\n",
       "    </tr>\n",
       "    <tr>\n",
       "      <th></th>\n",
       "      <th>count</th>\n",
       "      <th>mean</th>\n",
       "      <th>std</th>\n",
       "      <th>mean</th>\n",
       "      <th>std</th>\n",
       "      <th>mean</th>\n",
       "      <th>std</th>\n",
       "    </tr>\n",
       "    <tr>\n",
       "      <th>college_and_income_treated</th>\n",
       "      <th></th>\n",
       "      <th></th>\n",
       "      <th></th>\n",
       "      <th></th>\n",
       "      <th></th>\n",
       "      <th></th>\n",
       "      <th></th>\n",
       "    </tr>\n",
       "  </thead>\n",
       "  <tbody>\n",
       "    <tr>\n",
       "      <th>0</th>\n",
       "      <td>1611</td>\n",
       "      <td>0.087274</td>\n",
       "      <td>0.029271</td>\n",
       "      <td>0.571073</td>\n",
       "      <td>0.070051</td>\n",
       "      <td>1.821229</td>\n",
       "      <td>1.093889</td>\n",
       "    </tr>\n",
       "    <tr>\n",
       "      <th>1</th>\n",
       "      <td>1611</td>\n",
       "      <td>0.069275</td>\n",
       "      <td>0.019613</td>\n",
       "      <td>0.693250</td>\n",
       "      <td>0.060167</td>\n",
       "      <td>1.753569</td>\n",
       "      <td>1.121547</td>\n",
       "    </tr>\n",
       "  </tbody>\n",
       "</table>\n",
       "</div>"
      ],
      "text/plain": [
       "                           college_and_income_treated Unemployment raw value  \\\n",
       "                                                count                   mean   \n",
       "college_and_income_treated                                                     \n",
       "0                                                1611               0.087274   \n",
       "1                                                1611               0.069275   \n",
       "\n",
       "                                     Some college raw value            \\\n",
       "                                 std                   mean       std   \n",
       "college_and_income_treated                                              \n",
       "0                           0.029271               0.571073  0.070051   \n",
       "1                           0.019613               0.693250  0.060167   \n",
       "\n",
       "                                RUCC            \n",
       "                                mean       std  \n",
       "college_and_income_treated                      \n",
       "0                           1.821229  1.093889  \n",
       "1                           1.753569  1.121547  "
      ]
     },
     "execution_count": 27,
     "metadata": {},
     "output_type": "execute_result"
    }
   ],
   "source": [
    "covariates_list = ['Unemployment raw value', 'Some college raw value', 'RUCC']\n",
    "agg_operations = {categorize_treatment: 'count'}\n",
    "agg_operations.update({\n",
    "    covariate: ['mean', 'std'] for covariate in covariates_list\n",
    "})\n",
    "\n",
    "# Combine treated and matched_df\n",
    "covariates_table = pd.concat([treated, matched_df]).groupby(categorize_treatment).agg(agg_operations)\n",
    "covariates_table.head()"
   ]
  },
  {
   "cell_type": "code",
   "execution_count": 28,
   "metadata": {},
   "outputs": [
    {
     "name": "stdout",
     "output_type": "stream",
     "text": [
      "                 features     smd\n",
      "0  Unemployment raw value  0.7224\n",
      "1  Some college raw value  1.8711\n",
      "2                    RUCC  0.0611\n"
     ]
    }
   ],
   "source": [
    "# standardize mean difference, <= 0.25\n",
    "# Put both variables in there, unemployment/education balanced\n",
    "covariates_smd = compute_smd(covariates_table, covariates_list)\n",
    "print(covariates_smd)"
   ]
  },
  {
   "cell_type": "markdown",
   "metadata": {},
   "source": [
    "#### Since both rmds are smaller than 0.25, the distribution of unemployment rates and college grad rates is not too different between the two groups."
   ]
  },
  {
   "cell_type": "markdown",
   "metadata": {},
   "source": [
    "### stratification matching"
   ]
  },
  {
   "cell_type": "code",
   "execution_count": 43,
   "metadata": {},
   "outputs": [
    {
     "name": "stdout",
     "output_type": "stream",
     "text": [
      "The stratification matching estimate is -0.375\n"
     ]
    },
    {
     "name": "stderr",
     "output_type": "stream",
     "text": [
      "C:\\Users\\alnli\\AppData\\Local\\Temp/ipykernel_17964/2573337602.py:4: SettingWithCopyWarning: \n",
      "A value is trying to be set on a copy of a slice from a DataFrame.\n",
      "Try using .loc[row_indexer,col_indexer] = value instead\n",
      "\n",
      "See the caveats in the documentation: https://pandas.pydata.org/pandas-docs/stable/user_guide/indexing.html#returning-a-view-versus-a-copy\n",
      "  data['strata'] = pd.cut(data['pscore'], bins = mybins, labels = mylabels)\n"
     ]
    }
   ],
   "source": [
    "def stratified_matching(data):\n",
    "  mybins = np.arange(0.0, 1.1, 0.1)\n",
    "  mylabels = np.arange(1, 11)\n",
    "  data['strata'] = pd.cut(data['pscore'], bins = mybins, labels = mylabels)\n",
    "\n",
    "  # calculate the weights for each strata\n",
    "  strata_w = data[data[categorize_treatment] == 1].groupby('strata').size()/data[data[categorize_treatment] == 1].groupby('strata').size().sum()\n",
    "  \n",
    "  # calculate the ATT for each strata\n",
    "  strata_ate = data[data[categorize_treatment] == 1].groupby('strata')['Poor mental health days raw value'].mean() - data[data[categorize_treatment] == 0].groupby('strata')['Poor mental health days raw value'].mean()\n",
    "\n",
    "  # stratefied matching estimate \n",
    "  stratefied_ate = (strata_w * strata_ate).sum()  \n",
    "  print(\"The stratification matching estimate is {}\".format(round(stratefied_ate, 3))) \n",
    "  \n",
    "stratified_matching(trim_df)"
   ]
  },
  {
   "cell_type": "markdown",
   "metadata": {},
   "source": [
    "### Inverse Probability Weighted Matching (IPW)"
   ]
  },
  {
   "cell_type": "code",
   "execution_count": 44,
   "metadata": {},
   "outputs": [
    {
     "data": {
      "text/plain": [
       "0.053"
      ]
     },
     "execution_count": 44,
     "metadata": {},
     "output_type": "execute_result"
    }
   ],
   "source": [
    "def IPW_estimator(data, T, Y, P):\n",
    "  ITT = (data[T] * data[Y])/data[P] - ((1 - data[T])* data[Y])/(1 - data[P])\n",
    "  IPWE = ITT.mean()\n",
    "  return IPWE \n",
    "\n",
    "round(IPW_estimator(trim_df, categorize_treatment, 'Poor mental health days raw value' , 'pscore'), 3)"
   ]
  },
  {
   "cell_type": "markdown",
   "metadata": {},
   "source": [
    "# On Unemployment raw value only"
   ]
  },
  {
   "cell_type": "code",
   "execution_count": 100,
   "metadata": {},
   "outputs": [
    {
     "name": "stdout",
     "output_type": "stream",
     "text": [
      "Optimization terminated successfully.\n",
      "         Current function value: 0.688663\n",
      "         Iterations 4\n"
     ]
    },
    {
     "data": {
      "image/png": "[encoded data removed]",
      "text/plain": [
       "<Figure size 432x288 with 1 Axes>"
      ]
     },
     "metadata": {
      "needs_background": "light"
     },
     "output_type": "display_data"
    }
   ],
   "source": [
    "gen_pscore(df, df[categorize_treatment], df['Unemployment raw value'] )"
   ]
  },
  {
   "cell_type": "code",
   "execution_count": 101,
   "metadata": {},
   "outputs": [
    {
     "data": {
      "text/html": [
       "<div>\n",
       "<style scoped>\n",
       "    .dataframe tbody tr th:only-of-type {\n",
       "        vertical-align: middle;\n",
       "    }\n",
       "\n",
       "    .dataframe tbody tr th {\n",
       "        vertical-align: top;\n",
       "    }\n",
       "\n",
       "    .dataframe thead th {\n",
       "        text-align: right;\n",
       "    }\n",
       "</style>\n",
       "<table border=\"1\" class=\"dataframe\">\n",
       "  <thead>\n",
       "    <tr style=\"text-align: right;\">\n",
       "      <th></th>\n",
       "      <th>count</th>\n",
       "      <th>mean</th>\n",
       "      <th>std</th>\n",
       "      <th>min</th>\n",
       "      <th>25%</th>\n",
       "      <th>50%</th>\n",
       "      <th>75%</th>\n",
       "      <th>max</th>\n",
       "    </tr>\n",
       "    <tr>\n",
       "      <th>income_treated</th>\n",
       "      <th></th>\n",
       "      <th></th>\n",
       "      <th></th>\n",
       "      <th></th>\n",
       "      <th></th>\n",
       "      <th></th>\n",
       "      <th></th>\n",
       "      <th></th>\n",
       "    </tr>\n",
       "  </thead>\n",
       "  <tbody>\n",
       "    <tr>\n",
       "      <th>0</th>\n",
       "      <td>2205.0</td>\n",
       "      <td>0.451107</td>\n",
       "      <td>0.013810</td>\n",
       "      <td>0.400071</td>\n",
       "      <td>0.443234</td>\n",
       "      <td>0.453090</td>\n",
       "      <td>0.461174</td>\n",
       "      <td>0.480275</td>\n",
       "    </tr>\n",
       "    <tr>\n",
       "      <th>1</th>\n",
       "      <td>2181.0</td>\n",
       "      <td>0.459065</td>\n",
       "      <td>0.012164</td>\n",
       "      <td>0.397417</td>\n",
       "      <td>0.452542</td>\n",
       "      <td>0.460782</td>\n",
       "      <td>0.467848</td>\n",
       "      <td>0.480270</td>\n",
       "    </tr>\n",
       "  </tbody>\n",
       "</table>\n",
       "</div>"
      ],
      "text/plain": [
       "                 count      mean       std       min       25%       50%  \\\n",
       "income_treated                                                             \n",
       "0               2205.0  0.451107  0.013810  0.400071  0.443234  0.453090   \n",
       "1               2181.0  0.459065  0.012164  0.397417  0.452542  0.460782   \n",
       "\n",
       "                     75%       max  \n",
       "income_treated                      \n",
       "0               0.461174  0.480275  \n",
       "1               0.467848  0.480270  "
      ]
     },
     "execution_count": 101,
     "metadata": {},
     "output_type": "execute_result"
    }
   ],
   "source": [
    "trim_df = trim(df)\n",
    "trim_df.groupby([categorize_treatment]).pscore.describe()"
   ]
  },
  {
   "cell_type": "code",
   "execution_count": 106,
   "metadata": {},
   "outputs": [
    {
     "name": "stdout",
     "output_type": "stream",
     "text": [
      "ATE from Nearest Neighbors Matching = -0.444\n"
     ]
    }
   ],
   "source": [
    "# Nearest neighbor\n",
    "treated = trim_df[trim_df[categorize_treatment] == 1]\n",
    "non_treated = trim_df[trim_df[categorize_treatment] == 0]\n",
    "matched_df = Nearest_Neighbor_Pair(treated, non_treated)\n",
    "ATE = np.mean(treated['Poor mental health days raw value'].values - matched_df['Poor mental health days raw value'].values)\n",
    "print('ATE from Nearest Neighbors Matching = {}'.format(round(ATE, 3)))"
   ]
  },
  {
   "cell_type": "markdown",
   "metadata": {},
   "source": [
    "Compute smd"
   ]
  },
  {
   "cell_type": "code",
   "execution_count": 104,
   "metadata": {},
   "outputs": [
    {
     "data": {
      "text/html": [
       "<div>\n",
       "<style scoped>\n",
       "    .dataframe tbody tr th:only-of-type {\n",
       "        vertical-align: middle;\n",
       "    }\n",
       "\n",
       "    .dataframe tbody tr th {\n",
       "        vertical-align: top;\n",
       "    }\n",
       "\n",
       "    .dataframe thead tr th {\n",
       "        text-align: left;\n",
       "    }\n",
       "\n",
       "    .dataframe thead tr:last-of-type th {\n",
       "        text-align: right;\n",
       "    }\n",
       "</style>\n",
       "<table border=\"1\" class=\"dataframe\">\n",
       "  <thead>\n",
       "    <tr>\n",
       "      <th></th>\n",
       "      <th>income_treated</th>\n",
       "      <th colspan=\"2\" halign=\"left\">Unemployment raw value</th>\n",
       "      <th colspan=\"2\" halign=\"left\">Some college raw value</th>\n",
       "    </tr>\n",
       "    <tr>\n",
       "      <th></th>\n",
       "      <th>count</th>\n",
       "      <th>mean</th>\n",
       "      <th>std</th>\n",
       "      <th>mean</th>\n",
       "      <th>std</th>\n",
       "    </tr>\n",
       "    <tr>\n",
       "      <th>income_treated</th>\n",
       "      <th></th>\n",
       "      <th></th>\n",
       "      <th></th>\n",
       "      <th></th>\n",
       "      <th></th>\n",
       "    </tr>\n",
       "  </thead>\n",
       "  <tbody>\n",
       "    <tr>\n",
       "      <th>0</th>\n",
       "      <td>2181</td>\n",
       "      <td>0.074168</td>\n",
       "      <td>0.022182</td>\n",
       "      <td>0.562314</td>\n",
       "      <td>0.094831</td>\n",
       "    </tr>\n",
       "    <tr>\n",
       "      <th>1</th>\n",
       "      <td>2181</td>\n",
       "      <td>0.074170</td>\n",
       "      <td>0.022190</td>\n",
       "      <td>0.650129</td>\n",
       "      <td>0.086419</td>\n",
       "    </tr>\n",
       "  </tbody>\n",
       "</table>\n",
       "</div>"
      ],
      "text/plain": [
       "               income_treated Unemployment raw value            \\\n",
       "                        count                   mean       std   \n",
       "income_treated                                                   \n",
       "0                        2181               0.074168  0.022182   \n",
       "1                        2181               0.074170  0.022190   \n",
       "\n",
       "               Some college raw value            \n",
       "                                 mean       std  \n",
       "income_treated                                   \n",
       "0                            0.562314  0.094831  \n",
       "1                            0.650129  0.086419  "
      ]
     },
     "execution_count": 104,
     "metadata": {},
     "output_type": "execute_result"
    }
   ],
   "source": [
    "covariates_list = ['Unemployment raw value', 'Some college raw value']\n",
    "agg_operations = {categorize_treatment: 'count'}\n",
    "agg_operations.update({\n",
    "    covariate: ['mean', 'std'] for covariate in covariates_list\n",
    "})\n",
    "\n",
    "# Combine treated and matched_df\n",
    "covariates_table = pd.concat([treated, matched_df]).groupby(categorize_treatment).agg(agg_operations)\n",
    "covariates_table.head()"
   ]
  },
  {
   "cell_type": "code",
   "execution_count": 105,
   "metadata": {},
   "outputs": [
    {
     "name": "stdout",
     "output_type": "stream",
     "text": [
      "                 features     smd\n",
      "0  Unemployment raw value  0.0001\n",
      "1  Some college raw value  0.9679\n"
     ]
    }
   ],
   "source": [
    "# standardize mean difference, <= 0.25\n",
    "# Put both variables in there, unemployment/education balanced\n",
    "covariates_smd = compute_smd(covariates_table, covariates_list)\n",
    "print(covariates_smd)"
   ]
  },
  {
   "cell_type": "code",
   "execution_count": 107,
   "metadata": {},
   "outputs": [
    {
     "name": "stdout",
     "output_type": "stream",
     "text": [
      "The stratification matching estimate is -0.571\n"
     ]
    },
    {
     "name": "stderr",
     "output_type": "stream",
     "text": [
      "C:\\Users\\alnli\\AppData\\Local\\Temp/ipykernel_1448/2573337602.py:4: SettingWithCopyWarning: \n",
      "A value is trying to be set on a copy of a slice from a DataFrame.\n",
      "Try using .loc[row_indexer,col_indexer] = value instead\n",
      "\n",
      "See the caveats in the documentation: https://pandas.pydata.org/pandas-docs/stable/user_guide/indexing.html#returning-a-view-versus-a-copy\n",
      "  data['strata'] = pd.cut(data['pscore'], bins = mybins, labels = mylabels)\n"
     ]
    }
   ],
   "source": [
    "# Stratified\n",
    "stratified_matching(trim_df)"
   ]
  },
  {
   "cell_type": "code",
   "execution_count": 108,
   "metadata": {},
   "outputs": [
    {
     "data": {
      "text/plain": [
       "0.032"
      ]
     },
     "execution_count": 108,
     "metadata": {},
     "output_type": "execute_result"
    }
   ],
   "source": [
    "round(IPW_estimator(trim_df, categorize_treatment, 'Poor mental health days raw value' , 'pscore'), 3)"
   ]
  }
 ],
 "metadata": {
  "interpreter": {
   "hash": "40d14adc38efa394e6a94aa5c0d3d4b5710ac6618335b369162bf1f3045144b1"
  },
  "kernelspec": {
   "display_name": "venv",
   "language": "python",
   "name": "venv"
  },
  "language_info": {
   "codemirror_mode": {
    "name": "ipython",
    "version": 3
   },
   "file_extension": ".py",
   "mimetype": "text/x-python",
   "name": "python",
   "nbconvert_exporter": "python",
   "pygments_lexer": "ipython3",
   "version": "3.8.5"
  }
 },
 "nbformat": 4,
 "nbformat_minor": 2
}
