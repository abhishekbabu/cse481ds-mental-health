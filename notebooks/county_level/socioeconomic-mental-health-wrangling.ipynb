{
 "cells": [
  {
   "cell_type": "markdown",
   "metadata": {},
   "source": [
    "# Overview\n",
    "The below code loops through all of the socioeconomic datasets from 2010-2016\n",
    "\n",
    "Current data transformations:\n",
    "* Removed the first row of each file, the first is a repeat of the column headers (also may replace column headers if we want).\n",
    "* Removed Country and State Level data, which are indicated by their 5-digit FIPS code being % 1000 == 0\n",
    "\n",
    "Still Need To:\n",
    "* Decide exactly which columns we want to use\n",
    "* Make sure for these columns that we parse them as the correct dtype"
   ]
  },
  {
   "cell_type": "code",
   "execution_count": 1,
   "metadata": {},
   "outputs": [],
   "source": [
    "import pandas as pd\n",
    "import numpy as np\n",
    "import missingno as msno"
   ]
  },
  {
   "cell_type": "markdown",
   "metadata": {},
   "source": [
    "## Loading Socioeconomic Data"
   ]
  },
  {
   "cell_type": "code",
   "execution_count": 2,
   "metadata": {},
   "outputs": [
    {
     "name": "stderr",
     "output_type": "stream",
     "text": [
      "C:\\Users\\mikey\\anaconda3\\lib\\site-packages\\IPython\\core\\interactiveshell.py:3071: DtypeWarning: Columns (0,1,2,5,6,7,8,9,10,11,12,13,14,15,16,17,18,19,20,21,22,23,24,25,26,27,28,29,30,31,32,33,34,35,36,37,38,39,40,41,42,43,44,45,46,47,48,49,50,51,52,53,54,55,56,57,58,59,60,61,62,63,64,65,66,67,68,69,70,71,72,73,74,75,76,77,78,79,80,81,82,83,84,85,86,87,88,89,90,91,92,93,94,95,96,97,98,99,100,101,102,103,104,105,106,107,108,109,110,111,112,113,114,115,116,117,118,119,120,121,122,123,124,125,126,127,128,129,130,131,132,133,134,135,136,137,138,139,140,141,142,143,144,145,146,147,148,149,150,151,152,153,154,155,156,157,158,159,160,161,162,163,164,165,166,167,168,169,170,171,172,173,174,175,176,177,178,179,180,181,182,183,184,185,186,187,188,189,190,191,192,193,194,195,196,197,198,199,200,201,202,203,204,205,206,207,208,209,210,211,212,213,214,215,216,217,218,219,220,221,222,223,224,225,226,227,228,229,230,231,232,233,234,235,236,237,238,239,240,241,242,243,244,245,246,247,248,249,250,251,252,253,254,255,256,257,258,259,260,261,262,263,264,265,266,267,268,269,270,271,272,273,274,275,276,277,278,279,280,281,282,283,284,285,286,287,288,289,290,291,292,293,294,295,296,297,298,299,300,301,302,303,304,305,306,307,308,309,310,311,312,313,314,315,316,317,318,319,320,321,322,323,324,325,326,327,328,329,330,331,332,333,334,335,336,337,338,339,340,341,342,343,344,345,346,347,348,349,350,351,352,353,354,355,356,357,358,359,360,361,362,363,364,365,366,367,368,369,370,371,372,373,374,375,376,377,378) have mixed types.Specify dtype option on import or set low_memory=False.\n",
      "  has_raised = await self.run_ast_nodes(code_ast.body, cell_name,\n",
      "C:\\Users\\mikey\\anaconda3\\lib\\site-packages\\IPython\\core\\interactiveshell.py:3071: DtypeWarning: Columns (0,1,2,5,6,7,8,9,10,11,12,13,14,15,16,17,18,19,20,21,22,23,24,25,26,27,28,29,30,31,32,33,34,35,36,37,38,39,40,41,42,43,44,45,46,47,48,49,50,51,52,53,54,55,56,57,58,59,60,61,62,63,64,65,66,67,68,69,70,71,72,73,74,75,76,77,78,79,80,81,82,83,84,85,86,87,88,89,90,91,92,93,94,95,96,97,98,99,100,101,102,103,104,105,106,107,108,109,110,111,112,113,114,115,116,117,118,119,120,121,122,123,124,125,126,127,128,129,130,131,132,133,134,135,136,137,138,139,140,141,142,143,144,145,146,147,148,149,150,151,152,153,154,155,156,157,158,159,160,161,162,163,164,165,166,167,168,169,170,171,172,173,174,175,176,177,178,179,180,181,182,183,184,185,186,187,188,189,190,191,192,193,194,195,196,197,198,199,200,201,202,203,204,205,206,207,208,209,210,211,212,213,214,215,216,217,218,219,220,221,222,223,224,225,226,227,228,229,230,231,232,233,234,235,236,237,238,239,240,241,242,243,244,245,246,247,248,249,250,251,252,253,254,255,256,257,258,259,260,261,262,263,264,265,266,267,268,269,270,271,272,273,274,275,276,277,278,279,280,281,282,283,284,285,286,287,288,289,290,291,292,293,294,295,296,297,298,299,300,301,302,303,304,305,306,307,308,309,310,311,312,313,314,315,316,317,318,319,320,321,322,323,324,325,326,327,328,329) have mixed types.Specify dtype option on import or set low_memory=False.\n",
      "  has_raised = await self.run_ast_nodes(code_ast.body, cell_name,\n",
      "C:\\Users\\mikey\\anaconda3\\lib\\site-packages\\IPython\\core\\interactiveshell.py:3071: DtypeWarning: Columns (0,1,2,5,6,7,8,9,10,11,12,13,14,15,16,17,18,19,20,21,22,23,24,25,26,27,28,29,30,31,32,33,34,35,36,37,38,39,40,41,42,43,44,45,46,47,48,49,50,51,52,53,54,55,56,57,58,59,60,61,62,63,64,65,66,67,68,69,70,71,72,73,74,75,76,77,78,79,80,81,82,83,84,85,86,87,88,89,90,91,92,93,94,95,96,97,98,99,100,101,102,103,104,105,106,107,108,109,110,111,112,113,114,115,116,117,118,119,120,121,122,123,124,125,126,127,128,129,130,131,132,133,134,135,136,137,138,139,140,141,142,143,144,145,146,147,148,149,150,151,152,153,154,155,156,157,158,159,160,161,162,163,164,165,166,167,168,169,170,171,172,173,174,175,176,177,178,179,180,181,182,183,184,185,186,187,188,189,190,191,192,193,194,195,196,197,198,199,200,201,202,203,204,205,206,207,208,209,210,211,212,213,214,215,216,217,218,219,220,221,222,223,224,225,226,227,228,229,230,231,232,233,234,235,236,237,238,239,240,241,242,243,244,245,246,247,248,249,250,251,252,253,254,255,256,257,258,259,260,261,262,263,264,265,266,267,268,269,270,271,272,273,274,275,276,277,278,279,280,281,282,283,284,285,286,287,288,289,290,291,292,293,294,295,296,297,298,299,300,301,302,303,304,305,306,307,308,309,310,311,312,313,314,315,316,317,318,319,320,321,322,323,324,325,326,327,328,329,330,331,332,333,334,335,336,337,338,339,340,341,342,343,344,345,346,347,348,349,350,351,352,353,354,355,356,357,358,359,360,361,362,363,364,365,366,367,368,369,370,371,372,373,374,375,376,377,378,379,380,381,382,383,384,385,386,387,388,389,390,391,392,393,394,395,396,397,398,399,400,401,402,403,404,405,406,407,408,409,410,411,412,413,414,415,416,417,418,419,420,421,422,423,424,425,426,427,428,429,430,431,432,433,434,435,436,437,438,439,440,441,442,443,444,445,446,447,448,449,450,451,452,453,454,455,456,457,458,459,460,461,462,463,464,465) have mixed types.Specify dtype option on import or set low_memory=False.\n",
      "  has_raised = await self.run_ast_nodes(code_ast.body, cell_name,\n",
      "C:\\Users\\mikey\\anaconda3\\lib\\site-packages\\IPython\\core\\interactiveshell.py:3071: DtypeWarning: Columns (0,1,2,5,6,7,8,9,10,11,12,13,14,15,16,17,18,19,20,21,22,23,24,25,26,27,28,29,30,31,32,33,34,35,36,37,38,39,40,41,42,43,44,45,46,47,48,49,50,51,52,53,54,55,56,57,58,59,60,61,62,63,64,65,66,67,68,69,70,71,72,73,74,75,76,77,78,79,80,81,82,83,84,85,86,87,88,89,90,91,92,93,94,95,96,97,98,99,100,101,102,103,104,105,106,107,108,109,110,111,112,113,114,115,116,117,118,119,120,121,122,123,124,125,126,127,128,129,130,131,132,133,134,135,136,137,138,139,140,141,142,143,144,145,146,147,148,149,150,151,152,153,154,155,156,157,158,159,160,161,162,163,164,165,166,167,168,169,170,171,172,173,174,175,176,177,178,179,180,181,182,183,184,185,186,187,188,189,190,191,192,193,194,195,196,197,198,199,200,201,202,203,204,205,206,207,208,209,210,211,212,213,214,215,216,217,218,219,220,221,222,223,224,225,226,227,228,229,230,231,232,233,234,235,236,237,238,239,240,241,242,243,244,245,246,247,248,249,250,251,252,253,254,255,256,257,258,259,260,261,262,263,264,265,266,267,268,269,270,271,272,273,274,275,276,277,278,279,280,281,282,283,284,285,286,287,288,289,290,291,292,293,294,295,296,297,298,299,300,301,302,303,304,305,306,307,308,309,310,311,312,313,314,315,316,317,318,319,320,321,322,323,324,325,326,327,328,329,330,331,332,333,334,335,336,337,338,339,340,341,342,343,344,345,346,347,348,349,350,351,352,353,354,355,356,357,358,359,360,361,362,363,364,365,366,367,368,369,370,371,372,373,374,375,376,377,378,379,380,381,382,383,384,385,386,387,388,389,390,391,392,393,394,395,396,397,398,399,400,401,402,403,404,405,406,407,408,409,410,411,412,413,414,415,416,417,418,419,420,421,422,423,424,425,426,427,428,429,430,431,432,433,434,435,436,437,438,439,440,441,442,443,444,445,446,447,448,449,450,451,452,453,454,455,456,457,458,459,460,461,462,463,464,465,466,467,468,469,470,471,472,473,474,475,476,477,478,479,480,481,482,483,484,485,486) have mixed types.Specify dtype option on import or set low_memory=False.\n",
      "  has_raised = await self.run_ast_nodes(code_ast.body, cell_name,\n",
      "C:\\Users\\mikey\\anaconda3\\lib\\site-packages\\IPython\\core\\interactiveshell.py:3071: DtypeWarning: Columns (0,1,2,5,6,7,8,9,10,11,12,13,14,15,16,17,18,19,20,21,22,23,24,25,26,27,28,29,30,31,32,33,34,35,36,37,38,39,40,41,42,43,44,45,46,47,48,49,50,51,52,53,54,55,56,57,58,59,60,61,62,63,64,65,66,67,68,69,70,71,72,73,74,75,76,77,78,79,80,81,82,83,84,85,86,87,88,89,90,91,92,93,94,95,96,97,98,99,100,101,102,103,104,105,106,107,108,109,110,111,112,113,114,115,116,117,118,119,120,121,122,123,124,125,126,127,128,129,130,131,132,133,134,135,136,137,138,139,140,141,142,143,144,145,146,147,148,149,150,151,152,153,154,155,156,157,158,159,160,161,162,163,164,165,166,167,168,169,170,171,172,173,174,175,176,177,178,179,180,181,182,183,184,185,186,187,188,189,190,191,192,193,194,195,196,197,198,199,200,201,202,203,204,205,206,207,208,209,210,211,212,213,214,215,216,217,218,219,220,221,222,223,224,225,226,227,228,229,230,231,232,233,234,235,236,237,238,239,240,241,242,243,244,245,246,247,248,249,250,251,252,253,254,255,256,257,258,259,260,261,262,263,264,265,266,267,268,269,270,271,272,273,274,275,276,277,278,279,280,281,282,283,284,285,286,287,288,289,290,291,292,293,294,295,296,297,298,299,300,301,302,303,304,305,306,307,308,309,310,311,312,313,314,315,316,317,318,319,320,321,322,323,324,325,326,327,328,329,330,331,332,333,334,335,336,337,338,339,340,341,342,343,344,345,346,347,348,349,350,351,352,353,354,355,356,357,358,359,360,361,362,363,364,365,366,367,368,369,370,371,372,373,374,375,376,377,378,379,380,381,382,383,384,385,386,387,388,389,390,391,392,393,394,395,396,397,398,399,400,401,402,403,404,405,406,407,408,409,410,411,412,413,414,415,416,417,418,419,420,421,422,423,424,425,426,427,428,429,430,431,432,433,434,435,436,437,438,439,440,441,442,443,444,445,446,447,448,449,450,451,452,453,454,455,456,457,458,459,460,461) have mixed types.Specify dtype option on import or set low_memory=False.\n",
      "  has_raised = await self.run_ast_nodes(code_ast.body, cell_name,\n"
     ]
    },
    {
     "name": "stderr",
     "output_type": "stream",
     "text": [
      "C:\\Users\\mikey\\anaconda3\\lib\\site-packages\\IPython\\core\\interactiveshell.py:3071: DtypeWarning: Columns (0,1,2,5,6,7,8,9,10,11,12,13,14,15,16,17,18,19,20,21,22,23,24,25,26,27,28,29,30,31,32,33,34,35,36,37,38,39,40,41,42,43,44,45,46,47,48,49,50,51,52,53,54,55,56,57,58,59,60,61,62,63,64,65,66,67,68,69,70,71,72,73,74,75,76,77,78,79,80,81,82,83,84,85,86,87,88,89,90,91,92,93,94,95,96,97,98,99,100,101,102,103,104,105,106,107,108,109,110,111,112,113,114,115,116,117,118,119,120,121,122,123,124,125,126,127,128,129,130,131,132,133,134,135,136,137,138,139,140,141,142,143,144,145,146,147,148,149,150,151,152,153,154,155,156,157,158,159,160,161,162,163,164,165,166,167,168,169,170,171,172,173,174,175,176,177,178,179,180,181,182,183,184,185,186,187,188,189,190,191,192,193,194,195,196,197,198,199,200,201,202,203,204,205,206,207,208,209,210,211,212,213,214,215,216,217,218,219,220,221,222,223,224,225,226,227,228,229,230,231,232,233,234,235,236,237,238,239,240,241,242,243,244,245,246,247,248,249,250,251,252,253,254,255,256,257,258,259,260,261,262,263,264,265,266,267,268,269,270,271,272,273,274,275,276,277,278,279,280,281,282,283,284,285,286,287,288,289,290,291,292,293,294,295,296,297,298,299,300,301,302,303,304,305,306,307,308,309,310,311,312,313,314,315,316,317,318,319,320,321,322,323,324,325,326,327,328,329,330,331,332,333,334,335,336,337,338,339,340,341,342,343,344,345,346,347,348,349,350,351,352,353,354,355,356,357,358,359,360,361,362,363,364,365,366,367,368,369,370,371,372,373,374,375,376,377,378,379,380,381,382,383,384,385,386,387,388,389,390,391,392,393,394,395,396,397,398,399,400,401,402,403,404,405,406,407,408,409,410,411,412,413,414,415,416,417,418,419,420,421,422,423,424,425,426,427,428,429,430,431,432,433,434,435,436,437,438,439,440,441,442,443,444,445,446,447,448,449,450,451,452,453,454,455,456,457,458,459,460,461,462,463,464,465,466,467,468,469,470,471,472,473,474,475,476,477,478,479,480,481) have mixed types.Specify dtype option on import or set low_memory=False.\n",
      "  has_raised = await self.run_ast_nodes(code_ast.body, cell_name,\n"
     ]
    },
    {
     "name": "stdout",
     "output_type": "stream",
     "text": [
      "      State FIPS Code County FIPS Code  5-digit FIPS Code State Abbreviation  \\\n",
      "0                  01              001               1001                 AL   \n",
      "1                  01              003               1003                 AL   \n",
      "2                  01              005               1005                 AL   \n",
      "3                  01              007               1007                 AL   \n",
      "4                  01              009               1009                 AL   \n",
      "...               ...              ...                ...                ...   \n",
      "21982              56               37              56037                 WY   \n",
      "21983              56               39              56039                 WY   \n",
      "21984              56               41              56041                 WY   \n",
      "21985              56               43              56043                 WY   \n",
      "21986              56               45              56045                 WY   \n",
      "\n",
      "                    Name  Release Year County Ranked (Yes=1/No=0)  \\\n",
      "0         Autauga County          2010                          1   \n",
      "1         Baldwin County          2010                          1   \n",
      "2         Barbour County          2010                          1   \n",
      "3            Bibb County          2010                          1   \n",
      "4          Blount County          2010                          1   \n",
      "...                  ...           ...                        ...   \n",
      "21982  Sweetwater County          2016                          1   \n",
      "21983       Teton County          2016                          1   \n",
      "21984       Uinta County          2016                          1   \n",
      "21985    Washakie County          2016                          1   \n",
      "21986      Weston County          2016                          1   \n",
      "\n",
      "      Premature death raw value Premature death numerator  \\\n",
      "0                        9778.1                       670   \n",
      "1                        8221.7                      2148   \n",
      "2                       10686.1                       424   \n",
      "3                       13069.5                       373   \n",
      "4                        8929.7                       787   \n",
      "...                         ...                       ...   \n",
      "21982                    6820.2                       427   \n",
      "21983                    3793.2                       108   \n",
      "21984                    7597.7                       232   \n",
      "21985                    8360.2                       100   \n",
      "21986                    8658.1                        87   \n",
      "\n",
      "      Premature death denominator  ...  \\\n",
      "0                          137881  ...   \n",
      "1                          449589  ...   \n",
      "2                           79450  ...   \n",
      "3                           60430  ...   \n",
      "4                          155580  ...   \n",
      "...                           ...  ...   \n",
      "21982                      130032  ...   \n",
      "21983                       62883  ...   \n",
      "21984                       60778  ...   \n",
      "21985                       23246  ...   \n",
      "21986                       19695  ...   \n",
      "\n",
      "      Residential segregation - black/white raw value  \\\n",
      "0                                                 NaN   \n",
      "1                                                 NaN   \n",
      "2                                                 NaN   \n",
      "3                                                 NaN   \n",
      "4                                                 NaN   \n",
      "...                                               ...   \n",
      "21982                                         69.2178   \n",
      "21983                                             NaN   \n",
      "21984                                             NaN   \n",
      "21985                                             NaN   \n",
      "21986                                             NaN   \n",
      "\n",
      "      Residential segregation - black/white numerator  \\\n",
      "0                                                 NaN   \n",
      "1                                                 NaN   \n",
      "2                                                 NaN   \n",
      "3                                                 NaN   \n",
      "4                                                 NaN   \n",
      "...                                               ...   \n",
      "21982                                             NaN   \n",
      "21983                                             NaN   \n",
      "21984                                             NaN   \n",
      "21985                                             NaN   \n",
      "21986                                             NaN   \n",
      "\n",
      "      Residential segregation - black/white denominator  \\\n",
      "0                                                   NaN   \n",
      "1                                                   NaN   \n",
      "2                                                   NaN   \n",
      "3                                                   NaN   \n",
      "4                                                   NaN   \n",
      "...                                                 ...   \n",
      "21982                                               NaN   \n",
      "21983                                               NaN   \n",
      "21984                                               NaN   \n",
      "21985                                               NaN   \n",
      "21986                                               NaN   \n",
      "\n",
      "      Residential segregation - black/white CI low  \\\n",
      "0                                              NaN   \n",
      "1                                              NaN   \n",
      "2                                              NaN   \n",
      "3                                              NaN   \n",
      "4                                              NaN   \n",
      "...                                            ...   \n",
      "21982                                          NaN   \n",
      "21983                                          NaN   \n",
      "21984                                          NaN   \n",
      "21985                                          NaN   \n",
      "21986                                          NaN   \n",
      "\n",
      "      Residential segregation - black/white CI high  \\\n",
      "0                                               NaN   \n",
      "1                                               NaN   \n",
      "2                                               NaN   \n",
      "3                                               NaN   \n",
      "4                                               NaN   \n",
      "...                                             ...   \n",
      "21982                                           NaN   \n",
      "21983                                           NaN   \n",
      "21984                                           NaN   \n",
      "21985                                           NaN   \n",
      "21986                                           NaN   \n",
      "\n",
      "      Residential segregation - non-white/white raw value  \\\n",
      "0                                                    NaN    \n",
      "1                                                    NaN    \n",
      "2                                                    NaN    \n",
      "3                                                    NaN    \n",
      "4                                                    NaN    \n",
      "...                                                  ...    \n",
      "21982                                            23.9398    \n",
      "21983                                            20.8701    \n",
      "21984                                             10.804    \n",
      "21985                                            27.4989    \n",
      "21986                                            38.8403    \n",
      "\n",
      "      Residential segregation - non-white/white numerator  \\\n",
      "0                                                    NaN    \n",
      "1                                                    NaN    \n",
      "2                                                    NaN    \n",
      "3                                                    NaN    \n",
      "4                                                    NaN    \n",
      "...                                                  ...    \n",
      "21982                                                NaN    \n",
      "21983                                                NaN    \n",
      "21984                                                NaN    \n",
      "21985                                                NaN    \n",
      "21986                                                NaN    \n",
      "\n",
      "      Residential segregation - non-white/white denominator  \\\n",
      "0                                                    NaN      \n",
      "1                                                    NaN      \n",
      "2                                                    NaN      \n",
      "3                                                    NaN      \n",
      "4                                                    NaN      \n",
      "...                                                  ...      \n",
      "21982                                                NaN      \n",
      "21983                                                NaN      \n",
      "21984                                                NaN      \n",
      "21985                                                NaN      \n",
      "21986                                                NaN      \n",
      "\n",
      "      Residential segregation - non-white/white CI low  \\\n",
      "0                                                  NaN   \n",
      "1                                                  NaN   \n",
      "2                                                  NaN   \n",
      "3                                                  NaN   \n",
      "4                                                  NaN   \n",
      "...                                                ...   \n",
      "21982                                              NaN   \n",
      "21983                                              NaN   \n",
      "21984                                              NaN   \n",
      "21985                                              NaN   \n",
      "21986                                              NaN   \n",
      "\n",
      "      Residential segregation - non-white/white CI high  \n",
      "0                                                   NaN  \n",
      "1                                                   NaN  \n",
      "2                                                   NaN  \n",
      "3                                                   NaN  \n",
      "4                                                   NaN  \n",
      "...                                                 ...  \n",
      "21982                                               NaN  \n",
      "21983                                               NaN  \n",
      "21984                                               NaN  \n",
      "21985                                               NaN  \n",
      "21986                                               NaN  \n",
      "\n",
      "[21987 rows x 707 columns]\n"
     ]
    }
   ],
   "source": [
    "all_socio_df = []\n",
    "\n",
    "\n",
    "for i in range(0,7):\n",
    "    '''\n",
    "    If we want to get specific columns of the dataframe, we can use the usecols list. Note that we cannot specify\n",
    "    the dtype here as the second row of the dataframe (which has string values) interferes with it. We could solve\n",
    "    this by removing the second row of the csv or specifying dtypes later:\n",
    "    \n",
    "    current_df = pd.read_csv('../data/county_level/countyhealthranking/analytic_data201' + str(i) + '.csv',\n",
    "                             usecols = ['State FIPS Code', 'County FIPS Code', '5-digit FIPS Code', 'Name'])    \n",
    "    \n",
    "    '''\n",
    "    current_df = pd.read_csv('../data/county_level/countyhealthranking/analytic_data201' + str(i) + '.csv')\n",
    "    \n",
    "    \n",
    "    '''\n",
    "    I am not sure which row we want to use for the headings of the dataframe. The two options right now are\n",
    "    the first and second rows of the csvs. The current code uses the first row as the names. If we want to use\n",
    "    the second row instead, comment out the line below this comment and replace it with:\n",
    "    \n",
    "    # The below code essentially makes the second row in the csv the header for the dataframe\n",
    "    new_header = current_df.iloc[0] #grab the first row for the header\n",
    "    current_df = current_df[1:] #take the data less the header row\n",
    "    current_df.columns = new_header #set the header row as the df header    \n",
    "    '''\n",
    "    current_df = current_df.drop(0)\n",
    "    \n",
    "    '''\n",
    "    We also want to filter out the data that belongs to the US and each individual state. We can do this by looking\n",
    "    at the 5-digit FIPS code (fipscode), where if fipscode % 1000 == 0, then the row belongs to a state. We also \n",
    "    want this row to be of type int32. We will have to deal with typing later for other columns as well.\n",
    "    \n",
    "    We will need to change the hardcoded '5-digit FIPS Code' and 'Release Year' if we change the column headers\n",
    "    '''\n",
    "    current_df['5-digit FIPS Code'] = current_df['5-digit FIPS Code'].astype(str).astype(int)\n",
    "    current_df['Release Year'] = current_df['Release Year'].astype(str).astype(int)\n",
    "    current_df = current_df[current_df['5-digit FIPS Code'] % 1000 != 0]\n",
    "    \n",
    "    all_socio_df.append(current_df)\n",
    "    \n",
    "# ignore_index = True just reindexes the rows for the new dataframe\n",
    "socio_df = pd.concat(all_socio_df, ignore_index=True)"
   ]
  },
  {
   "cell_type": "markdown",
   "metadata": {},
   "source": [
    "## Loading Mental Health Data"
   ]
  },
  {
   "cell_type": "code",
   "execution_count": 3,
   "metadata": {},
   "outputs": [],
   "source": [
    "mental_health_df = pd.read_csv('../data/county_level/Compressed Mortality, 1999-2016.txt', sep='\\t',\n",
    "                               usecols = ['County Code', 'Year', 'Deaths', 'Population'])\n",
    "\n",
    "# There is text at the bottom of the file that we do not want to include\n",
    "mental_health_df = mental_health_df[mental_health_df['County Code'].notnull()]\n",
    "\n",
    "# The numbers are parsed as floats but we want them to be ints\n",
    "for column_name in mental_health_df.columns:\n",
    "    mental_health_df[column_name] = mental_health_df[column_name].astype(int)"
   ]
  },
  {
   "cell_type": "markdown",
   "metadata": {},
   "source": [
    "## Merging datasets"
   ]
  },
  {
   "cell_type": "code",
   "execution_count": 4,
   "metadata": {},
   "outputs": [
    {
     "data": {
      "text/plain": [
       "0       12\n",
       "1       31\n",
       "2       11\n",
       "3       13\n",
       "4       14\n",
       "        ..\n",
       "6319    10\n",
       "6320    19\n",
       "6321    25\n",
       "6322    17\n",
       "6323    10\n",
       "Name: Deaths, Length: 6324, dtype: int32"
      ]
     },
     "execution_count": 4,
     "metadata": {},
     "output_type": "execute_result"
    }
   ],
   "source": [
    "# This is by default an inner join, which makes sense since we only want to match when year and county code are the same\n",
    "full_df = pd.merge(socio_df, mental_health_df,\n",
    "                   left_on=['5-digit FIPS Code', 'Release Year'],\n",
    "                   right_on=['County Code', 'Year'])\n",
    "\n",
    "# As we can see, we can now see the deaths column in our full dataframe\n",
    "full_df['Deaths']"
   ]
  },
  {
   "cell_type": "markdown",
   "metadata": {},
   "source": [
    "## Analyzing Data\n",
    "Right now I am only showing the null values in the data using the missingno library, we can utilize other things from this library from here: https://towardsdatascience.com/using-the-missingno-python-library-to-identify-and-visualise-missing-data-prior-to-machine-learning-34c8c5b5f009\n",
    "\n",
    "Note that since we currently have so many columns, this is not very helpful, but once we narrow down the columns then this should give us insights"
   ]
  },
  {
   "cell_type": "code",
   "execution_count": 5,
   "metadata": {},
   "outputs": [
    {
     "data": {
      "text/plain": [
       "<matplotlib.axes._subplots.AxesSubplot at 0x1f180b12640>"
      ]
     },
     "execution_count": 5,
     "metadata": {},
     "output_type": "execute_result"
    },
    {
     "data": {
      "image/png": "[encoded data removed]",
      "text/plain": [
       "<Figure size 1800x720 with 2 Axes>"
      ]
     },
     "metadata": {
      "needs_background": "light"
     },
     "output_type": "display_data"
    }
   ],
   "source": [
    "msno.matrix(full_df)"
   ]
  },
  {
   "cell_type": "markdown",
   "metadata": {},
   "source": [
    "## Saving the Data\n",
    "Here I am just saving our dataframes to pickle files so they can be saved/loaded faster"
   ]
  },
  {
   "cell_type": "code",
   "execution_count": 6,
   "metadata": {},
   "outputs": [
    {
     "data": {
      "text/plain": [
       "'\\nWe can read back in the dataframe from this pickle using the following command:\\noutput = pd.read_pickle(\"../data/county_level/full_df.pkl\")\\n\\n'"
      ]
     },
     "execution_count": 6,
     "metadata": {},
     "output_type": "execute_result"
    }
   ],
   "source": [
    "full_df.to_pickle(\"../data/county_level/full_df.pkl\")\n",
    "\n",
    "'''\n",
    "We can read back in the dataframe from this pickle using the following command:\n",
    "output = pd.read_pickle(\"../data/county_level/full_df.pkl\")\n",
    "\n",
    "'''"
   ]
  },
  {
   "cell_type": "code",
   "execution_count": null,
   "metadata": {},
   "outputs": [],
   "source": []
  }
 ],
 "metadata": {
  "kernelspec": {
   "display_name": "Python 3",
   "language": "python",
   "name": "python3"
  },
  "language_info": {
   "codemirror_mode": {
    "name": "ipython",
    "version": 3
   },
   "file_extension": ".py",
   "mimetype": "text/x-python",
   "name": "python",
   "nbconvert_exporter": "python",
   "pygments_lexer": "ipython3",
   "version": "3.8.3"
  }
 },
 "nbformat": 4,
 "nbformat_minor": 4
}
