{
 "cells": [
  {
   "cell_type": "code",
   "execution_count": 1,
   "id": "444adc53",
   "metadata": {},
   "outputs": [],
   "source": [
    "import pandas as pd\n",
    "import matplotlib.pyplot as plt\n",
    "import seaborn as sns\n",
    "import numpy as np"
   ]
  },
  {
   "cell_type": "code",
   "execution_count": 5,
   "id": "1dbb3ab0",
   "metadata": {},
   "outputs": [
    {
     "data": {
      "text/html": [
       "<div>\n",
       "<style scoped>\n",
       "    .dataframe tbody tr th:only-of-type {\n",
       "        vertical-align: middle;\n",
       "    }\n",
       "\n",
       "    .dataframe tbody tr th {\n",
       "        vertical-align: top;\n",
       "    }\n",
       "\n",
       "    .dataframe thead th {\n",
       "        text-align: right;\n",
       "    }\n",
       "</style>\n",
       "<table border=\"1\" class=\"dataframe\">\n",
       "  <thead>\n",
       "    <tr style=\"text-align: right;\">\n",
       "      <th></th>\n",
       "      <th>Notes</th>\n",
       "      <th>County</th>\n",
       "      <th>County Code</th>\n",
       "      <th>Year</th>\n",
       "      <th>Year Code</th>\n",
       "      <th>Month</th>\n",
       "      <th>Month Code</th>\n",
       "      <th>Deaths</th>\n",
       "      <th>Population</th>\n",
       "      <th>Crude Rate</th>\n",
       "    </tr>\n",
       "  </thead>\n",
       "  <tbody>\n",
       "    <tr>\n",
       "      <th>0</th>\n",
       "      <td>NaN</td>\n",
       "      <td>Jefferson County, AL</td>\n",
       "      <td>1073.0</td>\n",
       "      <td>2010.0</td>\n",
       "      <td>2010.0</td>\n",
       "      <td>May, 2010</td>\n",
       "      <td>2010/05</td>\n",
       "      <td>10.0</td>\n",
       "      <td>Not Applicable</td>\n",
       "      <td>Not Applicable</td>\n",
       "    </tr>\n",
       "    <tr>\n",
       "      <th>1</th>\n",
       "      <td>NaN</td>\n",
       "      <td>Jefferson County, AL</td>\n",
       "      <td>1073.0</td>\n",
       "      <td>2011.0</td>\n",
       "      <td>2011.0</td>\n",
       "      <td>Jan., 2011</td>\n",
       "      <td>2011/01</td>\n",
       "      <td>13.0</td>\n",
       "      <td>Not Applicable</td>\n",
       "      <td>Not Applicable</td>\n",
       "    </tr>\n",
       "    <tr>\n",
       "      <th>2</th>\n",
       "      <td>NaN</td>\n",
       "      <td>Jefferson County, AL</td>\n",
       "      <td>1073.0</td>\n",
       "      <td>2011.0</td>\n",
       "      <td>2011.0</td>\n",
       "      <td>Mar., 2011</td>\n",
       "      <td>2011/03</td>\n",
       "      <td>10.0</td>\n",
       "      <td>Not Applicable</td>\n",
       "      <td>Not Applicable</td>\n",
       "    </tr>\n",
       "    <tr>\n",
       "      <th>3</th>\n",
       "      <td>NaN</td>\n",
       "      <td>Jefferson County, AL</td>\n",
       "      <td>1073.0</td>\n",
       "      <td>2012.0</td>\n",
       "      <td>2012.0</td>\n",
       "      <td>Mar., 2012</td>\n",
       "      <td>2012/03</td>\n",
       "      <td>10.0</td>\n",
       "      <td>Not Applicable</td>\n",
       "      <td>Not Applicable</td>\n",
       "    </tr>\n",
       "    <tr>\n",
       "      <th>4</th>\n",
       "      <td>NaN</td>\n",
       "      <td>Jefferson County, AL</td>\n",
       "      <td>1073.0</td>\n",
       "      <td>2012.0</td>\n",
       "      <td>2012.0</td>\n",
       "      <td>May, 2012</td>\n",
       "      <td>2012/05</td>\n",
       "      <td>11.0</td>\n",
       "      <td>Not Applicable</td>\n",
       "      <td>Not Applicable</td>\n",
       "    </tr>\n",
       "  </tbody>\n",
       "</table>\n",
       "</div>"
      ],
      "text/plain": [
       "  Notes                County  County Code    Year  Year Code       Month  \\\n",
       "0   NaN  Jefferson County, AL       1073.0  2010.0     2010.0   May, 2010   \n",
       "1   NaN  Jefferson County, AL       1073.0  2011.0     2011.0  Jan., 2011   \n",
       "2   NaN  Jefferson County, AL       1073.0  2011.0     2011.0  Mar., 2011   \n",
       "3   NaN  Jefferson County, AL       1073.0  2012.0     2012.0  Mar., 2012   \n",
       "4   NaN  Jefferson County, AL       1073.0  2012.0     2012.0   May, 2012   \n",
       "\n",
       "  Month Code  Deaths      Population      Crude Rate  \n",
       "0    2010/05    10.0  Not Applicable  Not Applicable  \n",
       "1    2011/01    13.0  Not Applicable  Not Applicable  \n",
       "2    2011/03    10.0  Not Applicable  Not Applicable  \n",
       "3    2012/03    10.0  Not Applicable  Not Applicable  \n",
       "4    2012/05    11.0  Not Applicable  Not Applicable  "
      ]
     },
     "execution_count": 5,
     "metadata": {},
     "output_type": "execute_result"
    }
   ],
   "source": [
    "df = pd.read_csv('../../data/county_level/wonder_cdc/Suicides Monthly, 2010-2013.txt', sep='\\t')\n",
    "df.head()"
   ]
  },
  {
   "cell_type": "code",
   "execution_count": 7,
   "id": "74da67e9",
   "metadata": {},
   "outputs": [
    {
     "name": "stdout",
     "output_type": "stream",
     "text": [
      "County\n",
      "Alameda County, CA          8\n",
      "Allegheny County, PA        7\n",
      "Anne Arundel County, MD     1\n",
      "Arapahoe County, CO         1\n",
      "Baltimore County, MD        1\n",
      "                           ..\n",
      "Washington County, OR       2\n",
      "Washoe County, NV           3\n",
      "Wayne County, MI           11\n",
      "Westchester County, NY      1\n",
      "Williamson County, TX       1\n",
      "Length: 107, dtype: int64\n"
     ]
    }
   ],
   "source": [
    "print(df[df['Year'] == 2010.0].groupby('County').size())"
   ]
  },
  {
   "cell_type": "code",
   "execution_count": null,
   "id": "95c78148",
   "metadata": {},
   "outputs": [],
   "source": []
  }
 ],
 "metadata": {
  "kernelspec": {
   "display_name": "venv",
   "language": "python",
   "name": "venv"
  },
  "language_info": {
   "codemirror_mode": {
    "name": "ipython",
    "version": 3
   },
   "file_extension": ".py",
   "mimetype": "text/x-python",
   "name": "python",
   "nbconvert_exporter": "python",
   "pygments_lexer": "ipython3",
   "version": "3.8.5"
  }
 },
 "nbformat": 4,
 "nbformat_minor": 5
}
