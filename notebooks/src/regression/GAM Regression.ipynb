{
 "cells": [
  {
   "cell_type": "code",
   "execution_count": 16,
   "id": "52fc279e",
   "metadata": {},
   "outputs": [
    {
     "name": "stdout",
     "output_type": "stream",
     "text": [
      "Requirement already satisfied: pygam in /homes/iws/bhimar/cse481ds-mental-health/venv/lib/python3.7/site-packages (0.8.0)\n",
      "Requirement already satisfied: scipy in /homes/iws/bhimar/cse481ds-mental-health/venv/lib/python3.7/site-packages (from pygam) (1.7.1)\n",
      "Requirement already satisfied: progressbar2 in /homes/iws/bhimar/cse481ds-mental-health/venv/lib/python3.7/site-packages (from pygam) (3.55.0)\n",
      "Requirement already satisfied: numpy in /homes/iws/bhimar/cse481ds-mental-health/venv/lib/python3.7/site-packages (from pygam) (1.21.3)\n",
      "Requirement already satisfied: future in /homes/iws/bhimar/cse481ds-mental-health/venv/lib/python3.7/site-packages (from pygam) (0.18.2)\n",
      "Requirement already satisfied: python-utils>=2.3.0 in /homes/iws/bhimar/cse481ds-mental-health/venv/lib/python3.7/site-packages (from progressbar2->pygam) (2.5.6)\n",
      "Requirement already satisfied: six in /homes/iws/bhimar/cse481ds-mental-health/venv/lib/python3.7/site-packages (from progressbar2->pygam) (1.16.0)\n",
      "\u001b[33mWARNING: You are using pip version 20.1.1; however, version 21.3.1 is available.\n",
      "You should consider upgrading via the '/homes/iws/bhimar/cse481ds-mental-health/venv/bin/python3 -m pip install --upgrade pip' command.\u001b[0m\n",
      "Requirement already satisfied: sklearn in /homes/iws/bhimar/cse481ds-mental-health/venv/lib/python3.7/site-packages (0.0)\n",
      "Requirement already satisfied: scikit-learn in /homes/iws/bhimar/cse481ds-mental-health/venv/lib/python3.7/site-packages (from sklearn) (1.0.1)\n",
      "Requirement already satisfied: numpy>=1.14.6 in /homes/iws/bhimar/cse481ds-mental-health/venv/lib/python3.7/site-packages (from scikit-learn->sklearn) (1.21.3)\n",
      "Requirement already satisfied: scipy>=1.1.0 in /homes/iws/bhimar/cse481ds-mental-health/venv/lib/python3.7/site-packages (from scikit-learn->sklearn) (1.7.1)\n",
      "Requirement already satisfied: threadpoolctl>=2.0.0 in /homes/iws/bhimar/cse481ds-mental-health/venv/lib/python3.7/site-packages (from scikit-learn->sklearn) (3.0.0)\n",
      "Requirement already satisfied: joblib>=0.11 in /homes/iws/bhimar/cse481ds-mental-health/venv/lib/python3.7/site-packages (from scikit-learn->sklearn) (1.1.0)\n",
      "\u001b[33mWARNING: You are using pip version 20.1.1; however, version 21.3.1 is available.\n",
      "You should consider upgrading via the '/homes/iws/bhimar/cse481ds-mental-health/venv/bin/python3 -m pip install --upgrade pip' command.\u001b[0m\n"
     ]
    }
   ],
   "source": [
    "import pandas as pd\n",
    "import matplotlib.pyplot as plt\n",
    "import seaborn as sns\n",
    "import numpy as np\n",
    "import os\n",
    "import scipy.stats as stats\n",
    "import math\n",
    "\n",
    "!pip install pygam\n",
    "import pygam\n",
    "from pygam import LinearGAM\n",
    "\n",
    "!pip install sklearn\n",
    "from sklearn.model_selection import RepeatedKFold\n",
    "from sklearn.metrics import mean_absolute_error\n",
    "from sklearn.metrics import mean_squared_error\n",
    "from sklearn.metrics import r2_score"
   ]
  },
  {
   "cell_type": "code",
   "execution_count": 17,
   "id": "394fae1c",
   "metadata": {},
   "outputs": [
    {
     "data": {
      "text/html": [
       "<div>\n",
       "<style scoped>\n",
       "    .dataframe tbody tr th:only-of-type {\n",
       "        vertical-align: middle;\n",
       "    }\n",
       "\n",
       "    .dataframe tbody tr th {\n",
       "        vertical-align: top;\n",
       "    }\n",
       "\n",
       "    .dataframe thead th {\n",
       "        text-align: right;\n",
       "    }\n",
       "</style>\n",
       "<table border=\"1\" class=\"dataframe\">\n",
       "  <thead>\n",
       "    <tr style=\"text-align: right;\">\n",
       "      <th></th>\n",
       "      <th>High school graduation raw value</th>\n",
       "      <th>Unemployment raw value</th>\n",
       "      <th>Some college raw value</th>\n",
       "      <th>Ratio of population to mental health providers</th>\n",
       "      <th>Median household income raw value</th>\n",
       "      <th>Average Temperature</th>\n",
       "      <th>January Average Temperature</th>\n",
       "      <th>February Average Temperature</th>\n",
       "      <th>March Average Temperature</th>\n",
       "      <th>April Average Temperature</th>\n",
       "      <th>...</th>\n",
       "      <th>April Average Precipitation</th>\n",
       "      <th>May Average Precipitation</th>\n",
       "      <th>June Average Precipitation</th>\n",
       "      <th>July Average Precipitation</th>\n",
       "      <th>August Average Precipitation</th>\n",
       "      <th>September Average Precipitation</th>\n",
       "      <th>October Average Precipitation</th>\n",
       "      <th>November Average Precipitation</th>\n",
       "      <th>December Average Precipitation</th>\n",
       "      <th>RUCC</th>\n",
       "    </tr>\n",
       "  </thead>\n",
       "  <tbody>\n",
       "    <tr>\n",
       "      <th>0</th>\n",
       "      <td>0.847000</td>\n",
       "      <td>0.096000</td>\n",
       "      <td>0.568000</td>\n",
       "      <td>4885.000000</td>\n",
       "      <td>60735.0</td>\n",
       "      <td>54.808333</td>\n",
       "      <td>26.6</td>\n",
       "      <td>36.3</td>\n",
       "      <td>44.2</td>\n",
       "      <td>55.8</td>\n",
       "      <td>...</td>\n",
       "      <td>11.01</td>\n",
       "      <td>5.75</td>\n",
       "      <td>6.53</td>\n",
       "      <td>2.99</td>\n",
       "      <td>2.16</td>\n",
       "      <td>5.30</td>\n",
       "      <td>3.10</td>\n",
       "      <td>5.95</td>\n",
       "      <td>4.90</td>\n",
       "      <td>1.0</td>\n",
       "    </tr>\n",
       "    <tr>\n",
       "      <th>1</th>\n",
       "      <td>0.780000</td>\n",
       "      <td>0.066812</td>\n",
       "      <td>0.547429</td>\n",
       "      <td>954.495385</td>\n",
       "      <td>42945.0</td>\n",
       "      <td>74.058333</td>\n",
       "      <td>59.9</td>\n",
       "      <td>61.5</td>\n",
       "      <td>71.2</td>\n",
       "      <td>72.5</td>\n",
       "      <td>...</td>\n",
       "      <td>1.64</td>\n",
       "      <td>7.55</td>\n",
       "      <td>8.57</td>\n",
       "      <td>3.95</td>\n",
       "      <td>6.58</td>\n",
       "      <td>8.25</td>\n",
       "      <td>3.81</td>\n",
       "      <td>0.24</td>\n",
       "      <td>1.01</td>\n",
       "      <td>1.0</td>\n",
       "    </tr>\n",
       "    <tr>\n",
       "      <th>2</th>\n",
       "      <td>0.780000</td>\n",
       "      <td>0.069824</td>\n",
       "      <td>0.453978</td>\n",
       "      <td>2573.647059</td>\n",
       "      <td>40994.0</td>\n",
       "      <td>60.825000</td>\n",
       "      <td>38.5</td>\n",
       "      <td>42.9</td>\n",
       "      <td>55.2</td>\n",
       "      <td>59.1</td>\n",
       "      <td>...</td>\n",
       "      <td>2.69</td>\n",
       "      <td>3.51</td>\n",
       "      <td>2.22</td>\n",
       "      <td>3.80</td>\n",
       "      <td>5.73</td>\n",
       "      <td>0.96</td>\n",
       "      <td>0.54</td>\n",
       "      <td>1.99</td>\n",
       "      <td>3.87</td>\n",
       "      <td>6.0</td>\n",
       "    </tr>\n",
       "    <tr>\n",
       "      <th>3</th>\n",
       "      <td>0.866534</td>\n",
       "      <td>0.059000</td>\n",
       "      <td>0.785187</td>\n",
       "      <td>4209.193548</td>\n",
       "      <td>81586.0</td>\n",
       "      <td>43.408333</td>\n",
       "      <td>16.3</td>\n",
       "      <td>17.3</td>\n",
       "      <td>24.8</td>\n",
       "      <td>39.0</td>\n",
       "      <td>...</td>\n",
       "      <td>5.51</td>\n",
       "      <td>5.31</td>\n",
       "      <td>5.99</td>\n",
       "      <td>3.51</td>\n",
       "      <td>1.34</td>\n",
       "      <td>1.62</td>\n",
       "      <td>3.07</td>\n",
       "      <td>0.53</td>\n",
       "      <td>1.26</td>\n",
       "      <td>1.0</td>\n",
       "    </tr>\n",
       "    <tr>\n",
       "      <th>4</th>\n",
       "      <td>0.806995</td>\n",
       "      <td>0.102000</td>\n",
       "      <td>0.681151</td>\n",
       "      <td>4158.038961</td>\n",
       "      <td>43863.0</td>\n",
       "      <td>60.991667</td>\n",
       "      <td>46.3</td>\n",
       "      <td>44.2</td>\n",
       "      <td>46.8</td>\n",
       "      <td>61.4</td>\n",
       "      <td>...</td>\n",
       "      <td>4.63</td>\n",
       "      <td>3.10</td>\n",
       "      <td>10.77</td>\n",
       "      <td>8.40</td>\n",
       "      <td>5.02</td>\n",
       "      <td>1.72</td>\n",
       "      <td>1.12</td>\n",
       "      <td>2.85</td>\n",
       "      <td>4.85</td>\n",
       "      <td>2.0</td>\n",
       "    </tr>\n",
       "  </tbody>\n",
       "</table>\n",
       "<p>5 rows × 32 columns</p>\n",
       "</div>"
      ],
      "text/plain": [
       "   High school graduation raw value  Unemployment raw value  \\\n",
       "0                          0.847000                0.096000   \n",
       "1                          0.780000                0.066812   \n",
       "2                          0.780000                0.069824   \n",
       "3                          0.866534                0.059000   \n",
       "4                          0.806995                0.102000   \n",
       "\n",
       "   Some college raw value  Ratio of population to mental health providers  \\\n",
       "0                0.568000                                     4885.000000   \n",
       "1                0.547429                                      954.495385   \n",
       "2                0.453978                                     2573.647059   \n",
       "3                0.785187                                     4209.193548   \n",
       "4                0.681151                                     4158.038961   \n",
       "\n",
       "   Median household income raw value  Average Temperature  \\\n",
       "0                            60735.0            54.808333   \n",
       "1                            42945.0            74.058333   \n",
       "2                            40994.0            60.825000   \n",
       "3                            81586.0            43.408333   \n",
       "4                            43863.0            60.991667   \n",
       "\n",
       "   January Average Temperature  February Average Temperature  \\\n",
       "0                         26.6                          36.3   \n",
       "1                         59.9                          61.5   \n",
       "2                         38.5                          42.9   \n",
       "3                         16.3                          17.3   \n",
       "4                         46.3                          44.2   \n",
       "\n",
       "   March Average Temperature  April Average Temperature  ...  \\\n",
       "0                       44.2                       55.8  ...   \n",
       "1                       71.2                       72.5  ...   \n",
       "2                       55.2                       59.1  ...   \n",
       "3                       24.8                       39.0  ...   \n",
       "4                       46.8                       61.4  ...   \n",
       "\n",
       "   April Average Precipitation  May Average Precipitation  \\\n",
       "0                        11.01                       5.75   \n",
       "1                         1.64                       7.55   \n",
       "2                         2.69                       3.51   \n",
       "3                         5.51                       5.31   \n",
       "4                         4.63                       3.10   \n",
       "\n",
       "   June Average Precipitation  July Average Precipitation  \\\n",
       "0                        6.53                        2.99   \n",
       "1                        8.57                        3.95   \n",
       "2                        2.22                        3.80   \n",
       "3                        5.99                        3.51   \n",
       "4                       10.77                        8.40   \n",
       "\n",
       "   August Average Precipitation  September Average Precipitation  \\\n",
       "0                          2.16                             5.30   \n",
       "1                          6.58                             8.25   \n",
       "2                          5.73                             0.96   \n",
       "3                          1.34                             1.62   \n",
       "4                          5.02                             1.72   \n",
       "\n",
       "   October Average Precipitation  November Average Precipitation  \\\n",
       "0                           3.10                            5.95   \n",
       "1                           3.81                            0.24   \n",
       "2                           0.54                            1.99   \n",
       "3                           3.07                            0.53   \n",
       "4                           1.12                            2.85   \n",
       "\n",
       "   December Average Precipitation  RUCC  \n",
       "0                            4.90   1.0  \n",
       "1                            1.01   1.0  \n",
       "2                            3.87   6.0  \n",
       "3                            1.26   1.0  \n",
       "4                            4.85   2.0  \n",
       "\n",
       "[5 rows x 32 columns]"
      ]
     },
     "execution_count": 17,
     "metadata": {},
     "output_type": "execute_result"
    }
   ],
   "source": [
    "X_train_full = pd.read_csv(\"X_train.csv\")\n",
    "X_train_full.head(5)"
   ]
  },
  {
   "cell_type": "code",
   "execution_count": 18,
   "id": "3ce5ea09",
   "metadata": {},
   "outputs": [
    {
     "data": {
      "text/html": [
       "<div>\n",
       "<style scoped>\n",
       "    .dataframe tbody tr th:only-of-type {\n",
       "        vertical-align: middle;\n",
       "    }\n",
       "\n",
       "    .dataframe tbody tr th {\n",
       "        vertical-align: top;\n",
       "    }\n",
       "\n",
       "    .dataframe thead th {\n",
       "        text-align: right;\n",
       "    }\n",
       "</style>\n",
       "<table border=\"1\" class=\"dataframe\">\n",
       "  <thead>\n",
       "    <tr style=\"text-align: right;\">\n",
       "      <th></th>\n",
       "      <th>Poor mental health days raw value</th>\n",
       "      <th>Crude Rate</th>\n",
       "    </tr>\n",
       "  </thead>\n",
       "  <tbody>\n",
       "    <tr>\n",
       "      <th>0</th>\n",
       "      <td>4.1</td>\n",
       "      <td>16.6</td>\n",
       "    </tr>\n",
       "    <tr>\n",
       "      <th>1</th>\n",
       "      <td>4.2</td>\n",
       "      <td>11.0</td>\n",
       "    </tr>\n",
       "    <tr>\n",
       "      <th>2</th>\n",
       "      <td>3.9</td>\n",
       "      <td>24.9</td>\n",
       "    </tr>\n",
       "    <tr>\n",
       "      <th>3</th>\n",
       "      <td>2.3</td>\n",
       "      <td>8.7</td>\n",
       "    </tr>\n",
       "    <tr>\n",
       "      <th>4</th>\n",
       "      <td>4.0</td>\n",
       "      <td>16.8</td>\n",
       "    </tr>\n",
       "  </tbody>\n",
       "</table>\n",
       "</div>"
      ],
      "text/plain": [
       "   Poor mental health days raw value  Crude Rate\n",
       "0                                4.1        16.6\n",
       "1                                4.2        11.0\n",
       "2                                3.9        24.9\n",
       "3                                2.3         8.7\n",
       "4                                4.0        16.8"
      ]
     },
     "execution_count": 18,
     "metadata": {},
     "output_type": "execute_result"
    }
   ],
   "source": [
    "Y_train_full = pd.read_csv(\"Y_train.csv\")\n",
    "Y_train_full.head(5)"
   ]
  },
  {
   "cell_type": "markdown",
   "id": "33f6aac9",
   "metadata": {},
   "source": [
    "### Linear GAM Regression for Predicting Poor Mental Health Days"
   ]
  },
  {
   "cell_type": "code",
   "execution_count": 21,
   "id": "d53d230e",
   "metadata": {},
   "outputs": [
    {
     "name": "stderr",
     "output_type": "stream",
     "text": [
      "100% (11 of 11) |########################| Elapsed Time: 0:00:09 Time:  0:00:09\n",
      "  0% (0 of 11) |                         | Elapsed Time: 0:00:00 ETA:  --:--:--"
     ]
    },
    {
     "name": "stdout",
     "output_type": "stream",
     "text": [
      "mae = 0.37360069608436314\n",
      "rmse = 0.5217074780184494\n",
      "r2 = 0.36147912468577625\n"
     ]
    },
    {
     "name": "stderr",
     "output_type": "stream",
     "text": [
      "100% (11 of 11) |########################| Elapsed Time: 0:00:10 Time:  0:00:10\n",
      "  0% (0 of 11) |                         | Elapsed Time: 0:00:00 ETA:  --:--:--"
     ]
    },
    {
     "name": "stdout",
     "output_type": "stream",
     "text": [
      "mae = 0.3885877776962913\n",
      "rmse = 0.5099024106479106\n",
      "r2 = 0.3824588891600922\n"
     ]
    },
    {
     "name": "stderr",
     "output_type": "stream",
     "text": [
      "100% (11 of 11) |########################| Elapsed Time: 0:00:10 Time:  0:00:10\n",
      "  0% (0 of 11) |                         | Elapsed Time: 0:00:00 ETA:  --:--:--"
     ]
    },
    {
     "name": "stdout",
     "output_type": "stream",
     "text": [
      "mae = 0.3650385221240654\n",
      "rmse = 0.5007840969700411\n",
      "r2 = 0.462674447316213\n"
     ]
    },
    {
     "name": "stderr",
     "output_type": "stream",
     "text": [
      "100% (11 of 11) |########################| Elapsed Time: 0:00:09 Time:  0:00:09\n",
      "  0% (0 of 11) |                         | Elapsed Time: 0:00:00 ETA:  --:--:--"
     ]
    },
    {
     "name": "stdout",
     "output_type": "stream",
     "text": [
      "mae = 0.3778991497118736\n",
      "rmse = 0.506009283143899\n",
      "r2 = 0.4246541776253431\n"
     ]
    },
    {
     "name": "stderr",
     "output_type": "stream",
     "text": [
      "100% (11 of 11) |########################| Elapsed Time: 0:00:09 Time:  0:00:09\n",
      "  0% (0 of 11) |                         | Elapsed Time: 0:00:00 ETA:  --:--:--"
     ]
    },
    {
     "name": "stdout",
     "output_type": "stream",
     "text": [
      "mae = 0.3697140413805132\n",
      "rmse = 0.5018092860401905\n",
      "r2 = 0.39009845357944306\n"
     ]
    },
    {
     "name": "stderr",
     "output_type": "stream",
     "text": [
      "100% (11 of 11) |########################| Elapsed Time: 0:00:09 Time:  0:00:09\n",
      "  0% (0 of 11) |                         | Elapsed Time: 0:00:00 ETA:  --:--:--"
     ]
    },
    {
     "name": "stdout",
     "output_type": "stream",
     "text": [
      "mae = 0.36466764310031524\n",
      "rmse = 0.4786050245595231\n",
      "r2 = 0.4495888160237749\n"
     ]
    },
    {
     "name": "stderr",
     "output_type": "stream",
     "text": [
      "100% (11 of 11) |########################| Elapsed Time: 0:00:10 Time:  0:00:10\n",
      "  0% (0 of 11) |                         | Elapsed Time: 0:00:00 ETA:  --:--:--"
     ]
    },
    {
     "name": "stdout",
     "output_type": "stream",
     "text": [
      "mae = 0.38158008034290697\n",
      "rmse = 0.5100242026038311\n",
      "r2 = 0.406676524987549\n"
     ]
    },
    {
     "name": "stderr",
     "output_type": "stream",
     "text": [
      "100% (11 of 11) |########################| Elapsed Time: 0:00:11 Time:  0:00:11\n",
      "  0% (0 of 11) |                         | Elapsed Time: 0:00:00 ETA:  --:--:--"
     ]
    },
    {
     "name": "stdout",
     "output_type": "stream",
     "text": [
      "mae = 0.3849850989126984\n",
      "rmse = 0.5175317499495152\n",
      "r2 = 0.40939000843828377\n"
     ]
    },
    {
     "name": "stderr",
     "output_type": "stream",
     "text": [
      "100% (11 of 11) |########################| Elapsed Time: 0:00:10 Time:  0:00:10\n",
      "  0% (0 of 11) |                         | Elapsed Time: 0:00:00 ETA:  --:--:--"
     ]
    },
    {
     "name": "stdout",
     "output_type": "stream",
     "text": [
      "mae = 0.3680300193015572\n",
      "rmse = 0.5194550197844997\n",
      "r2 = 0.4537450499556457\n"
     ]
    },
    {
     "name": "stderr",
     "output_type": "stream",
     "text": [
      "100% (11 of 11) |########################| Elapsed Time: 0:00:10 Time:  0:00:10\n",
      "  0% (0 of 11) |                         | Elapsed Time: 0:00:00 ETA:  --:--:--"
     ]
    },
    {
     "name": "stdout",
     "output_type": "stream",
     "text": [
      "mae = 0.37639406588767\n",
      "rmse = 0.5063473827182602\n",
      "r2 = 0.38173953548288075\n"
     ]
    },
    {
     "name": "stderr",
     "output_type": "stream",
     "text": [
      "100% (11 of 11) |########################| Elapsed Time: 0:00:10 Time:  0:00:10\n",
      "  0% (0 of 11) |                         | Elapsed Time: 0:00:00 ETA:  --:--:--"
     ]
    },
    {
     "name": "stdout",
     "output_type": "stream",
     "text": [
      "mae = 0.3558100070522489\n",
      "rmse = 0.4703315248743847\n",
      "r2 = 0.48221764138275325\n"
     ]
    },
    {
     "name": "stderr",
     "output_type": "stream",
     "text": [
      "100% (11 of 11) |########################| Elapsed Time: 0:00:10 Time:  0:00:10\n",
      "  0% (0 of 11) |                         | Elapsed Time: 0:00:00 ETA:  --:--:--"
     ]
    },
    {
     "name": "stdout",
     "output_type": "stream",
     "text": [
      "mae = 0.38711860800503617\n",
      "rmse = 0.5236428783089161\n",
      "r2 = 0.36403251797543545\n"
     ]
    },
    {
     "name": "stderr",
     "output_type": "stream",
     "text": [
      "100% (11 of 11) |########################| Elapsed Time: 0:00:10 Time:  0:00:10\n",
      "  0% (0 of 11) |                         | Elapsed Time: 0:00:00 ETA:  --:--:--"
     ]
    },
    {
     "name": "stdout",
     "output_type": "stream",
     "text": [
      "mae = 0.3884409366253647\n",
      "rmse = 0.5395150238335592\n",
      "r2 = 0.39339157243765754\n"
     ]
    },
    {
     "name": "stderr",
     "output_type": "stream",
     "text": [
      "100% (11 of 11) |########################| Elapsed Time: 0:00:12 Time:  0:00:12\n",
      "  0% (0 of 11) |                         | Elapsed Time: 0:00:00 ETA:  --:--:--"
     ]
    },
    {
     "name": "stdout",
     "output_type": "stream",
     "text": [
      "mae = 0.37085596137123333\n",
      "rmse = 0.4986793868295014\n",
      "r2 = 0.3784779210172007\n"
     ]
    },
    {
     "name": "stderr",
     "output_type": "stream",
     "text": [
      "100% (11 of 11) |########################| Elapsed Time: 0:00:10 Time:  0:00:10\n",
      "  0% (0 of 11) |                         | Elapsed Time: 0:00:00 ETA:  --:--:--"
     ]
    },
    {
     "name": "stdout",
     "output_type": "stream",
     "text": [
      "mae = 0.4029340698148772\n",
      "rmse = 0.5453337607373271\n",
      "r2 = 0.41632281344204103\n"
     ]
    },
    {
     "name": "stderr",
     "output_type": "stream",
     "text": [
      "100% (11 of 11) |########################| Elapsed Time: 0:00:12 Time:  0:00:12\n",
      "  0% (0 of 11) |                         | Elapsed Time: 0:00:00 ETA:  --:--:--"
     ]
    },
    {
     "name": "stdout",
     "output_type": "stream",
     "text": [
      "mae = 0.35769543306043056\n",
      "rmse = 0.47747548037214693\n",
      "r2 = 0.4421411798599061\n"
     ]
    },
    {
     "name": "stderr",
     "output_type": "stream",
     "text": [
      "100% (11 of 11) |########################| Elapsed Time: 0:00:11 Time:  0:00:11\n",
      "  0% (0 of 11) |                         | Elapsed Time: 0:00:00 ETA:  --:--:--"
     ]
    },
    {
     "name": "stdout",
     "output_type": "stream",
     "text": [
      "mae = 0.3725700248537225\n",
      "rmse = 0.49711457554230076\n",
      "r2 = 0.414841811194968\n"
     ]
    },
    {
     "name": "stderr",
     "output_type": "stream",
     "text": [
      "100% (11 of 11) |########################| Elapsed Time: 0:00:11 Time:  0:00:11\n",
      "  0% (0 of 11) |                         | Elapsed Time: 0:00:00 ETA:  --:--:--"
     ]
    },
    {
     "name": "stdout",
     "output_type": "stream",
     "text": [
      "mae = 0.3735548838136683\n",
      "rmse = 0.4977442006785807\n",
      "r2 = 0.3666552493209293\n"
     ]
    },
    {
     "name": "stderr",
     "output_type": "stream",
     "text": [
      "100% (11 of 11) |########################| Elapsed Time: 0:00:10 Time:  0:00:10\n",
      "  0% (0 of 11) |                         | Elapsed Time: 0:00:00 ETA:  --:--:--"
     ]
    },
    {
     "name": "stdout",
     "output_type": "stream",
     "text": [
      "mae = 0.3712990566949514\n",
      "rmse = 0.5035377385460693\n",
      "r2 = 0.4293736693075302\n"
     ]
    },
    {
     "name": "stderr",
     "output_type": "stream",
     "text": [
      "100% (11 of 11) |########################| Elapsed Time: 0:00:11 Time:  0:00:11\n",
      "  0% (0 of 11) |                         | Elapsed Time: 0:00:00 ETA:  --:--:--"
     ]
    },
    {
     "name": "stdout",
     "output_type": "stream",
     "text": [
      "mae = 0.3817016922274881\n",
      "rmse = 0.5259507752538841\n",
      "r2 = 0.4161143997167105\n"
     ]
    },
    {
     "name": "stderr",
     "output_type": "stream",
     "text": [
      "100% (11 of 11) |########################| Elapsed Time: 0:00:10 Time:  0:00:10\n",
      "  0% (0 of 11) |                         | Elapsed Time: 0:00:00 ETA:  --:--:--"
     ]
    },
    {
     "name": "stdout",
     "output_type": "stream",
     "text": [
      "mae = 0.3791537600618757\n",
      "rmse = 0.5025514527017839\n",
      "r2 = 0.39116915177923783\n"
     ]
    },
    {
     "name": "stderr",
     "output_type": "stream",
     "text": [
      "100% (11 of 11) |########################| Elapsed Time: 0:00:11 Time:  0:00:11\n",
      "  0% (0 of 11) |                         | Elapsed Time: 0:00:00 ETA:  --:--:--"
     ]
    },
    {
     "name": "stdout",
     "output_type": "stream",
     "text": [
      "mae = 0.37970076290834553\n",
      "rmse = 0.5009058173305816\n",
      "r2 = 0.45282484349072494\n"
     ]
    },
    {
     "name": "stderr",
     "output_type": "stream",
     "text": [
      "100% (11 of 11) |########################| Elapsed Time: 0:00:11 Time:  0:00:11\n",
      "  0% (0 of 11) |                         | Elapsed Time: 0:00:00 ETA:  --:--:--"
     ]
    },
    {
     "name": "stdout",
     "output_type": "stream",
     "text": [
      "mae = 0.3733266484383942\n",
      "rmse = 0.5115126997066185\n",
      "r2 = 0.4312304836739923\n"
     ]
    },
    {
     "name": "stderr",
     "output_type": "stream",
     "text": [
      "100% (11 of 11) |########################| Elapsed Time: 0:00:10 Time:  0:00:10\n",
      "  0% (0 of 11) |                         | Elapsed Time: 0:00:00 ETA:  --:--:--"
     ]
    },
    {
     "name": "stdout",
     "output_type": "stream",
     "text": [
      "mae = 0.37501596099303786\n",
      "rmse = 0.5202101659895085\n",
      "r2 = 0.38377794240487806\n"
     ]
    },
    {
     "name": "stderr",
     "output_type": "stream",
     "text": [
      "100% (11 of 11) |########################| Elapsed Time: 0:00:10 Time:  0:00:10\n",
      "  0% (0 of 11) |                         | Elapsed Time: 0:00:00 ETA:  --:--:--"
     ]
    },
    {
     "name": "stdout",
     "output_type": "stream",
     "text": [
      "mae = 0.3712425636575715\n",
      "rmse = 0.4921146908606645\n",
      "r2 = 0.42126900128305733\n"
     ]
    },
    {
     "name": "stderr",
     "output_type": "stream",
     "text": [
      "100% (11 of 11) |########################| Elapsed Time: 0:00:10 Time:  0:00:10\n",
      "  0% (0 of 11) |                         | Elapsed Time: 0:00:00 ETA:  --:--:--"
     ]
    },
    {
     "name": "stdout",
     "output_type": "stream",
     "text": [
      "mae = 0.3718945893224611\n",
      "rmse = 0.4974663287272173\n",
      "r2 = 0.44102519861990575\n"
     ]
    },
    {
     "name": "stderr",
     "output_type": "stream",
     "text": [
      "100% (11 of 11) |########################| Elapsed Time: 0:00:09 Time:  0:00:09\n",
      "  0% (0 of 11) |                         | Elapsed Time: 0:00:00 ETA:  --:--:--"
     ]
    },
    {
     "name": "stdout",
     "output_type": "stream",
     "text": [
      "mae = 0.36752826609021544\n",
      "rmse = 0.5114096777229652\n",
      "r2 = 0.4438496714867991\n"
     ]
    },
    {
     "name": "stderr",
     "output_type": "stream",
     "text": [
      "100% (11 of 11) |########################| Elapsed Time: 0:00:09 Time:  0:00:09\n",
      "  0% (0 of 11) |                         | Elapsed Time: 0:00:00 ETA:  --:--:--"
     ]
    },
    {
     "name": "stdout",
     "output_type": "stream",
     "text": [
      "mae = 0.37383690316167617\n",
      "rmse = 0.49721435251249274\n",
      "r2 = 0.41224827023521626\n"
     ]
    },
    {
     "name": "stderr",
     "output_type": "stream",
     "text": [
      "100% (11 of 11) |########################| Elapsed Time: 0:00:10 Time:  0:00:10\n",
      "  0% (0 of 11) |                         | Elapsed Time: 0:00:00 ETA:  --:--:--"
     ]
    },
    {
     "name": "stdout",
     "output_type": "stream",
     "text": [
      "mae = 0.38419792660811014\n",
      "rmse = 0.53100651559359\n",
      "r2 = 0.3886397806785671\n"
     ]
    },
    {
     "name": "stderr",
     "output_type": "stream",
     "text": [
      "100% (11 of 11) |########################| Elapsed Time: 0:00:10 Time:  0:00:10\n"
     ]
    },
    {
     "name": "stdout",
     "output_type": "stream",
     "text": [
      "mae = 0.38158287388991385\n",
      "rmse = 0.5178113747588489\n",
      "r2 = 0.33207085839667494\n"
     ]
    }
   ],
   "source": [
    "OUTER_FOLDS = 10\n",
    "INNER_FOLDS = 10\n",
    "N_REPEATS = 3\n",
    "\n",
    "allMAEs = []\n",
    "allRMSEs = []\n",
    "allR2s = []\n",
    "\n",
    "avgKFolds = RepeatedKFold(n_splits=OUTER_FOLDS, n_repeats=N_REPEATS, random_state=1)\n",
    "\n",
    "# outer cross validation is to get the average metrics across random folds in\n",
    "# order to select best model to use\n",
    "for train_index, test_index in avgKFolds.split(X_train_full):\n",
    "  X_train, X_val = X_train_full.iloc[train_index], X_train_full.iloc[test_index]\n",
    "  Y_train, Y_val = Y_train_full.iloc[train_index], Y_train_full.iloc[test_index]\n",
    "   \n",
    "  model = LinearGAM()\n",
    "  model.gridsearch(X_train.to_numpy(), Y_train.iloc[:,0].to_numpy())\n",
    "\n",
    "  predictions = model.predict(X_val)\n",
    "  mae = mean_absolute_error(Y_val.iloc[:,0], predictions)\n",
    "  print(\"mae = \" + str(mae))\n",
    "  rmse = math.sqrt(mean_squared_error(Y_val.iloc[:,0], predictions))\n",
    "  print(\"rmse = \" + str(rmse))\n",
    "  r2 = r2_score(Y_val.iloc[:,0], predictions)\n",
    "  print(\"r2 = \" + str(r2))\n",
    "\n",
    "  allMAEs.append(mae)\n",
    "  allRMSEs.append(rmse)\n",
    "  allR2s.append(r2)\n",
    "\n",
    "\n",
    "\n",
    "  "
   ]
  },
  {
   "cell_type": "code",
   "execution_count": 22,
   "id": "0cba7d0f",
   "metadata": {},
   "outputs": [],
   "source": [
    "averageMAE = sum(allMAEs)/(OUTER_FOLDS * N_REPEATS)\n",
    "averageRMSE = sum(allRMSEs)/(OUTER_FOLDS * N_REPEATS)\n",
    "averageR2 = sum(allR2s)/(OUTER_FOLDS * N_REPEATS)\n",
    "\n",
    "\n",
    "# Make sure to change this model number for each of the different models. It\n",
    "# just dictates which row in the csv to put the data. \n",
    "model_number = 4\n",
    "\n",
    "full_metrics_df = pd.read_csv(\"All_Model_Metrics.csv\")\n",
    "full_metrics_df.loc[model_number] = [\"LinearGAM Regression Poor Mental Health Days\", averageMAE, averageRMSE, averageR2]\n",
    "full_metrics_df.to_csv('All_Model_Metrics.csv', index=False)"
   ]
  },
  {
   "cell_type": "markdown",
   "id": "e9b138fc",
   "metadata": {},
   "source": [
    "### Linear GAM Regression for Predicting Suicides"
   ]
  },
  {
   "cell_type": "code",
   "execution_count": 23,
   "id": "ac46b013",
   "metadata": {},
   "outputs": [
    {
     "name": "stderr",
     "output_type": "stream",
     "text": [
      "100% (11 of 11) |########################| Elapsed Time: 0:00:10 Time:  0:00:10\n",
      "  0% (0 of 11) |                         | Elapsed Time: 0:00:00 ETA:  --:--:--"
     ]
    },
    {
     "name": "stdout",
     "output_type": "stream",
     "text": [
      "mae = 4.106391430997909\n",
      "rmse = 5.796593612081998\n",
      "r2 = 0.5285330638442953\n"
     ]
    },
    {
     "name": "stderr",
     "output_type": "stream",
     "text": [
      "100% (11 of 11) |########################| Elapsed Time: 0:00:12 Time:  0:00:12\n",
      "  0% (0 of 11) |                         | Elapsed Time: 0:00:00 ETA:  --:--:--"
     ]
    },
    {
     "name": "stdout",
     "output_type": "stream",
     "text": [
      "mae = 3.44506766040155\n",
      "rmse = 4.826988412139068\n",
      "r2 = 0.516037751870444\n"
     ]
    },
    {
     "name": "stderr",
     "output_type": "stream",
     "text": [
      "100% (11 of 11) |########################| Elapsed Time: 0:00:12 Time:  0:00:12\n",
      "  0% (0 of 11) |                         | Elapsed Time: 0:00:00 ETA:  --:--:--"
     ]
    },
    {
     "name": "stdout",
     "output_type": "stream",
     "text": [
      "mae = 3.912916109100125\n",
      "rmse = 5.472791590719827\n",
      "r2 = 0.5206229522749535\n"
     ]
    },
    {
     "name": "stderr",
     "output_type": "stream",
     "text": [
      "100% (11 of 11) |########################| Elapsed Time: 0:00:09 Time:  0:00:09\n",
      "  0% (0 of 11) |                         | Elapsed Time: 0:00:00 ETA:  --:--:--"
     ]
    },
    {
     "name": "stdout",
     "output_type": "stream",
     "text": [
      "mae = 4.091766322964468\n",
      "rmse = 5.406917004383148\n",
      "r2 = 0.5046595497312604\n"
     ]
    },
    {
     "name": "stderr",
     "output_type": "stream",
     "text": [
      "100% (11 of 11) |########################| Elapsed Time: 0:00:10 Time:  0:00:10\n",
      "  0% (0 of 11) |                         | Elapsed Time: 0:00:00 ETA:  --:--:--"
     ]
    },
    {
     "name": "stdout",
     "output_type": "stream",
     "text": [
      "mae = 3.553045833310752\n",
      "rmse = 4.669173721633785\n",
      "r2 = 0.5318519581942168\n"
     ]
    },
    {
     "name": "stderr",
     "output_type": "stream",
     "text": [
      "100% (11 of 11) |########################| Elapsed Time: 0:00:13 Time:  0:00:13\n",
      "  0% (0 of 11) |                         | Elapsed Time: 0:00:00 ETA:  --:--:--"
     ]
    },
    {
     "name": "stdout",
     "output_type": "stream",
     "text": [
      "mae = 3.8711949004824193\n",
      "rmse = 5.447514302891458\n",
      "r2 = 0.5005783747729102\n"
     ]
    },
    {
     "name": "stderr",
     "output_type": "stream",
     "text": [
      "100% (11 of 11) |########################| Elapsed Time: 0:00:13 Time:  0:00:13\n",
      "  0% (0 of 11) |                         | Elapsed Time: 0:00:00 ETA:  --:--:--"
     ]
    },
    {
     "name": "stdout",
     "output_type": "stream",
     "text": [
      "mae = 3.799834703066369\n",
      "rmse = 4.979089248889952\n",
      "r2 = 0.46680393999214886\n"
     ]
    },
    {
     "name": "stderr",
     "output_type": "stream",
     "text": [
      "100% (11 of 11) |########################| Elapsed Time: 0:00:11 Time:  0:00:11\n",
      "  0% (0 of 11) |                         | Elapsed Time: 0:00:00 ETA:  --:--:--"
     ]
    },
    {
     "name": "stdout",
     "output_type": "stream",
     "text": [
      "mae = 4.1197372391526565\n",
      "rmse = 5.635324733693663\n",
      "r2 = 0.46763020306931313\n"
     ]
    },
    {
     "name": "stderr",
     "output_type": "stream",
     "text": [
      "100% (11 of 11) |########################| Elapsed Time: 0:00:11 Time:  0:00:11\n",
      "  0% (0 of 11) |                         | Elapsed Time: 0:00:00 ETA:  --:--:--"
     ]
    },
    {
     "name": "stdout",
     "output_type": "stream",
     "text": [
      "mae = 3.8934142576106177\n",
      "rmse = 5.331842230475665\n",
      "r2 = 0.5453651492015853\n"
     ]
    },
    {
     "name": "stderr",
     "output_type": "stream",
     "text": [
      "100% (11 of 11) |########################| Elapsed Time: 0:00:12 Time:  0:00:12\n",
      "  0% (0 of 11) |                         | Elapsed Time: 0:00:00 ETA:  --:--:--"
     ]
    },
    {
     "name": "stdout",
     "output_type": "stream",
     "text": [
      "mae = 3.7782690416627522\n",
      "rmse = 5.132183058951863\n",
      "r2 = 0.537395351315604\n"
     ]
    },
    {
     "name": "stderr",
     "output_type": "stream",
     "text": [
      "100% (11 of 11) |########################| Elapsed Time: 0:00:11 Time:  0:00:11\n",
      "  0% (0 of 11) |                         | Elapsed Time: 0:00:00 ETA:  --:--:--"
     ]
    },
    {
     "name": "stdout",
     "output_type": "stream",
     "text": [
      "mae = 3.971266559472373\n",
      "rmse = 5.420954339648784\n",
      "r2 = 0.5348997245090381\n"
     ]
    },
    {
     "name": "stderr",
     "output_type": "stream",
     "text": [
      "100% (11 of 11) |########################| Elapsed Time: 0:00:12 Time:  0:00:12\n",
      "  0% (0 of 11) |                         | Elapsed Time: 0:00:00 ETA:  --:--:--"
     ]
    },
    {
     "name": "stdout",
     "output_type": "stream",
     "text": [
      "mae = 3.8770104151841513\n",
      "rmse = 5.253886350529713\n",
      "r2 = 0.4187396591242434\n"
     ]
    },
    {
     "name": "stderr",
     "output_type": "stream",
     "text": [
      "100% (11 of 11) |########################| Elapsed Time: 0:00:11 Time:  0:00:11\n",
      "  0% (0 of 11) |                         | Elapsed Time: 0:00:00 ETA:  --:--:--"
     ]
    },
    {
     "name": "stdout",
     "output_type": "stream",
     "text": [
      "mae = 4.197864412707824\n",
      "rmse = 5.672263586157327\n",
      "r2 = 0.49818730351986995\n"
     ]
    },
    {
     "name": "stderr",
     "output_type": "stream",
     "text": [
      "100% (11 of 11) |########################| Elapsed Time: 0:00:09 Time:  0:00:09\n",
      "  0% (0 of 11) |                         | Elapsed Time: 0:00:00 ETA:  --:--:--"
     ]
    },
    {
     "name": "stdout",
     "output_type": "stream",
     "text": [
      "mae = 3.6545015093728703\n",
      "rmse = 4.8099455690591135\n",
      "r2 = 0.5538098644828708\n"
     ]
    },
    {
     "name": "stderr",
     "output_type": "stream",
     "text": [
      "100% (11 of 11) |########################| Elapsed Time: 0:00:09 Time:  0:00:09\n",
      "  0% (0 of 11) |                         | Elapsed Time: 0:00:00 ETA:  --:--:--"
     ]
    },
    {
     "name": "stdout",
     "output_type": "stream",
     "text": [
      "mae = 3.6138310761829353\n",
      "rmse = 4.963483633407504\n",
      "r2 = 0.47666103273270644\n"
     ]
    },
    {
     "name": "stderr",
     "output_type": "stream",
     "text": [
      "100% (11 of 11) |########################| Elapsed Time: 0:00:09 Time:  0:00:09\n",
      "  0% (0 of 11) |                         | Elapsed Time: 0:00:00 ETA:  --:--:--"
     ]
    },
    {
     "name": "stdout",
     "output_type": "stream",
     "text": [
      "mae = 4.0051719295513575\n",
      "rmse = 5.619377595886875\n",
      "r2 = 0.5032848950308311\n"
     ]
    },
    {
     "name": "stderr",
     "output_type": "stream",
     "text": [
      "100% (11 of 11) |########################| Elapsed Time: 0:00:09 Time:  0:00:09\n",
      "  0% (0 of 11) |                         | Elapsed Time: 0:00:00 ETA:  --:--:--"
     ]
    },
    {
     "name": "stdout",
     "output_type": "stream",
     "text": [
      "mae = 3.8246019810163894\n",
      "rmse = 4.985459447158717\n",
      "r2 = 0.49319640530488673\n"
     ]
    },
    {
     "name": "stderr",
     "output_type": "stream",
     "text": [
      "100% (11 of 11) |########################| Elapsed Time: 0:00:10 Time:  0:00:10\n",
      "  0% (0 of 11) |                         | Elapsed Time: 0:00:00 ETA:  --:--:--"
     ]
    },
    {
     "name": "stdout",
     "output_type": "stream",
     "text": [
      "mae = 3.927641821667925\n",
      "rmse = 5.778533545157629\n",
      "r2 = 0.5223687947606208\n"
     ]
    },
    {
     "name": "stderr",
     "output_type": "stream",
     "text": [
      "100% (11 of 11) |########################| Elapsed Time: 0:00:10 Time:  0:00:10\n",
      "  0% (0 of 11) |                         | Elapsed Time: 0:00:00 ETA:  --:--:--"
     ]
    },
    {
     "name": "stdout",
     "output_type": "stream",
     "text": [
      "mae = 4.0342347863666665\n",
      "rmse = 5.649811013504252\n",
      "r2 = 0.5031405466491373\n"
     ]
    },
    {
     "name": "stderr",
     "output_type": "stream",
     "text": [
      "100% (11 of 11) |########################| Elapsed Time: 0:00:09 Time:  0:00:09\n",
      "  0% (0 of 11) |                         | Elapsed Time: 0:00:00 ETA:  --:--:--"
     ]
    },
    {
     "name": "stdout",
     "output_type": "stream",
     "text": [
      "mae = 3.726036139096142\n",
      "rmse = 4.8995313783649435\n",
      "r2 = 0.541673446409894\n"
     ]
    },
    {
     "name": "stderr",
     "output_type": "stream",
     "text": [
      "100% (11 of 11) |########################| Elapsed Time: 0:00:09 Time:  0:00:09\n",
      "  0% (0 of 11) |                         | Elapsed Time: 0:00:00 ETA:  --:--:--"
     ]
    },
    {
     "name": "stdout",
     "output_type": "stream",
     "text": [
      "mae = 3.548165011819797\n",
      "rmse = 4.82430821672444\n",
      "r2 = 0.4876408711979402\n"
     ]
    },
    {
     "name": "stderr",
     "output_type": "stream",
     "text": [
      "100% (11 of 11) |########################| Elapsed Time: 0:00:09 Time:  0:00:09\n",
      "  0% (0 of 11) |                         | Elapsed Time: 0:00:00 ETA:  --:--:--"
     ]
    },
    {
     "name": "stdout",
     "output_type": "stream",
     "text": [
      "mae = 3.9591842221795925\n",
      "rmse = 5.798892152677739\n",
      "r2 = 0.5731069210575133\n"
     ]
    },
    {
     "name": "stderr",
     "output_type": "stream",
     "text": [
      "100% (11 of 11) |########################| Elapsed Time: 0:00:10 Time:  0:00:10\n",
      "  0% (0 of 11) |                         | Elapsed Time: 0:00:00 ETA:  --:--:--"
     ]
    },
    {
     "name": "stdout",
     "output_type": "stream",
     "text": [
      "mae = 4.085990749674441\n",
      "rmse = 5.593854742784942\n",
      "r2 = 0.4208458799427143\n"
     ]
    },
    {
     "name": "stderr",
     "output_type": "stream",
     "text": [
      "100% (11 of 11) |########################| Elapsed Time: 0:00:09 Time:  0:00:09\n",
      "  0% (0 of 11) |                         | Elapsed Time: 0:00:00 ETA:  --:--:--"
     ]
    },
    {
     "name": "stdout",
     "output_type": "stream",
     "text": [
      "mae = 3.6082423068966922\n",
      "rmse = 4.8659259631479275\n",
      "r2 = 0.5639008044972783\n"
     ]
    },
    {
     "name": "stderr",
     "output_type": "stream",
     "text": [
      "100% (11 of 11) |########################| Elapsed Time: 0:00:09 Time:  0:00:09\n",
      "  0% (0 of 11) |                         | Elapsed Time: 0:00:00 ETA:  --:--:--"
     ]
    },
    {
     "name": "stdout",
     "output_type": "stream",
     "text": [
      "mae = 4.043041669822126\n",
      "rmse = 5.356456127681142\n",
      "r2 = 0.595423992709524\n"
     ]
    },
    {
     "name": "stderr",
     "output_type": "stream",
     "text": [
      "100% (11 of 11) |########################| Elapsed Time: 0:00:09 Time:  0:00:09\n",
      "  0% (0 of 11) |                         | Elapsed Time: 0:00:00 ETA:  --:--:--"
     ]
    },
    {
     "name": "stdout",
     "output_type": "stream",
     "text": [
      "mae = 3.6466115321956853\n",
      "rmse = 5.210454345197455\n",
      "r2 = 0.5257531171387524\n"
     ]
    },
    {
     "name": "stderr",
     "output_type": "stream",
     "text": [
      "100% (11 of 11) |########################| Elapsed Time: 0:00:09 Time:  0:00:09\n",
      "  0% (0 of 11) |                         | Elapsed Time: 0:00:00 ETA:  --:--:--"
     ]
    },
    {
     "name": "stdout",
     "output_type": "stream",
     "text": [
      "mae = 3.4476402465775298\n",
      "rmse = 4.565444857974413\n",
      "r2 = 0.45847239136391227\n"
     ]
    },
    {
     "name": "stderr",
     "output_type": "stream",
     "text": [
      "100% (11 of 11) |########################| Elapsed Time: 0:00:09 Time:  0:00:09\n",
      "  0% (0 of 11) |                         | Elapsed Time: 0:00:00 ETA:  --:--:--"
     ]
    },
    {
     "name": "stdout",
     "output_type": "stream",
     "text": [
      "mae = 4.193773478140182\n",
      "rmse = 5.85982097734275\n",
      "r2 = 0.4877078537278522\n"
     ]
    },
    {
     "name": "stderr",
     "output_type": "stream",
     "text": [
      "100% (11 of 11) |########################| Elapsed Time: 0:00:09 Time:  0:00:09\n",
      "  0% (0 of 11) |                         | Elapsed Time: 0:00:00 ETA:  --:--:--"
     ]
    },
    {
     "name": "stdout",
     "output_type": "stream",
     "text": [
      "mae = 3.868903671381453\n",
      "rmse = 5.1887373882591845\n",
      "r2 = 0.4658238076464686\n"
     ]
    },
    {
     "name": "stderr",
     "output_type": "stream",
     "text": [
      "100% (11 of 11) |########################| Elapsed Time: 0:00:10 Time:  0:00:10\n"
     ]
    },
    {
     "name": "stdout",
     "output_type": "stream",
     "text": [
      "mae = 4.247611470021923\n",
      "rmse = 5.582603124846024\n",
      "r2 = 0.4417963032302341\n"
     ]
    }
   ],
   "source": [
    "OUTER_FOLDS = 10\n",
    "INNER_FOLDS = 10\n",
    "N_REPEATS = 3\n",
    "\n",
    "allMAEs = []\n",
    "allRMSEs = []\n",
    "allR2s = []\n",
    "\n",
    "avgKFolds = RepeatedKFold(n_splits=OUTER_FOLDS, n_repeats=N_REPEATS, random_state=1)\n",
    "\n",
    "# outer cross validation is to get the average metrics across random folds in\n",
    "# order to select best model to use\n",
    "for train_index, test_index in avgKFolds.split(X_train_full):\n",
    "  X_train, X_val = X_train_full.iloc[train_index], X_train_full.iloc[test_index]\n",
    "  Y_train, Y_val = Y_train_full.iloc[train_index], Y_train_full.iloc[test_index]\n",
    "   \n",
    "  model = LinearGAM()\n",
    "  model.gridsearch(X_train.to_numpy(), Y_train.iloc[:,1].to_numpy())\n",
    "\n",
    "  predictions = model.predict(X_val)\n",
    "  mae = mean_absolute_error(Y_val.iloc[:,1], predictions)\n",
    "  print(\"mae = \" + str(mae))\n",
    "  rmse = math.sqrt(mean_squared_error(Y_val.iloc[:,1], predictions))\n",
    "  print(\"rmse = \" + str(rmse))\n",
    "  r2 = r2_score(Y_val.iloc[:,1], predictions)\n",
    "  print(\"r2 = \" + str(r2))\n",
    "\n",
    "  allMAEs.append(mae)\n",
    "  allRMSEs.append(rmse)\n",
    "  allR2s.append(r2)"
   ]
  },
  {
   "cell_type": "code",
   "execution_count": 24,
   "id": "af299077",
   "metadata": {},
   "outputs": [],
   "source": [
    "averageMAE = sum(allMAEs)/(OUTER_FOLDS * N_REPEATS)\n",
    "averageRMSE = sum(allRMSEs)/(OUTER_FOLDS * N_REPEATS)\n",
    "averageR2 = sum(allR2s)/(OUTER_FOLDS * N_REPEATS)\n",
    "\n",
    "\n",
    "# Make sure to change this model number for each of the different models. It\n",
    "# just dictates which row in the csv to put the data. \n",
    "model_number = 5\n",
    "\n",
    "full_metrics_df = pd.read_csv(\"All_Model_Metrics.csv\")\n",
    "full_metrics_df.loc[model_number] = [\"LinearGAM Regression Suicides\", averageMAE, averageRMSE, averageR2]\n",
    "full_metrics_df.to_csv('All_Model_Metrics.csv', index=False)"
   ]
  }
 ],
 "metadata": {
  "kernelspec": {
   "display_name": "Python 3",
   "language": "python",
   "name": "python3"
  },
  "language_info": {
   "codemirror_mode": {
    "name": "ipython",
    "version": 3
   },
   "file_extension": ".py",
   "mimetype": "text/x-python",
   "name": "python",
   "nbconvert_exporter": "python",
   "pygments_lexer": "ipython3",
   "version": "3.7.10"
  }
 },
 "nbformat": 4,
 "nbformat_minor": 5
}
