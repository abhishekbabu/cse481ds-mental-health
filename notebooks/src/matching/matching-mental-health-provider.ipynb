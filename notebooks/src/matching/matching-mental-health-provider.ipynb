{
 "cells": [
  {
   "cell_type": "code",
   "execution_count": 1,
   "metadata": {},
   "outputs": [],
   "source": [
    "import pandas as pd\n",
    "import numpy as np\n",
    "import statsmodels.api as sm\n",
    "from sklearn.neighbors import NearestNeighbors\n",
    "import matplotlib.pyplot as plt\n",
    "import seaborn as sns"
   ]
  },
  {
   "cell_type": "markdown",
   "metadata": {},
   "source": [
    "## Load Data and Use Relevant Cols"
   ]
  },
  {
   "cell_type": "code",
   "execution_count": 50,
   "metadata": {},
   "outputs": [
    {
     "data": {
      "text/html": [
       "<div>\n",
       "<style scoped>\n",
       "    .dataframe tbody tr th:only-of-type {\n",
       "        vertical-align: middle;\n",
       "    }\n",
       "\n",
       "    .dataframe tbody tr th {\n",
       "        vertical-align: top;\n",
       "    }\n",
       "\n",
       "    .dataframe thead th {\n",
       "        text-align: right;\n",
       "    }\n",
       "</style>\n",
       "<table border=\"1\" class=\"dataframe\">\n",
       "  <thead>\n",
       "    <tr style=\"text-align: right;\">\n",
       "      <th></th>\n",
       "      <th>State Abbreviation</th>\n",
       "      <th>Name</th>\n",
       "      <th>Release Year</th>\n",
       "      <th>High school graduation raw value</th>\n",
       "      <th>Unemployment raw value</th>\n",
       "      <th>Some college raw value</th>\n",
       "      <th>Ratio of population to mental health providers</th>\n",
       "      <th>Median household income raw value</th>\n",
       "      <th>Average Temperature</th>\n",
       "      <th>Average Precipitation</th>\n",
       "      <th>RUCC</th>\n",
       "      <th>Poor mental health days raw value</th>\n",
       "      <th>Crude Rate</th>\n",
       "      <th>high_school_treated</th>\n",
       "      <th>unemployment_treated</th>\n",
       "      <th>college_treated</th>\n",
       "      <th>mental_health_provider_treated</th>\n",
       "      <th>household_income_treated</th>\n",
       "      <th>temperature_treated</th>\n",
       "      <th>precipitation_treated</th>\n",
       "    </tr>\n",
       "  </thead>\n",
       "  <tbody>\n",
       "    <tr>\n",
       "      <th>0</th>\n",
       "      <td>AL</td>\n",
       "      <td>Autauga County</td>\n",
       "      <td>2011</td>\n",
       "      <td>0.740</td>\n",
       "      <td>0.089</td>\n",
       "      <td>0.554</td>\n",
       "      <td>50354.0</td>\n",
       "      <td>51622.0</td>\n",
       "      <td>64.658333</td>\n",
       "      <td>3.769167</td>\n",
       "      <td>2.0</td>\n",
       "      <td>4.1</td>\n",
       "      <td>21.7</td>\n",
       "      <td>0</td>\n",
       "      <td>0</td>\n",
       "      <td>0</td>\n",
       "      <td>0</td>\n",
       "      <td>1</td>\n",
       "      <td>0</td>\n",
       "      <td>0</td>\n",
       "    </tr>\n",
       "    <tr>\n",
       "      <th>1</th>\n",
       "      <td>AL</td>\n",
       "      <td>Baldwin County</td>\n",
       "      <td>2011</td>\n",
       "      <td>0.681</td>\n",
       "      <td>0.088</td>\n",
       "      <td>0.615</td>\n",
       "      <td>6076.0</td>\n",
       "      <td>51957.0</td>\n",
       "      <td>67.733333</td>\n",
       "      <td>3.720833</td>\n",
       "      <td>3.0</td>\n",
       "      <td>4.1</td>\n",
       "      <td>18.2</td>\n",
       "      <td>0</td>\n",
       "      <td>0</td>\n",
       "      <td>1</td>\n",
       "      <td>0</td>\n",
       "      <td>1</td>\n",
       "      <td>0</td>\n",
       "      <td>0</td>\n",
       "    </tr>\n",
       "    <tr>\n",
       "      <th>2</th>\n",
       "      <td>AL</td>\n",
       "      <td>Calhoun County</td>\n",
       "      <td>2011</td>\n",
       "      <td>0.689</td>\n",
       "      <td>0.101</td>\n",
       "      <td>0.499</td>\n",
       "      <td>9452.0</td>\n",
       "      <td>39997.0</td>\n",
       "      <td>62.325000</td>\n",
       "      <td>4.231667</td>\n",
       "      <td>3.0</td>\n",
       "      <td>4.8</td>\n",
       "      <td>14.4</td>\n",
       "      <td>0</td>\n",
       "      <td>0</td>\n",
       "      <td>0</td>\n",
       "      <td>0</td>\n",
       "      <td>0</td>\n",
       "      <td>0</td>\n",
       "      <td>0</td>\n",
       "    </tr>\n",
       "    <tr>\n",
       "      <th>3</th>\n",
       "      <td>AL</td>\n",
       "      <td>Cullman County</td>\n",
       "      <td>2011</td>\n",
       "      <td>0.684</td>\n",
       "      <td>0.094</td>\n",
       "      <td>0.460</td>\n",
       "      <td>20380.0</td>\n",
       "      <td>39276.0</td>\n",
       "      <td>61.333333</td>\n",
       "      <td>5.382500</td>\n",
       "      <td>4.0</td>\n",
       "      <td>4.8</td>\n",
       "      <td>17.4</td>\n",
       "      <td>0</td>\n",
       "      <td>0</td>\n",
       "      <td>0</td>\n",
       "      <td>0</td>\n",
       "      <td>0</td>\n",
       "      <td>0</td>\n",
       "      <td>0</td>\n",
       "    </tr>\n",
       "    <tr>\n",
       "      <th>4</th>\n",
       "      <td>AL</td>\n",
       "      <td>Etowah County</td>\n",
       "      <td>2011</td>\n",
       "      <td>0.702</td>\n",
       "      <td>0.105</td>\n",
       "      <td>0.561</td>\n",
       "      <td>10344.0</td>\n",
       "      <td>37264.0</td>\n",
       "      <td>62.100000</td>\n",
       "      <td>4.965000</td>\n",
       "      <td>3.0</td>\n",
       "      <td>4.4</td>\n",
       "      <td>24.0</td>\n",
       "      <td>0</td>\n",
       "      <td>0</td>\n",
       "      <td>0</td>\n",
       "      <td>0</td>\n",
       "      <td>0</td>\n",
       "      <td>0</td>\n",
       "      <td>0</td>\n",
       "    </tr>\n",
       "  </tbody>\n",
       "</table>\n",
       "</div>"
      ],
      "text/plain": [
       "  State Abbreviation            Name  Release Year  \\\n",
       "0                 AL  Autauga County          2011   \n",
       "1                 AL  Baldwin County          2011   \n",
       "2                 AL  Calhoun County          2011   \n",
       "3                 AL  Cullman County          2011   \n",
       "4                 AL   Etowah County          2011   \n",
       "\n",
       "   High school graduation raw value  Unemployment raw value  \\\n",
       "0                             0.740                   0.089   \n",
       "1                             0.681                   0.088   \n",
       "2                             0.689                   0.101   \n",
       "3                             0.684                   0.094   \n",
       "4                             0.702                   0.105   \n",
       "\n",
       "   Some college raw value  Ratio of population to mental health providers  \\\n",
       "0                   0.554                                         50354.0   \n",
       "1                   0.615                                          6076.0   \n",
       "2                   0.499                                          9452.0   \n",
       "3                   0.460                                         20380.0   \n",
       "4                   0.561                                         10344.0   \n",
       "\n",
       "   Median household income raw value  Average Temperature  \\\n",
       "0                            51622.0            64.658333   \n",
       "1                            51957.0            67.733333   \n",
       "2                            39997.0            62.325000   \n",
       "3                            39276.0            61.333333   \n",
       "4                            37264.0            62.100000   \n",
       "\n",
       "   Average Precipitation  RUCC  Poor mental health days raw value  Crude Rate  \\\n",
       "0               3.769167   2.0                                4.1        21.7   \n",
       "1               3.720833   3.0                                4.1        18.2   \n",
       "2               4.231667   3.0                                4.8        14.4   \n",
       "3               5.382500   4.0                                4.8        17.4   \n",
       "4               4.965000   3.0                                4.4        24.0   \n",
       "\n",
       "   high_school_treated  unemployment_treated  college_treated  \\\n",
       "0                    0                     0                0   \n",
       "1                    0                     0                1   \n",
       "2                    0                     0                0   \n",
       "3                    0                     0                0   \n",
       "4                    0                     0                0   \n",
       "\n",
       "   mental_health_provider_treated  household_income_treated  \\\n",
       "0                               0                         1   \n",
       "1                               0                         1   \n",
       "2                               0                         0   \n",
       "3                               0                         0   \n",
       "4                               0                         0   \n",
       "\n",
       "   temperature_treated  precipitation_treated  \n",
       "0                    0                      0  \n",
       "1                    0                      0  \n",
       "2                    0                      0  \n",
       "3                    0                      0  \n",
       "4                    0                      0  "
      ]
     },
     "execution_count": 50,
     "metadata": {},
     "output_type": "execute_result"
    }
   ],
   "source": [
    "df = pd.read_csv('../../../data/processed_data/df_matching.csv')\n",
    "df.head()"
   ]
  },
  {
   "cell_type": "markdown",
   "metadata": {},
   "source": [
    "## Step 2: Identify Col needed"
   ]
  },
  {
   "cell_type": "code",
   "execution_count": 3,
   "metadata": {},
   "outputs": [],
   "source": [
    "categorize_treatment = \"mental_health_provider_treated\""
   ]
  },
  {
   "cell_type": "code",
   "execution_count": 4,
   "metadata": {},
   "outputs": [
    {
     "data": {
      "text/html": [
       "<div>\n",
       "<style scoped>\n",
       "    .dataframe tbody tr th:only-of-type {\n",
       "        vertical-align: middle;\n",
       "    }\n",
       "\n",
       "    .dataframe tbody tr th {\n",
       "        vertical-align: top;\n",
       "    }\n",
       "\n",
       "    .dataframe thead th {\n",
       "        text-align: right;\n",
       "    }\n",
       "</style>\n",
       "<table border=\"1\" class=\"dataframe\">\n",
       "  <thead>\n",
       "    <tr style=\"text-align: right;\">\n",
       "      <th></th>\n",
       "      <th>Release Year</th>\n",
       "      <th>High school graduation raw value</th>\n",
       "      <th>Unemployment raw value</th>\n",
       "      <th>Some college raw value</th>\n",
       "      <th>Ratio of population to mental health providers</th>\n",
       "      <th>Median household income raw value</th>\n",
       "      <th>Average Temperature</th>\n",
       "      <th>Average Precipitation</th>\n",
       "      <th>RUCC</th>\n",
       "      <th>Poor mental health days raw value</th>\n",
       "      <th>Crude Rate</th>\n",
       "      <th>high_school_treated</th>\n",
       "      <th>unemployment_treated</th>\n",
       "      <th>college_treated</th>\n",
       "      <th>mental_health_provider_treated</th>\n",
       "      <th>household_income_treated</th>\n",
       "      <th>temperature_treated</th>\n",
       "      <th>precipitation_treated</th>\n",
       "    </tr>\n",
       "  </thead>\n",
       "  <tbody>\n",
       "    <tr>\n",
       "      <th>count</th>\n",
       "      <td>2236.000000</td>\n",
       "      <td>2221.000000</td>\n",
       "      <td>2236.000000</td>\n",
       "      <td>2236.000000</td>\n",
       "      <td>2236.000000</td>\n",
       "      <td>2236.000000</td>\n",
       "      <td>2236.000000</td>\n",
       "      <td>2236.000000</td>\n",
       "      <td>2236.000000</td>\n",
       "      <td>2233.000000</td>\n",
       "      <td>2236.000000</td>\n",
       "      <td>2236.000000</td>\n",
       "      <td>2236.000000</td>\n",
       "      <td>2236.000000</td>\n",
       "      <td>2236.0</td>\n",
       "      <td>2236.000000</td>\n",
       "      <td>2236.000000</td>\n",
       "      <td>2236.000000</td>\n",
       "    </tr>\n",
       "    <tr>\n",
       "      <th>mean</th>\n",
       "      <td>2012.309928</td>\n",
       "      <td>0.798186</td>\n",
       "      <td>0.092344</td>\n",
       "      <td>0.568535</td>\n",
       "      <td>9604.814879</td>\n",
       "      <td>48776.291592</td>\n",
       "      <td>57.263279</td>\n",
       "      <td>3.511704</td>\n",
       "      <td>2.638193</td>\n",
       "      <td>3.605643</td>\n",
       "      <td>17.605859</td>\n",
       "      <td>0.450358</td>\n",
       "      <td>0.321109</td>\n",
       "      <td>0.355993</td>\n",
       "      <td>0.0</td>\n",
       "      <td>0.429785</td>\n",
       "      <td>0.455277</td>\n",
       "      <td>0.483453</td>\n",
       "    </tr>\n",
       "    <tr>\n",
       "      <th>std</th>\n",
       "      <td>1.266364</td>\n",
       "      <td>0.094030</td>\n",
       "      <td>0.027866</td>\n",
       "      <td>0.092043</td>\n",
       "      <td>12012.606967</td>\n",
       "      <td>11358.333614</td>\n",
       "      <td>8.561035</td>\n",
       "      <td>1.425575</td>\n",
       "      <td>1.552986</td>\n",
       "      <td>0.697810</td>\n",
       "      <td>7.514543</td>\n",
       "      <td>0.497641</td>\n",
       "      <td>0.467007</td>\n",
       "      <td>0.478920</td>\n",
       "      <td>0.0</td>\n",
       "      <td>0.495156</td>\n",
       "      <td>0.498107</td>\n",
       "      <td>0.499838</td>\n",
       "    </tr>\n",
       "    <tr>\n",
       "      <th>min</th>\n",
       "      <td>2011.000000</td>\n",
       "      <td>0.266667</td>\n",
       "      <td>0.017000</td>\n",
       "      <td>0.307826</td>\n",
       "      <td>2097.539185</td>\n",
       "      <td>28459.000000</td>\n",
       "      <td>24.250000</td>\n",
       "      <td>0.197500</td>\n",
       "      <td>1.000000</td>\n",
       "      <td>1.800000</td>\n",
       "      <td>4.400000</td>\n",
       "      <td>0.000000</td>\n",
       "      <td>0.000000</td>\n",
       "      <td>0.000000</td>\n",
       "      <td>0.0</td>\n",
       "      <td>0.000000</td>\n",
       "      <td>0.000000</td>\n",
       "      <td>0.000000</td>\n",
       "    </tr>\n",
       "    <tr>\n",
       "      <th>25%</th>\n",
       "      <td>2011.000000</td>\n",
       "      <td>0.740000</td>\n",
       "      <td>0.073000</td>\n",
       "      <td>0.502301</td>\n",
       "      <td>3365.964286</td>\n",
       "      <td>40963.500000</td>\n",
       "      <td>50.641667</td>\n",
       "      <td>2.747708</td>\n",
       "      <td>1.000000</td>\n",
       "      <td>3.100000</td>\n",
       "      <td>12.600000</td>\n",
       "      <td>0.000000</td>\n",
       "      <td>0.000000</td>\n",
       "      <td>0.000000</td>\n",
       "      <td>0.0</td>\n",
       "      <td>0.000000</td>\n",
       "      <td>0.000000</td>\n",
       "      <td>0.000000</td>\n",
       "    </tr>\n",
       "    <tr>\n",
       "      <th>50%</th>\n",
       "      <td>2012.000000</td>\n",
       "      <td>0.809749</td>\n",
       "      <td>0.088000</td>\n",
       "      <td>0.567495</td>\n",
       "      <td>5466.000000</td>\n",
       "      <td>46420.000000</td>\n",
       "      <td>57.187500</td>\n",
       "      <td>3.553333</td>\n",
       "      <td>2.000000</td>\n",
       "      <td>3.500000</td>\n",
       "      <td>16.000000</td>\n",
       "      <td>0.000000</td>\n",
       "      <td>0.000000</td>\n",
       "      <td>0.000000</td>\n",
       "      <td>0.0</td>\n",
       "      <td>0.000000</td>\n",
       "      <td>0.000000</td>\n",
       "      <td>0.000000</td>\n",
       "    </tr>\n",
       "    <tr>\n",
       "      <th>75%</th>\n",
       "      <td>2013.000000</td>\n",
       "      <td>0.866216</td>\n",
       "      <td>0.107000</td>\n",
       "      <td>0.630861</td>\n",
       "      <td>10140.000000</td>\n",
       "      <td>53624.250000</td>\n",
       "      <td>63.252083</td>\n",
       "      <td>4.376042</td>\n",
       "      <td>3.000000</td>\n",
       "      <td>4.000000</td>\n",
       "      <td>20.925000</td>\n",
       "      <td>1.000000</td>\n",
       "      <td>1.000000</td>\n",
       "      <td>1.000000</td>\n",
       "      <td>0.0</td>\n",
       "      <td>1.000000</td>\n",
       "      <td>1.000000</td>\n",
       "      <td>1.000000</td>\n",
       "    </tr>\n",
       "    <tr>\n",
       "      <th>max</th>\n",
       "      <td>2016.000000</td>\n",
       "      <td>1.000000</td>\n",
       "      <td>0.297000</td>\n",
       "      <td>0.875390</td>\n",
       "      <td>106755.000000</td>\n",
       "      <td>119525.000000</td>\n",
       "      <td>77.458333</td>\n",
       "      <td>10.050833</td>\n",
       "      <td>9.000000</td>\n",
       "      <td>7.000000</td>\n",
       "      <td>87.700000</td>\n",
       "      <td>1.000000</td>\n",
       "      <td>1.000000</td>\n",
       "      <td>1.000000</td>\n",
       "      <td>0.0</td>\n",
       "      <td>1.000000</td>\n",
       "      <td>1.000000</td>\n",
       "      <td>1.000000</td>\n",
       "    </tr>\n",
       "  </tbody>\n",
       "</table>\n",
       "</div>"
      ],
      "text/plain": [
       "       Release Year  High school graduation raw value  Unemployment raw value  \\\n",
       "count   2236.000000                       2221.000000             2236.000000   \n",
       "mean    2012.309928                          0.798186                0.092344   \n",
       "std        1.266364                          0.094030                0.027866   \n",
       "min     2011.000000                          0.266667                0.017000   \n",
       "25%     2011.000000                          0.740000                0.073000   \n",
       "50%     2012.000000                          0.809749                0.088000   \n",
       "75%     2013.000000                          0.866216                0.107000   \n",
       "max     2016.000000                          1.000000                0.297000   \n",
       "\n",
       "       Some college raw value  Ratio of population to mental health providers  \\\n",
       "count             2236.000000                                     2236.000000   \n",
       "mean                 0.568535                                     9604.814879   \n",
       "std                  0.092043                                    12012.606967   \n",
       "min                  0.307826                                     2097.539185   \n",
       "25%                  0.502301                                     3365.964286   \n",
       "50%                  0.567495                                     5466.000000   \n",
       "75%                  0.630861                                    10140.000000   \n",
       "max                  0.875390                                   106755.000000   \n",
       "\n",
       "       Median household income raw value  Average Temperature  \\\n",
       "count                        2236.000000          2236.000000   \n",
       "mean                        48776.291592            57.263279   \n",
       "std                         11358.333614             8.561035   \n",
       "min                         28459.000000            24.250000   \n",
       "25%                         40963.500000            50.641667   \n",
       "50%                         46420.000000            57.187500   \n",
       "75%                         53624.250000            63.252083   \n",
       "max                        119525.000000            77.458333   \n",
       "\n",
       "       Average Precipitation         RUCC  Poor mental health days raw value  \\\n",
       "count            2236.000000  2236.000000                        2233.000000   \n",
       "mean                3.511704     2.638193                           3.605643   \n",
       "std                 1.425575     1.552986                           0.697810   \n",
       "min                 0.197500     1.000000                           1.800000   \n",
       "25%                 2.747708     1.000000                           3.100000   \n",
       "50%                 3.553333     2.000000                           3.500000   \n",
       "75%                 4.376042     3.000000                           4.000000   \n",
       "max                10.050833     9.000000                           7.000000   \n",
       "\n",
       "        Crude Rate  high_school_treated  unemployment_treated  \\\n",
       "count  2236.000000          2236.000000           2236.000000   \n",
       "mean     17.605859             0.450358              0.321109   \n",
       "std       7.514543             0.497641              0.467007   \n",
       "min       4.400000             0.000000              0.000000   \n",
       "25%      12.600000             0.000000              0.000000   \n",
       "50%      16.000000             0.000000              0.000000   \n",
       "75%      20.925000             1.000000              1.000000   \n",
       "max      87.700000             1.000000              1.000000   \n",
       "\n",
       "       college_treated  mental_health_provider_treated  \\\n",
       "count      2236.000000                          2236.0   \n",
       "mean          0.355993                             0.0   \n",
       "std           0.478920                             0.0   \n",
       "min           0.000000                             0.0   \n",
       "25%           0.000000                             0.0   \n",
       "50%           0.000000                             0.0   \n",
       "75%           1.000000                             0.0   \n",
       "max           1.000000                             0.0   \n",
       "\n",
       "       household_income_treated  temperature_treated  precipitation_treated  \n",
       "count               2236.000000          2236.000000            2236.000000  \n",
       "mean                   0.429785             0.455277               0.483453  \n",
       "std                    0.495156             0.498107               0.499838  \n",
       "min                    0.000000             0.000000               0.000000  \n",
       "25%                    0.000000             0.000000               0.000000  \n",
       "50%                    0.000000             0.000000               0.000000  \n",
       "75%                    1.000000             1.000000               1.000000  \n",
       "max                    1.000000             1.000000               1.000000  "
      ]
     },
     "execution_count": 4,
     "metadata": {},
     "output_type": "execute_result"
    }
   ],
   "source": [
    "df[df[categorize_treatment]==0].describe()"
   ]
  },
  {
   "cell_type": "code",
   "execution_count": 5,
   "metadata": {
    "scrolled": true
   },
   "outputs": [
    {
     "data": {
      "text/html": [
       "<div>\n",
       "<style scoped>\n",
       "    .dataframe tbody tr th:only-of-type {\n",
       "        vertical-align: middle;\n",
       "    }\n",
       "\n",
       "    .dataframe tbody tr th {\n",
       "        vertical-align: top;\n",
       "    }\n",
       "\n",
       "    .dataframe thead th {\n",
       "        text-align: right;\n",
       "    }\n",
       "</style>\n",
       "<table border=\"1\" class=\"dataframe\">\n",
       "  <thead>\n",
       "    <tr style=\"text-align: right;\">\n",
       "      <th></th>\n",
       "      <th>Release Year</th>\n",
       "      <th>High school graduation raw value</th>\n",
       "      <th>Unemployment raw value</th>\n",
       "      <th>Some college raw value</th>\n",
       "      <th>Ratio of population to mental health providers</th>\n",
       "      <th>Median household income raw value</th>\n",
       "      <th>Average Temperature</th>\n",
       "      <th>Average Precipitation</th>\n",
       "      <th>RUCC</th>\n",
       "      <th>Poor mental health days raw value</th>\n",
       "      <th>Crude Rate</th>\n",
       "      <th>high_school_treated</th>\n",
       "      <th>unemployment_treated</th>\n",
       "      <th>college_treated</th>\n",
       "      <th>mental_health_provider_treated</th>\n",
       "      <th>household_income_treated</th>\n",
       "      <th>temperature_treated</th>\n",
       "      <th>precipitation_treated</th>\n",
       "    </tr>\n",
       "  </thead>\n",
       "  <tbody>\n",
       "    <tr>\n",
       "      <th>count</th>\n",
       "      <td>2235.000000</td>\n",
       "      <td>2229.000000</td>\n",
       "      <td>2235.000000</td>\n",
       "      <td>2235.000000</td>\n",
       "      <td>2235.000000</td>\n",
       "      <td>2235.000000</td>\n",
       "      <td>2235.000000</td>\n",
       "      <td>2235.000000</td>\n",
       "      <td>2235.000000</td>\n",
       "      <td>2229.000000</td>\n",
       "      <td>2235.000000</td>\n",
       "      <td>2235.000000</td>\n",
       "      <td>2235.000000</td>\n",
       "      <td>2235.000000</td>\n",
       "      <td>2235.0</td>\n",
       "      <td>2235.00000</td>\n",
       "      <td>2235.000000</td>\n",
       "      <td>2235.000000</td>\n",
       "    </tr>\n",
       "    <tr>\n",
       "      <th>mean</th>\n",
       "      <td>2014.682774</td>\n",
       "      <td>0.819476</td>\n",
       "      <td>0.070684</td>\n",
       "      <td>0.636315</td>\n",
       "      <td>916.326583</td>\n",
       "      <td>53838.988814</td>\n",
       "      <td>55.681081</td>\n",
       "      <td>3.541911</td>\n",
       "      <td>2.407606</td>\n",
       "      <td>3.542485</td>\n",
       "      <td>16.618479</td>\n",
       "      <td>0.557047</td>\n",
       "      <td>0.678747</td>\n",
       "      <td>0.644295</td>\n",
       "      <td>1.0</td>\n",
       "      <td>0.57047</td>\n",
       "      <td>0.544519</td>\n",
       "      <td>0.516331</td>\n",
       "    </tr>\n",
       "    <tr>\n",
       "      <th>std</th>\n",
       "      <td>1.594822</td>\n",
       "      <td>0.086969</td>\n",
       "      <td>0.020860</td>\n",
       "      <td>0.094072</td>\n",
       "      <td>498.090964</td>\n",
       "      <td>14180.002449</td>\n",
       "      <td>7.700777</td>\n",
       "      <td>1.348432</td>\n",
       "      <td>1.493895</td>\n",
       "      <td>0.614679</td>\n",
       "      <td>7.566820</td>\n",
       "      <td>0.496846</td>\n",
       "      <td>0.467062</td>\n",
       "      <td>0.478833</td>\n",
       "      <td>0.0</td>\n",
       "      <td>0.49512</td>\n",
       "      <td>0.498126</td>\n",
       "      <td>0.499845</td>\n",
       "    </tr>\n",
       "    <tr>\n",
       "      <th>min</th>\n",
       "      <td>2011.000000</td>\n",
       "      <td>0.185000</td>\n",
       "      <td>0.024063</td>\n",
       "      <td>0.348608</td>\n",
       "      <td>73.229508</td>\n",
       "      <td>27268.000000</td>\n",
       "      <td>29.575000</td>\n",
       "      <td>0.184167</td>\n",
       "      <td>1.000000</td>\n",
       "      <td>1.800000</td>\n",
       "      <td>4.300000</td>\n",
       "      <td>0.000000</td>\n",
       "      <td>0.000000</td>\n",
       "      <td>0.000000</td>\n",
       "      <td>1.0</td>\n",
       "      <td>0.00000</td>\n",
       "      <td>0.000000</td>\n",
       "      <td>0.000000</td>\n",
       "    </tr>\n",
       "    <tr>\n",
       "      <th>25%</th>\n",
       "      <td>2015.000000</td>\n",
       "      <td>0.770000</td>\n",
       "      <td>0.056537</td>\n",
       "      <td>0.571529</td>\n",
       "      <td>502.973436</td>\n",
       "      <td>43614.500000</td>\n",
       "      <td>50.129167</td>\n",
       "      <td>2.905833</td>\n",
       "      <td>1.000000</td>\n",
       "      <td>3.100000</td>\n",
       "      <td>11.500000</td>\n",
       "      <td>0.000000</td>\n",
       "      <td>0.000000</td>\n",
       "      <td>0.000000</td>\n",
       "      <td>1.0</td>\n",
       "      <td>0.00000</td>\n",
       "      <td>0.000000</td>\n",
       "      <td>0.000000</td>\n",
       "    </tr>\n",
       "    <tr>\n",
       "      <th>50%</th>\n",
       "      <td>2015.000000</td>\n",
       "      <td>0.832821</td>\n",
       "      <td>0.068691</td>\n",
       "      <td>0.637000</td>\n",
       "      <td>814.007968</td>\n",
       "      <td>50834.000000</td>\n",
       "      <td>54.708333</td>\n",
       "      <td>3.475833</td>\n",
       "      <td>2.000000</td>\n",
       "      <td>3.500000</td>\n",
       "      <td>15.200000</td>\n",
       "      <td>1.000000</td>\n",
       "      <td>1.000000</td>\n",
       "      <td>1.000000</td>\n",
       "      <td>1.0</td>\n",
       "      <td>1.00000</td>\n",
       "      <td>1.000000</td>\n",
       "      <td>1.000000</td>\n",
       "    </tr>\n",
       "    <tr>\n",
       "      <th>75%</th>\n",
       "      <td>2016.000000</td>\n",
       "      <td>0.883367</td>\n",
       "      <td>0.081911</td>\n",
       "      <td>0.701823</td>\n",
       "      <td>1273.359572</td>\n",
       "      <td>60128.500000</td>\n",
       "      <td>61.066667</td>\n",
       "      <td>4.293750</td>\n",
       "      <td>3.000000</td>\n",
       "      <td>3.900000</td>\n",
       "      <td>20.000000</td>\n",
       "      <td>1.000000</td>\n",
       "      <td>1.000000</td>\n",
       "      <td>1.000000</td>\n",
       "      <td>1.0</td>\n",
       "      <td>1.00000</td>\n",
       "      <td>1.000000</td>\n",
       "      <td>1.000000</td>\n",
       "    </tr>\n",
       "    <tr>\n",
       "      <th>max</th>\n",
       "      <td>2016.000000</td>\n",
       "      <td>1.000000</td>\n",
       "      <td>0.244888</td>\n",
       "      <td>0.883019</td>\n",
       "      <td>2095.000000</td>\n",
       "      <td>122641.000000</td>\n",
       "      <td>78.566667</td>\n",
       "      <td>10.926667</td>\n",
       "      <td>9.000000</td>\n",
       "      <td>6.900000</td>\n",
       "      <td>98.500000</td>\n",
       "      <td>1.000000</td>\n",
       "      <td>1.000000</td>\n",
       "      <td>1.000000</td>\n",
       "      <td>1.0</td>\n",
       "      <td>1.00000</td>\n",
       "      <td>1.000000</td>\n",
       "      <td>1.000000</td>\n",
       "    </tr>\n",
       "  </tbody>\n",
       "</table>\n",
       "</div>"
      ],
      "text/plain": [
       "       Release Year  High school graduation raw value  Unemployment raw value  \\\n",
       "count   2235.000000                       2229.000000             2235.000000   \n",
       "mean    2014.682774                          0.819476                0.070684   \n",
       "std        1.594822                          0.086969                0.020860   \n",
       "min     2011.000000                          0.185000                0.024063   \n",
       "25%     2015.000000                          0.770000                0.056537   \n",
       "50%     2015.000000                          0.832821                0.068691   \n",
       "75%     2016.000000                          0.883367                0.081911   \n",
       "max     2016.000000                          1.000000                0.244888   \n",
       "\n",
       "       Some college raw value  Ratio of population to mental health providers  \\\n",
       "count             2235.000000                                     2235.000000   \n",
       "mean                 0.636315                                      916.326583   \n",
       "std                  0.094072                                      498.090964   \n",
       "min                  0.348608                                       73.229508   \n",
       "25%                  0.571529                                      502.973436   \n",
       "50%                  0.637000                                      814.007968   \n",
       "75%                  0.701823                                     1273.359572   \n",
       "max                  0.883019                                     2095.000000   \n",
       "\n",
       "       Median household income raw value  Average Temperature  \\\n",
       "count                        2235.000000          2235.000000   \n",
       "mean                        53838.988814            55.681081   \n",
       "std                         14180.002449             7.700777   \n",
       "min                         27268.000000            29.575000   \n",
       "25%                         43614.500000            50.129167   \n",
       "50%                         50834.000000            54.708333   \n",
       "75%                         60128.500000            61.066667   \n",
       "max                        122641.000000            78.566667   \n",
       "\n",
       "       Average Precipitation         RUCC  Poor mental health days raw value  \\\n",
       "count            2235.000000  2235.000000                        2229.000000   \n",
       "mean                3.541911     2.407606                           3.542485   \n",
       "std                 1.348432     1.493895                           0.614679   \n",
       "min                 0.184167     1.000000                           1.800000   \n",
       "25%                 2.905833     1.000000                           3.100000   \n",
       "50%                 3.475833     2.000000                           3.500000   \n",
       "75%                 4.293750     3.000000                           3.900000   \n",
       "max                10.926667     9.000000                           6.900000   \n",
       "\n",
       "        Crude Rate  high_school_treated  unemployment_treated  \\\n",
       "count  2235.000000          2235.000000           2235.000000   \n",
       "mean     16.618479             0.557047              0.678747   \n",
       "std       7.566820             0.496846              0.467062   \n",
       "min       4.300000             0.000000              0.000000   \n",
       "25%      11.500000             0.000000              0.000000   \n",
       "50%      15.200000             1.000000              1.000000   \n",
       "75%      20.000000             1.000000              1.000000   \n",
       "max      98.500000             1.000000              1.000000   \n",
       "\n",
       "       college_treated  mental_health_provider_treated  \\\n",
       "count      2235.000000                          2235.0   \n",
       "mean          0.644295                             1.0   \n",
       "std           0.478833                             0.0   \n",
       "min           0.000000                             1.0   \n",
       "25%           0.000000                             1.0   \n",
       "50%           1.000000                             1.0   \n",
       "75%           1.000000                             1.0   \n",
       "max           1.000000                             1.0   \n",
       "\n",
       "       household_income_treated  temperature_treated  precipitation_treated  \n",
       "count                2235.00000          2235.000000            2235.000000  \n",
       "mean                    0.57047             0.544519               0.516331  \n",
       "std                     0.49512             0.498126               0.499845  \n",
       "min                     0.00000             0.000000               0.000000  \n",
       "25%                     0.00000             0.000000               0.000000  \n",
       "50%                     1.00000             1.000000               1.000000  \n",
       "75%                     1.00000             1.000000               1.000000  \n",
       "max                     1.00000             1.000000               1.000000  "
      ]
     },
     "execution_count": 5,
     "metadata": {},
     "output_type": "execute_result"
    }
   ],
   "source": [
    "df[df[categorize_treatment]==1].describe()"
   ]
  },
  {
   "cell_type": "code",
   "execution_count": 37,
   "metadata": {
    "scrolled": true
   },
   "outputs": [
    {
     "data": {
      "text/plain": [
       "<AxesSubplot:xlabel='Ratio of population to mental health providers', ylabel='Poor mental health days raw value'>"
      ]
     },
     "execution_count": 37,
     "metadata": {},
     "output_type": "execute_result"
    },
    {
     "data": {
      "image/png": "[encoded data removed]",
      "text/plain": [
       "<Figure size 432x288 with 1 Axes>"
      ]
     },
     "metadata": {
      "needs_background": "light"
     },
     "output_type": "display_data"
    }
   ],
   "source": [
    "sns.scatterplot(data=df, x=\"Ratio of population to mental health providers\", y=\"Poor mental health days raw value\")"
   ]
  },
  {
   "cell_type": "code",
   "execution_count": 46,
   "metadata": {},
   "outputs": [
    {
     "name": "stdout",
     "output_type": "stream",
     "text": [
      "Cutoff: 12443.8653201975\n"
     ]
    },
    {
     "data": {
      "text/plain": [
       "count      4471.000000\n",
       "mean       5261.542380\n",
       "std        9547.357392\n",
       "min          73.229508\n",
       "25%         814.089787\n",
       "50%        2097.539185\n",
       "75%        5466.000000\n",
       "max      106755.000000\n",
       "Name: Ratio of population to mental health providers, dtype: float64"
      ]
     },
     "execution_count": 46,
     "metadata": {},
     "output_type": "execute_result"
    }
   ],
   "source": [
    "provider_sum = df[\"Ratio of population to mental health providers\"].describe()\n",
    "iqr = provider_sum[\"75%\"] - provider_sum[\"25%\"]\n",
    "outlier_cutoff = provider_sum[\"75%\"] + iqr*1.5\n",
    "print(f\"Cutoff: {outlier_cutoff}\")\n",
    "provider_sum"
   ]
  },
  {
   "cell_type": "markdown",
   "metadata": {},
   "source": [
    "Look at correlation coefficient between mental health provider and poor mental health days for counties below cutoff"
   ]
  },
  {
   "cell_type": "code",
   "execution_count": 51,
   "metadata": {},
   "outputs": [
    {
     "data": {
      "text/plain": [
       "(4471, 20)"
      ]
     },
     "execution_count": 51,
     "metadata": {},
     "output_type": "execute_result"
    }
   ],
   "source": [
    "df.shape # shape before drop"
   ]
  },
  {
   "cell_type": "code",
   "execution_count": 52,
   "metadata": {},
   "outputs": [
    {
     "data": {
      "text/plain": [
       "(4026, 20)"
      ]
     },
     "execution_count": 52,
     "metadata": {},
     "output_type": "execute_result"
    }
   ],
   "source": [
    "no_outlier = (df[\"Ratio of population to mental health providers\"] <= outlier_cutoff)\n",
    "df = df[no_outlier]\n",
    "df.shape # still decent"
   ]
  },
  {
   "cell_type": "code",
   "execution_count": 53,
   "metadata": {},
   "outputs": [
    {
     "data": {
      "text/html": [
       "<div>\n",
       "<style scoped>\n",
       "    .dataframe tbody tr th:only-of-type {\n",
       "        vertical-align: middle;\n",
       "    }\n",
       "\n",
       "    .dataframe tbody tr th {\n",
       "        vertical-align: top;\n",
       "    }\n",
       "\n",
       "    .dataframe thead th {\n",
       "        text-align: right;\n",
       "    }\n",
       "</style>\n",
       "<table border=\"1\" class=\"dataframe\">\n",
       "  <thead>\n",
       "    <tr style=\"text-align: right;\">\n",
       "      <th></th>\n",
       "      <th>Ratio of population to mental health providers</th>\n",
       "      <th>Poor mental health days raw value</th>\n",
       "    </tr>\n",
       "  </thead>\n",
       "  <tbody>\n",
       "    <tr>\n",
       "      <th>Ratio of population to mental health providers</th>\n",
       "      <td>1.000000</td>\n",
       "      <td>0.042688</td>\n",
       "    </tr>\n",
       "    <tr>\n",
       "      <th>Poor mental health days raw value</th>\n",
       "      <td>0.042688</td>\n",
       "      <td>1.000000</td>\n",
       "    </tr>\n",
       "  </tbody>\n",
       "</table>\n",
       "</div>"
      ],
      "text/plain": [
       "                                                Ratio of population to mental health providers  \\\n",
       "Ratio of population to mental health providers                                        1.000000   \n",
       "Poor mental health days raw value                                                     0.042688   \n",
       "\n",
       "                                                Poor mental health days raw value  \n",
       "Ratio of population to mental health providers                           0.042688  \n",
       "Poor mental health days raw value                                        1.000000  "
      ]
     },
     "execution_count": 53,
     "metadata": {},
     "output_type": "execute_result"
    }
   ],
   "source": [
    "# Compute correlation coefficient again: even lower \n",
    "df[[\"Ratio of population to mental health providers\", \"Poor mental health days raw value\"]].corr()"
   ]
  },
  {
   "cell_type": "code",
   "execution_count": 54,
   "metadata": {},
   "outputs": [
    {
     "data": {
      "text/plain": [
       "<AxesSubplot:xlabel='Ratio of population to mental health providers', ylabel='Poor mental health days raw value'>"
      ]
     },
     "execution_count": 54,
     "metadata": {},
     "output_type": "execute_result"
    },
    {
     "data": {
      "image/png": "[encoded data removed]",
      "text/plain": [
       "<Figure size 432x288 with 1 Axes>"
      ]
     },
     "metadata": {
      "needs_background": "light"
     },
     "output_type": "display_data"
    }
   ],
   "source": [
    "sns.scatterplot(data=df, x=\"Ratio of population to mental health providers\", y=\"Poor mental health days raw value\")"
   ]
  },
  {
   "cell_type": "markdown",
   "metadata": {},
   "source": [
    "### Use median instead? Still bad!"
   ]
  },
  {
   "cell_type": "code",
   "execution_count": 57,
   "metadata": {},
   "outputs": [
    {
     "name": "stdout",
     "output_type": "stream",
     "text": [
      "                                                Ratio of population to mental health providers  \\\n",
      "Ratio of population to mental health providers                                        1.000000   \n",
      "Poor mental health days raw value                                                    -0.071005   \n",
      "\n",
      "                                                Poor mental health days raw value  \n",
      "Ratio of population to mental health providers                          -0.071005  \n",
      "Poor mental health days raw value                                        1.000000  \n"
     ]
    },
    {
     "data": {
      "text/plain": [
       "<AxesSubplot:xlabel='Ratio of population to mental health providers', ylabel='Poor mental health days raw value'>"
      ]
     },
     "execution_count": 57,
     "metadata": {},
     "output_type": "execute_result"
    },
    {
     "data": {
      "image/png": "[encoded data removed]",
      "text/plain": [
       "<Figure size 432x288 with 1 Axes>"
      ]
     },
     "metadata": {
      "needs_background": "light"
     },
     "output_type": "display_data"
    }
   ],
   "source": [
    "below_median = (df[\"Ratio of population to mental health providers\"] <= provider_sum[\"50%\"])\n",
    "print(df.loc[below_median, [\"Ratio of population to mental health providers\", \"Poor mental health days raw value\"]].corr())\n",
    "sns.scatterplot(data=df[below_median], x=\"Ratio of population to mental health providers\", y=\"Poor mental health days raw value\")"
   ]
  },
  {
   "cell_type": "code",
   "execution_count": 6,
   "metadata": {},
   "outputs": [
    {
     "data": {
      "text/plain": [
       "<AxesSubplot:xlabel='High school graduation raw value', ylabel='Count'>"
      ]
     },
     "execution_count": 6,
     "metadata": {},
     "output_type": "execute_result"
    },
    {
     "data": {
      "image/png": "[encoded data removed]",
      "text/plain": [
       "<Figure size 432x288 with 1 Axes>"
      ]
     },
     "metadata": {
      "needs_background": "light"
     },
     "output_type": "display_data"
    }
   ],
   "source": [
    "sns.histplot(data=df, x=\"High school graduation raw value\", hue=categorize_treatment, kde=True)"
   ]
  },
  {
   "cell_type": "code",
   "execution_count": 7,
   "metadata": {},
   "outputs": [
    {
     "data": {
      "text/plain": [
       "<AxesSubplot:xlabel='Some college raw value', ylabel='Count'>"
      ]
     },
     "execution_count": 7,
     "metadata": {},
     "output_type": "execute_result"
    },
    {
     "data": {
      "image/png": "[encoded data removed]",
      "text/plain": [
       "<Figure size 432x288 with 1 Axes>"
      ]
     },
     "metadata": {
      "needs_background": "light"
     },
     "output_type": "display_data"
    }
   ],
   "source": [
    "sns.histplot(data=df, x=\"Some college raw value\", hue=categorize_treatment, kde=True)"
   ]
  },
  {
   "cell_type": "code",
   "execution_count": 8,
   "metadata": {},
   "outputs": [
    {
     "data": {
      "text/plain": [
       "<AxesSubplot:xlabel='Unemployment raw value', ylabel='Count'>"
      ]
     },
     "execution_count": 8,
     "metadata": {},
     "output_type": "execute_result"
    },
    {
     "data": {
      "image/png": "[encoded data removed]",
      "text/plain": [
       "<Figure size 432x288 with 1 Axes>"
      ]
     },
     "metadata": {
      "needs_background": "light"
     },
     "output_type": "display_data"
    }
   ],
   "source": [
    "sns.histplot(data=df, x=\"Unemployment raw value\", hue=categorize_treatment, kde=True)"
   ]
  },
  {
   "cell_type": "code",
   "execution_count": 9,
   "metadata": {},
   "outputs": [
    {
     "data": {
      "text/plain": [
       "<AxesSubplot:xlabel='Median household income raw value', ylabel='Count'>"
      ]
     },
     "execution_count": 9,
     "metadata": {},
     "output_type": "execute_result"
    },
    {
     "data": {
      "image/png": "[encoded data removed]",
      "text/plain": [
       "<Figure size 432x288 with 1 Axes>"
      ]
     },
     "metadata": {
      "needs_background": "light"
     },
     "output_type": "display_data"
    }
   ],
   "source": [
    "sns.histplot(data=df, x=\"Median household income raw value\", hue=categorize_treatment, kde=True)"
   ]
  },
  {
   "cell_type": "code",
   "execution_count": 10,
   "metadata": {},
   "outputs": [
    {
     "data": {
      "text/plain": [
       "<AxesSubplot:xlabel='Poor mental health days raw value', ylabel='Count'>"
      ]
     },
     "execution_count": 10,
     "metadata": {},
     "output_type": "execute_result"
    },
    {
     "data": {
      "image/png": "[encoded data removed]",
      "text/plain": [
       "<Figure size 432x288 with 1 Axes>"
      ]
     },
     "metadata": {
      "needs_background": "light"
     },
     "output_type": "display_data"
    }
   ],
   "source": [
    "sns.histplot(data=df, x=\"Poor mental health days raw value\", hue=categorize_treatment, kde=True)"
   ]
  },
  {
   "cell_type": "code",
   "execution_count": 11,
   "metadata": {},
   "outputs": [
    {
     "data": {
      "text/plain": [
       "<AxesSubplot:xlabel='Crude Rate', ylabel='Count'>"
      ]
     },
     "execution_count": 11,
     "metadata": {},
     "output_type": "execute_result"
    },
    {
     "data": {
      "image/png": "[encoded data removed]",
      "text/plain": [
       "<Figure size 432x288 with 1 Axes>"
      ]
     },
     "metadata": {
      "needs_background": "light"
     },
     "output_type": "display_data"
    }
   ],
   "source": [
    "sns.histplot(data=df, x=\"Crude Rate\", hue=categorize_treatment, kde=True)"
   ]
  },
  {
   "cell_type": "code",
   "execution_count": 12,
   "metadata": {},
   "outputs": [
    {
     "data": {
      "text/plain": [
       "0    2236\n",
       "1    2235\n",
       "Name: mental_health_provider_treated, dtype: int64"
      ]
     },
     "execution_count": 12,
     "metadata": {},
     "output_type": "execute_result"
    }
   ],
   "source": [
    "df[categorize_treatment].value_counts()"
   ]
  },
  {
   "cell_type": "markdown",
   "metadata": {},
   "source": [
    "# Unadjusted ATE"
   ]
  },
  {
   "cell_type": "code",
   "execution_count": 13,
   "metadata": {},
   "outputs": [
    {
     "name": "stdout",
     "output_type": "stream",
     "text": [
      "Higher unemployment = 3.606\n",
      "Lower unemployment = 3.542\n",
      "Difference in Sample Averages = -0.063\n"
     ]
    }
   ],
   "source": [
    "# Unadjusted ATE - Poor mental health days\n",
    "poor_mental_treated = df[df[categorize_treatment]== 1]['Poor mental health days raw value'].mean()\n",
    "poor_mental_untreated = df[df[categorize_treatment]== 0]['Poor mental health days raw value'].mean()\n",
    "print(\"Higher unemployment = {:0.3f}\".format(poor_mental_untreated))\n",
    "print(\"Lower unemployment = {:0.3f}\".format(poor_mental_treated))\n",
    "print('Difference in Sample Averages = {:0.3f}'.format(poor_mental_treated - poor_mental_untreated))"
   ]
  },
  {
   "cell_type": "code",
   "execution_count": 14,
   "metadata": {},
   "outputs": [
    {
     "name": "stdout",
     "output_type": "stream",
     "text": [
      "Higher unemployment = 17.606\n",
      "Lower unemployment = 16.618\n",
      "Difference in Sample Averages = -0.987\n"
     ]
    }
   ],
   "source": [
    "# Unadjusted ATE - Suicide rate\n",
    "poor_mental_treated = df[df[categorize_treatment]== 1]['Crude Rate'].mean()\n",
    "poor_mental_untreated = df[df[categorize_treatment]== 0]['Crude Rate'].mean()\n",
    "print(\"Higher unemployment = {:0.3f}\".format(poor_mental_untreated))\n",
    "print(\"Lower unemployment = {:0.3f}\".format(poor_mental_treated))\n",
    "print('Difference in Sample Averages = {:0.3f}'.format(poor_mental_treated - poor_mental_untreated))"
   ]
  },
  {
   "cell_type": "code",
   "execution_count": 15,
   "metadata": {},
   "outputs": [],
   "source": [
    "def OLS_estimate(outcome, covariates):\n",
    "    covariates = sm.add_constant(covariates) # adding a constant \n",
    "    model = sm.OLS(outcome, covariates)\n",
    "    result = model.fit()\n",
    "    print(result.summary())"
   ]
  },
  {
   "cell_type": "code",
   "execution_count": 16,
   "metadata": {},
   "outputs": [
    {
     "name": "stdout",
     "output_type": "stream",
     "text": [
      "                                    OLS Regression Results                                   \n",
      "=============================================================================================\n",
      "Dep. Variable:     Poor mental health days raw value   R-squared:                         nan\n",
      "Model:                                           OLS   Adj. R-squared:                    nan\n",
      "Method:                                Least Squares   F-statistic:                       nan\n",
      "Date:                               Fri, 03 Dec 2021   Prob (F-statistic):                nan\n",
      "Time:                                       10:57:27   Log-Likelihood:                    nan\n",
      "No. Observations:                               4471   AIC:                               nan\n",
      "Df Residuals:                                   4469   BIC:                               nan\n",
      "Df Model:                                          1                                         \n",
      "Covariance Type:                           nonrobust                                         \n",
      "==================================================================================================\n",
      "                                     coef    std err          t      P>|t|      [0.025      0.975]\n",
      "--------------------------------------------------------------------------------------------------\n",
      "const                                 nan        nan        nan        nan         nan         nan\n",
      "mental_health_provider_treated        nan        nan        nan        nan         nan         nan\n",
      "==============================================================================\n",
      "Omnibus:                          nan   Durbin-Watson:                     nan\n",
      "Prob(Omnibus):                    nan   Jarque-Bera (JB):                  nan\n",
      "Skew:                             nan   Prob(JB):                          nan\n",
      "Kurtosis:                         nan   Cond. No.                         2.62\n",
      "==============================================================================\n",
      "\n",
      "Notes:\n",
      "[1] Standard Errors assume that the covariance matrix of the errors is correctly specified.\n"
     ]
    }
   ],
   "source": [
    "OLS_estimate(df['Poor mental health days raw value'], df[categorize_treatment])"
   ]
  },
  {
   "cell_type": "markdown",
   "metadata": {},
   "source": [
    "### 1. Remove null poor mental health days"
   ]
  },
  {
   "cell_type": "code",
   "execution_count": 18,
   "metadata": {},
   "outputs": [],
   "source": [
    "# Store rows without null values\n",
    "df_mental = df[~null_vals]"
   ]
  },
  {
   "cell_type": "code",
   "execution_count": 19,
   "metadata": {},
   "outputs": [
    {
     "name": "stdout",
     "output_type": "stream",
     "text": [
      "                                    OLS Regression Results                                   \n",
      "=============================================================================================\n",
      "Dep. Variable:     Poor mental health days raw value   R-squared:                       0.002\n",
      "Model:                                           OLS   Adj. R-squared:                  0.002\n",
      "Method:                                Least Squares   F-statistic:                     10.29\n",
      "Date:                               Fri, 03 Dec 2021   Prob (F-statistic):            0.00135\n",
      "Time:                                       10:57:32   Log-Likelihood:                -4460.0\n",
      "No. Observations:                               4462   AIC:                             8924.\n",
      "Df Residuals:                                   4460   BIC:                             8937.\n",
      "Df Model:                                          1                                         \n",
      "Covariance Type:                           nonrobust                                         \n",
      "==================================================================================================\n",
      "                                     coef    std err          t      P>|t|      [0.025      0.975]\n",
      "--------------------------------------------------------------------------------------------------\n",
      "const                              3.6056      0.014    259.100      0.000       3.578       3.633\n",
      "mental_health_provider_treated    -0.0632      0.020     -3.208      0.001      -0.102      -0.025\n",
      "==============================================================================\n",
      "Omnibus:                      334.422   Durbin-Watson:                   1.449\n",
      "Prob(Omnibus):                  0.000   Jarque-Bera (JB):              516.384\n",
      "Skew:                           0.592   Prob(JB):                    7.39e-113\n",
      "Kurtosis:                       4.174   Cond. No.                         2.62\n",
      "==============================================================================\n",
      "\n",
      "Notes:\n",
      "[1] Standard Errors assume that the covariance matrix of the errors is correctly specified.\n"
     ]
    }
   ],
   "source": [
    "# Try again\n",
    "OLS_estimate(df_mental['Poor mental health days raw value'], df_mental[categorize_treatment])"
   ]
  },
  {
   "cell_type": "code",
   "execution_count": 20,
   "metadata": {},
   "outputs": [
    {
     "name": "stdout",
     "output_type": "stream",
     "text": [
      "                            OLS Regression Results                            \n",
      "==============================================================================\n",
      "Dep. Variable:             Crude Rate   R-squared:                       0.004\n",
      "Model:                            OLS   Adj. R-squared:                  0.004\n",
      "Method:                 Least Squares   F-statistic:                     19.16\n",
      "Date:                Fri, 03 Dec 2021   Prob (F-statistic):           1.23e-05\n",
      "Time:                        10:57:41   Log-Likelihood:                -15376.\n",
      "No. Observations:                4471   AIC:                         3.076e+04\n",
      "Df Residuals:                    4469   BIC:                         3.077e+04\n",
      "Df Model:                           1                                         \n",
      "Covariance Type:            nonrobust                                         \n",
      "==================================================================================================\n",
      "                                     coef    std err          t      P>|t|      [0.025      0.975]\n",
      "--------------------------------------------------------------------------------------------------\n",
      "const                             17.6059      0.159    110.403      0.000      17.293      17.918\n",
      "mental_health_provider_treated    -0.9874      0.226     -4.378      0.000      -1.430      -0.545\n",
      "==============================================================================\n",
      "Omnibus:                     2024.867   Durbin-Watson:                   1.541\n",
      "Prob(Omnibus):                  0.000   Jarque-Bera (JB):            17475.603\n",
      "Skew:                           1.955   Prob(JB):                         0.00\n",
      "Kurtosis:                      11.861   Cond. No.                         2.62\n",
      "==============================================================================\n",
      "\n",
      "Notes:\n",
      "[1] Standard Errors assume that the covariance matrix of the errors is correctly specified.\n"
     ]
    }
   ],
   "source": [
    "OLS_estimate(df['Crude Rate'], df[categorize_treatment])"
   ]
  },
  {
   "cell_type": "code",
   "execution_count": 21,
   "metadata": {},
   "outputs": [
    {
     "name": "stderr",
     "output_type": "stream",
     "text": [
      "C:\\Users\\alnli\\AppData\\Local\\Temp/ipykernel_9624/729638201.py:1: FutureWarning: Indexing with multiple keys (implicitly converted to a tuple of keys) will be deprecated, use a list instead.\n",
      "  df.groupby(categorize_treatment)['Crude Rate', 'Poor mental health days raw value', 'High school graduation raw value', 'Unemployment raw value', 'Some college raw value', 'Ratio of population to mental health providers', 'Median household income raw value', 'Average Precipitation', 'RUCC'].agg(['mean'])\n"
     ]
    },
    {
     "data": {
      "text/html": [
       "<div>\n",
       "<style scoped>\n",
       "    .dataframe tbody tr th:only-of-type {\n",
       "        vertical-align: middle;\n",
       "    }\n",
       "\n",
       "    .dataframe tbody tr th {\n",
       "        vertical-align: top;\n",
       "    }\n",
       "\n",
       "    .dataframe thead tr th {\n",
       "        text-align: left;\n",
       "    }\n",
       "\n",
       "    .dataframe thead tr:last-of-type th {\n",
       "        text-align: right;\n",
       "    }\n",
       "</style>\n",
       "<table border=\"1\" class=\"dataframe\">\n",
       "  <thead>\n",
       "    <tr>\n",
       "      <th></th>\n",
       "      <th>Crude Rate</th>\n",
       "      <th>Poor mental health days raw value</th>\n",
       "      <th>High school graduation raw value</th>\n",
       "      <th>Unemployment raw value</th>\n",
       "      <th>Some college raw value</th>\n",
       "      <th>Ratio of population to mental health providers</th>\n",
       "      <th>Median household income raw value</th>\n",
       "      <th>Average Precipitation</th>\n",
       "      <th>RUCC</th>\n",
       "    </tr>\n",
       "    <tr>\n",
       "      <th></th>\n",
       "      <th>mean</th>\n",
       "      <th>mean</th>\n",
       "      <th>mean</th>\n",
       "      <th>mean</th>\n",
       "      <th>mean</th>\n",
       "      <th>mean</th>\n",
       "      <th>mean</th>\n",
       "      <th>mean</th>\n",
       "      <th>mean</th>\n",
       "    </tr>\n",
       "    <tr>\n",
       "      <th>mental_health_provider_treated</th>\n",
       "      <th></th>\n",
       "      <th></th>\n",
       "      <th></th>\n",
       "      <th></th>\n",
       "      <th></th>\n",
       "      <th></th>\n",
       "      <th></th>\n",
       "      <th></th>\n",
       "      <th></th>\n",
       "    </tr>\n",
       "  </thead>\n",
       "  <tbody>\n",
       "    <tr>\n",
       "      <th>0</th>\n",
       "      <td>17.605859</td>\n",
       "      <td>3.605643</td>\n",
       "      <td>0.798186</td>\n",
       "      <td>0.092344</td>\n",
       "      <td>0.568535</td>\n",
       "      <td>9604.814879</td>\n",
       "      <td>48776.291592</td>\n",
       "      <td>3.511704</td>\n",
       "      <td>2.638193</td>\n",
       "    </tr>\n",
       "    <tr>\n",
       "      <th>1</th>\n",
       "      <td>16.618479</td>\n",
       "      <td>3.542485</td>\n",
       "      <td>0.819476</td>\n",
       "      <td>0.070684</td>\n",
       "      <td>0.636315</td>\n",
       "      <td>916.326583</td>\n",
       "      <td>53838.988814</td>\n",
       "      <td>3.541911</td>\n",
       "      <td>2.407606</td>\n",
       "    </tr>\n",
       "  </tbody>\n",
       "</table>\n",
       "</div>"
      ],
      "text/plain": [
       "                               Crude Rate Poor mental health days raw value  \\\n",
       "                                     mean                              mean   \n",
       "mental_health_provider_treated                                                \n",
       "0                               17.605859                          3.605643   \n",
       "1                               16.618479                          3.542485   \n",
       "\n",
       "                               High school graduation raw value  \\\n",
       "                                                           mean   \n",
       "mental_health_provider_treated                                    \n",
       "0                                                      0.798186   \n",
       "1                                                      0.819476   \n",
       "\n",
       "                               Unemployment raw value Some college raw value  \\\n",
       "                                                 mean                   mean   \n",
       "mental_health_provider_treated                                                 \n",
       "0                                            0.092344               0.568535   \n",
       "1                                            0.070684               0.636315   \n",
       "\n",
       "                               Ratio of population to mental health providers  \\\n",
       "                                                                         mean   \n",
       "mental_health_provider_treated                                                  \n",
       "0                                                                 9604.814879   \n",
       "1                                                                  916.326583   \n",
       "\n",
       "                               Median household income raw value  \\\n",
       "                                                            mean   \n",
       "mental_health_provider_treated                                     \n",
       "0                                                   48776.291592   \n",
       "1                                                   53838.988814   \n",
       "\n",
       "                               Average Precipitation      RUCC  \n",
       "                                                mean      mean  \n",
       "mental_health_provider_treated                                  \n",
       "0                                           3.511704  2.638193  \n",
       "1                                           3.541911  2.407606  "
      ]
     },
     "execution_count": 21,
     "metadata": {},
     "output_type": "execute_result"
    }
   ],
   "source": [
    "df.groupby(categorize_treatment)['Crude Rate', 'Poor mental health days raw value', 'High school graduation raw value', 'Unemployment raw value', 'Some college raw value', 'Ratio of population to mental health providers', 'Median household income raw value', 'Average Precipitation', 'RUCC'].agg(['mean'])"
   ]
  },
  {
   "cell_type": "markdown",
   "metadata": {},
   "source": [
    "Counties with lower unemployment rate have higher high school and college rates, more mental health providers, higher income, lower precipitation, more urban, lower poor mental health days, and lower rate of suicide."
   ]
  },
  {
   "cell_type": "markdown",
   "metadata": {},
   "source": [
    "# Linear Regressions\n",
    "Should we still use unemployment? It seems like a really insignificant factor."
   ]
  },
  {
   "cell_type": "code",
   "execution_count": 23,
   "metadata": {},
   "outputs": [
    {
     "name": "stdout",
     "output_type": "stream",
     "text": [
      "                                    OLS Regression Results                                   \n",
      "=============================================================================================\n",
      "Dep. Variable:     Poor mental health days raw value   R-squared:                       0.254\n",
      "Model:                                           OLS   Adj. R-squared:                  0.253\n",
      "Method:                                Least Squares   F-statistic:                     505.6\n",
      "Date:                               Fri, 03 Dec 2021   Prob (F-statistic):          8.92e-283\n",
      "Time:                                       10:59:58   Log-Likelihood:                -3811.8\n",
      "No. Observations:                               4462   AIC:                             7632.\n",
      "Df Residuals:                                   4458   BIC:                             7657.\n",
      "Df Model:                                          3                                         \n",
      "Covariance Type:                           nonrobust                                         \n",
      "==================================================================================================\n",
      "                                     coef    std err          t      P>|t|      [0.025      0.975]\n",
      "--------------------------------------------------------------------------------------------------\n",
      "const                              5.2980      0.075     70.759      0.000       5.151       5.445\n",
      "mental_health_provider_treated     0.2079      0.019     10.934      0.000       0.171       0.245\n",
      "Unemployment raw value             2.1209      0.367      5.777      0.000       1.401       2.841\n",
      "Some college raw value            -3.3207      0.097    -34.171      0.000      -3.511      -3.130\n",
      "==============================================================================\n",
      "Omnibus:                      327.342   Durbin-Watson:                   1.599\n",
      "Prob(Omnibus):                  0.000   Jarque-Bera (JB):              610.428\n",
      "Skew:                           0.521   Prob(JB):                    2.80e-133\n",
      "Kurtosis:                       4.482   Cond. No.                         56.6\n",
      "==============================================================================\n",
      "\n",
      "Notes:\n",
      "[1] Standard Errors assume that the covariance matrix of the errors is correctly specified.\n"
     ]
    }
   ],
   "source": [
    "# Specification\n",
    "outcome = df_mental['Poor mental health days raw value']\n",
    "# Unemployment only: R^2 is pretty bad, but not sure how college is correlated with number of providers?\n",
    "covariates = df_mental[[categorize_treatment, 'Unemployment raw value', 'Some college raw value']]\n",
    "OLS_estimate(outcome, covariates)"
   ]
  },
  {
   "cell_type": "markdown",
   "metadata": {},
   "source": [
    "## Propensity Score Matching"
   ]
  },
  {
   "cell_type": "code",
   "execution_count": 24,
   "metadata": {},
   "outputs": [
    {
     "name": "stdout",
     "output_type": "stream",
     "text": [
      "Optimization terminated successfully.\n",
      "         Current function value: 0.578092\n",
      "         Iterations 6\n"
     ]
    },
    {
     "name": "stderr",
     "output_type": "stream",
     "text": [
      "C:\\Users\\alnli\\AppData\\Local\\Temp/ipykernel_9624/3343233173.py:4: SettingWithCopyWarning: \n",
      "A value is trying to be set on a copy of a slice from a DataFrame.\n",
      "Try using .loc[row_indexer,col_indexer] = value instead\n",
      "\n",
      "See the caveats in the documentation: https://pandas.pydata.org/pandas-docs/stable/user_guide/indexing.html#returning-a-view-versus-a-copy\n",
      "  data['pscore'] = result.predict(covariates)\n"
     ]
    },
    {
     "data": {
      "image/png": "[encoded data removed]",
      "text/plain": [
       "<Figure size 432x288 with 1 Axes>"
      ]
     },
     "metadata": {
      "needs_background": "light"
     },
     "output_type": "display_data"
    }
   ],
   "source": [
    "def gen_pscore(data, outcome, covariates):\n",
    "    model = sm.Logit(outcome, covariates)\n",
    "    result = model.fit()\n",
    "    data['pscore'] = result.predict(covariates)\n",
    "    data.groupby([categorize_treatment]).pscore.plot(kind='hist', bins=20, alpha=0.8, legend=True)\n",
    "\n",
    "gen_pscore(df_mental, df_mental[categorize_treatment], df_mental[['Unemployment raw value', 'Some college raw value']] )"
   ]
  },
  {
   "cell_type": "code",
   "execution_count": 25,
   "metadata": {},
   "outputs": [
    {
     "data": {
      "text/html": [
       "<div>\n",
       "<style scoped>\n",
       "    .dataframe tbody tr th:only-of-type {\n",
       "        vertical-align: middle;\n",
       "    }\n",
       "\n",
       "    .dataframe tbody tr th {\n",
       "        vertical-align: top;\n",
       "    }\n",
       "\n",
       "    .dataframe thead th {\n",
       "        text-align: right;\n",
       "    }\n",
       "</style>\n",
       "<table border=\"1\" class=\"dataframe\">\n",
       "  <thead>\n",
       "    <tr style=\"text-align: right;\">\n",
       "      <th></th>\n",
       "      <th>count</th>\n",
       "      <th>mean</th>\n",
       "      <th>std</th>\n",
       "      <th>min</th>\n",
       "      <th>25%</th>\n",
       "      <th>50%</th>\n",
       "      <th>75%</th>\n",
       "      <th>max</th>\n",
       "    </tr>\n",
       "    <tr>\n",
       "      <th>mental_health_provider_treated</th>\n",
       "      <th></th>\n",
       "      <th></th>\n",
       "      <th></th>\n",
       "      <th></th>\n",
       "      <th></th>\n",
       "      <th></th>\n",
       "      <th></th>\n",
       "      <th></th>\n",
       "    </tr>\n",
       "  </thead>\n",
       "  <tbody>\n",
       "    <tr>\n",
       "      <th>0</th>\n",
       "      <td>2227.0</td>\n",
       "      <td>0.395052</td>\n",
       "      <td>0.209980</td>\n",
       "      <td>0.005073</td>\n",
       "      <td>0.223327</td>\n",
       "      <td>0.386806</td>\n",
       "      <td>0.544742</td>\n",
       "      <td>0.934685</td>\n",
       "    </tr>\n",
       "    <tr>\n",
       "      <th>1</th>\n",
       "      <td>2219.0</td>\n",
       "      <td>0.605156</td>\n",
       "      <td>0.192007</td>\n",
       "      <td>0.002086</td>\n",
       "      <td>0.480039</td>\n",
       "      <td>0.630265</td>\n",
       "      <td>0.753766</td>\n",
       "      <td>0.931904</td>\n",
       "    </tr>\n",
       "  </tbody>\n",
       "</table>\n",
       "</div>"
      ],
      "text/plain": [
       "                                 count      mean       std       min  \\\n",
       "mental_health_provider_treated                                         \n",
       "0                               2227.0  0.395052  0.209980  0.005073   \n",
       "1                               2219.0  0.605156  0.192007  0.002086   \n",
       "\n",
       "                                     25%       50%       75%       max  \n",
       "mental_health_provider_treated                                          \n",
       "0                               0.223327  0.386806  0.544742  0.934685  \n",
       "1                               0.480039  0.630265  0.753766  0.931904  "
      ]
     },
     "execution_count": 25,
     "metadata": {},
     "output_type": "execute_result"
    }
   ],
   "source": [
    "def trim(data):\n",
    "    control_data = data[data[categorize_treatment] == 0]\n",
    "    treat_data = data[data[categorize_treatment] == 1]\n",
    "\n",
    "    min_control, min_treat = control_data.pscore.min(), treat_data.pscore.min()\n",
    "    max_control, max_treat = control_data.pscore.max(), treat_data.pscore.max()\n",
    "\n",
    "    min_support = max(min_control, min_treat)\n",
    "    max_support = min(max_control, max_treat)\n",
    "\n",
    "    trim_data = data.loc[((data.pscore >= min_support) & (data.pscore <= max_support)),:]\n",
    "\n",
    "    return trim_data\n",
    "\n",
    "trim_df = trim(df_mental)\n",
    "trim_df.groupby([categorize_treatment]).pscore.describe()"
   ]
  },
  {
   "cell_type": "markdown",
   "metadata": {},
   "source": [
    "### Perform nearest-neighbor matching"
   ]
  },
  {
   "cell_type": "code",
   "execution_count": 26,
   "metadata": {},
   "outputs": [
    {
     "name": "stdout",
     "output_type": "stream",
     "text": [
      "ATE from Nearest Neighbors Matching = 0.258\n"
     ]
    }
   ],
   "source": [
    "def Nearest_Neighbor_Pair(treated_df, non_treated_df):\n",
    "    treated_x = treated_df['pscore'].values\n",
    "    non_treated_x = non_treated_df['pscore'].values\n",
    "\n",
    "    nbrs = NearestNeighbors(n_neighbors=1).fit(np.expand_dims(non_treated_x, axis= 1))\n",
    "    distances, indices = nbrs.kneighbors(np.expand_dims(treated_x, axis= 1))\n",
    "    indices = indices.reshape(indices.shape[0])\n",
    "    matched = non_treated_df.iloc[indices]\n",
    "    return matched\n",
    "\n",
    "treated = trim_df[trim_df[categorize_treatment] == 1]\n",
    "non_treated = trim_df[trim_df[categorize_treatment] == 0]\n",
    "matched_df = Nearest_Neighbor_Pair(treated, non_treated)\n",
    "ATE = np.mean(treated['Poor mental health days raw value'].values - matched_df['Poor mental health days raw value'].values)\n",
    "print('ATE from Nearest Neighbors Matching = {}'.format(round(ATE, 3)))"
   ]
  },
  {
   "cell_type": "markdown",
   "metadata": {},
   "source": [
    "### Assess Balance"
   ]
  },
  {
   "cell_type": "code",
   "execution_count": 27,
   "metadata": {},
   "outputs": [],
   "source": [
    "def compute_smd(covariates_table: pd.DataFrame, covariates: list, round_digits: int=4) -> pd.DataFrame:\n",
    "    covariates_smds = []\n",
    "    for var in covariates:\n",
    "        covariates_values = covariates_table[var].values\n",
    "        neg_mean = covariates_values[0, 0]\n",
    "        neg_std = covariates_values[0, 1]\n",
    "        pos_mean = covariates_values[1, 0]\n",
    "        pos_std = covariates_values[1, 1]\n",
    "\n",
    "        smd = (pos_mean - neg_mean) / np.sqrt((pos_std ** 2 + neg_std ** 2) / 2)\n",
    "        smd = round(abs(smd), round_digits)\n",
    "        covariates_smds.append(smd)\n",
    "\n",
    "    return pd.DataFrame({'features': covariates, 'smd': covariates_smds})"
   ]
  },
  {
   "cell_type": "code",
   "execution_count": 29,
   "metadata": {},
   "outputs": [
    {
     "data": {
      "text/html": [
       "<div>\n",
       "<style scoped>\n",
       "    .dataframe tbody tr th:only-of-type {\n",
       "        vertical-align: middle;\n",
       "    }\n",
       "\n",
       "    .dataframe tbody tr th {\n",
       "        vertical-align: top;\n",
       "    }\n",
       "\n",
       "    .dataframe thead tr th {\n",
       "        text-align: left;\n",
       "    }\n",
       "\n",
       "    .dataframe thead tr:last-of-type th {\n",
       "        text-align: right;\n",
       "    }\n",
       "</style>\n",
       "<table border=\"1\" class=\"dataframe\">\n",
       "  <thead>\n",
       "    <tr>\n",
       "      <th></th>\n",
       "      <th>mental_health_provider_treated</th>\n",
       "      <th colspan=\"2\" halign=\"left\">Unemployment raw value</th>\n",
       "      <th colspan=\"2\" halign=\"left\">Some college raw value</th>\n",
       "    </tr>\n",
       "    <tr>\n",
       "      <th></th>\n",
       "      <th>count</th>\n",
       "      <th>mean</th>\n",
       "      <th>std</th>\n",
       "      <th>mean</th>\n",
       "      <th>std</th>\n",
       "    </tr>\n",
       "    <tr>\n",
       "      <th>mental_health_provider_treated</th>\n",
       "      <th></th>\n",
       "      <th></th>\n",
       "      <th></th>\n",
       "      <th></th>\n",
       "      <th></th>\n",
       "    </tr>\n",
       "  </thead>\n",
       "  <tbody>\n",
       "    <tr>\n",
       "      <th>0</th>\n",
       "      <td>2219</td>\n",
       "      <td>0.070977</td>\n",
       "      <td>0.020084</td>\n",
       "      <td>0.636399</td>\n",
       "      <td>0.098604</td>\n",
       "    </tr>\n",
       "    <tr>\n",
       "      <th>1</th>\n",
       "      <td>2219</td>\n",
       "      <td>0.070880</td>\n",
       "      <td>0.020758</td>\n",
       "      <td>0.635493</td>\n",
       "      <td>0.093179</td>\n",
       "    </tr>\n",
       "  </tbody>\n",
       "</table>\n",
       "</div>"
      ],
      "text/plain": [
       "                               mental_health_provider_treated  \\\n",
       "                                                        count   \n",
       "mental_health_provider_treated                                  \n",
       "0                                                        2219   \n",
       "1                                                        2219   \n",
       "\n",
       "                               Unemployment raw value            \\\n",
       "                                                 mean       std   \n",
       "mental_health_provider_treated                                    \n",
       "0                                            0.070977  0.020084   \n",
       "1                                            0.070880  0.020758   \n",
       "\n",
       "                               Some college raw value            \n",
       "                                                 mean       std  \n",
       "mental_health_provider_treated                                   \n",
       "0                                            0.636399  0.098604  \n",
       "1                                            0.635493  0.093179  "
      ]
     },
     "execution_count": 29,
     "metadata": {},
     "output_type": "execute_result"
    }
   ],
   "source": [
    "covariates_list = ['Unemployment raw value', 'Some college raw value']\n",
    "agg_operations = {categorize_treatment: 'count'}\n",
    "agg_operations.update({\n",
    "    covariate: ['mean', 'std'] for covariate in covariates_list\n",
    "})\n",
    "\n",
    "# Combine treated and matched_df\n",
    "covariates_table = pd.concat([treated, matched_df]).groupby(categorize_treatment).agg(agg_operations)\n",
    "covariates_table.head()"
   ]
  },
  {
   "cell_type": "code",
   "execution_count": 30,
   "metadata": {},
   "outputs": [
    {
     "name": "stdout",
     "output_type": "stream",
     "text": [
      "                 features     smd\n",
      "0  Unemployment raw value  0.0048\n",
      "1  Some college raw value  0.0094\n"
     ]
    }
   ],
   "source": [
    "# standardize mean difference, <= 0.25\n",
    "covariates_smd = compute_smd(covariates_table, covariates_list)\n",
    "print(covariates_smd)"
   ]
  },
  {
   "cell_type": "markdown",
   "metadata": {},
   "source": [
    "### stratification matching"
   ]
  },
  {
   "cell_type": "code",
   "execution_count": 31,
   "metadata": {},
   "outputs": [
    {
     "name": "stdout",
     "output_type": "stream",
     "text": [
      "The stratification matching estimate is 0.243\n"
     ]
    },
    {
     "name": "stderr",
     "output_type": "stream",
     "text": [
      "C:\\Users\\alnli\\AppData\\Local\\Temp/ipykernel_9624/3729324588.py:4: SettingWithCopyWarning: \n",
      "A value is trying to be set on a copy of a slice from a DataFrame.\n",
      "Try using .loc[row_indexer,col_indexer] = value instead\n",
      "\n",
      "See the caveats in the documentation: https://pandas.pydata.org/pandas-docs/stable/user_guide/indexing.html#returning-a-view-versus-a-copy\n",
      "  data['strata'] = pd.cut(data['pscore'], bins = mybins, labels = mylabels)\n"
     ]
    }
   ],
   "source": [
    "def stratified_matching(data):\n",
    "    mybins = np.arange(0.0, 1.1, 0.1)\n",
    "    mylabels = np.arange(1, 11)\n",
    "    data['strata'] = pd.cut(data['pscore'], bins = mybins, labels = mylabels)\n",
    "\n",
    "    # calculate the weights for each strata\n",
    "    strata_w = data[data[categorize_treatment] == 1].groupby('strata').size()/data[data[categorize_treatment] == 1].groupby('strata').size().sum()\n",
    "\n",
    "    # calculate the ATT for each strata\n",
    "    strata_ate = data[data[categorize_treatment] == 1].groupby('strata')['Poor mental health days raw value'].mean() - data[data[categorize_treatment] == 0].groupby('strata')['Poor mental health days raw value'].mean()\n",
    "\n",
    "    # stratefied matching estimate \n",
    "    stratefied_ate = (strata_w * strata_ate).sum()  \n",
    "    print(\"The stratification matching estimate is {}\".format(round(stratefied_ate, 3)))\n",
    "    return strata_w, strata_ate\n",
    "  \n",
    "strata_w, strata_ate = stratified_matching(trim_df)"
   ]
  },
  {
   "cell_type": "code",
   "execution_count": 32,
   "metadata": {},
   "outputs": [
    {
     "data": {
      "text/plain": [
       "strata\n",
       "1     0.010365\n",
       "2     0.022983\n",
       "3     0.042361\n",
       "4     0.078864\n",
       "5     0.130239\n",
       "6     0.150518\n",
       "7     0.205498\n",
       "8     0.198288\n",
       "9     0.137449\n",
       "10    0.023434\n",
       "dtype: float64"
      ]
     },
     "execution_count": 32,
     "metadata": {},
     "output_type": "execute_result"
    }
   ],
   "source": [
    "strata_w"
   ]
  },
  {
   "cell_type": "code",
   "execution_count": 33,
   "metadata": {},
   "outputs": [
    {
     "data": {
      "text/plain": [
       "(4446, 22)"
      ]
     },
     "execution_count": 33,
     "metadata": {},
     "output_type": "execute_result"
    }
   ],
   "source": [
    "trim_df.shape"
   ]
  },
  {
   "cell_type": "markdown",
   "metadata": {},
   "source": [
    "Compute smd for strata 4~8"
   ]
  },
  {
   "cell_type": "code",
   "execution_count": 34,
   "metadata": {},
   "outputs": [
    {
     "data": {
      "text/html": [
       "<div>\n",
       "<style scoped>\n",
       "    .dataframe tbody tr th:only-of-type {\n",
       "        vertical-align: middle;\n",
       "    }\n",
       "\n",
       "    .dataframe tbody tr th {\n",
       "        vertical-align: top;\n",
       "    }\n",
       "\n",
       "    .dataframe thead tr th {\n",
       "        text-align: left;\n",
       "    }\n",
       "\n",
       "    .dataframe thead tr:last-of-type th {\n",
       "        text-align: right;\n",
       "    }\n",
       "</style>\n",
       "<table border=\"1\" class=\"dataframe\">\n",
       "  <thead>\n",
       "    <tr>\n",
       "      <th></th>\n",
       "      <th>mental_health_provider_treated</th>\n",
       "      <th colspan=\"2\" halign=\"left\">Unemployment raw value</th>\n",
       "      <th colspan=\"2\" halign=\"left\">Some college raw value</th>\n",
       "    </tr>\n",
       "    <tr>\n",
       "      <th></th>\n",
       "      <th>count</th>\n",
       "      <th>mean</th>\n",
       "      <th>std</th>\n",
       "      <th>mean</th>\n",
       "      <th>std</th>\n",
       "    </tr>\n",
       "    <tr>\n",
       "      <th>mental_health_provider_treated</th>\n",
       "      <th></th>\n",
       "      <th></th>\n",
       "      <th></th>\n",
       "      <th></th>\n",
       "      <th></th>\n",
       "    </tr>\n",
       "  </thead>\n",
       "  <tbody>\n",
       "    <tr>\n",
       "      <th>0</th>\n",
       "      <td>1394</td>\n",
       "      <td>0.078423</td>\n",
       "      <td>0.014095</td>\n",
       "      <td>0.595195</td>\n",
       "      <td>0.080671</td>\n",
       "    </tr>\n",
       "    <tr>\n",
       "      <th>1</th>\n",
       "      <td>1694</td>\n",
       "      <td>0.071527</td>\n",
       "      <td>0.014067</td>\n",
       "      <td>0.623320</td>\n",
       "      <td>0.077354</td>\n",
       "    </tr>\n",
       "  </tbody>\n",
       "</table>\n",
       "</div>"
      ],
      "text/plain": [
       "                               mental_health_provider_treated  \\\n",
       "                                                        count   \n",
       "mental_health_provider_treated                                  \n",
       "0                                                        1394   \n",
       "1                                                        1694   \n",
       "\n",
       "                               Unemployment raw value            \\\n",
       "                                                 mean       std   \n",
       "mental_health_provider_treated                                    \n",
       "0                                            0.078423  0.014095   \n",
       "1                                            0.071527  0.014067   \n",
       "\n",
       "                               Some college raw value            \n",
       "                                                 mean       std  \n",
       "mental_health_provider_treated                                   \n",
       "0                                            0.595195  0.080671  \n",
       "1                                            0.623320  0.077354  "
      ]
     },
     "execution_count": 34,
     "metadata": {},
     "output_type": "execute_result"
    }
   ],
   "source": [
    "# Combine treated and matched_df\n",
    "positions = (trim_df['strata'] >= 4) & (trim_df['strata'] <= 8)\n",
    "covariates_table = (trim_df[positions]).groupby(categorize_treatment).agg(agg_operations)\n",
    "covariates_table.head()"
   ]
  },
  {
   "cell_type": "code",
   "execution_count": 35,
   "metadata": {},
   "outputs": [
    {
     "name": "stdout",
     "output_type": "stream",
     "text": [
      "                 features     smd\n",
      "0  Unemployment raw value  0.4898\n",
      "1  Some college raw value  0.3559\n"
     ]
    }
   ],
   "source": [
    "# standardize mean difference, <= 0.25\n",
    "covariates_smd = compute_smd(covariates_table, covariates_list)\n",
    "print(covariates_smd)"
   ]
  },
  {
   "cell_type": "markdown",
   "metadata": {},
   "source": [
    "### Inverse Probability Weighted Matching (IPW)"
   ]
  },
  {
   "cell_type": "code",
   "execution_count": 36,
   "metadata": {},
   "outputs": [
    {
     "data": {
      "text/plain": [
       "1.451"
      ]
     },
     "execution_count": 36,
     "metadata": {},
     "output_type": "execute_result"
    }
   ],
   "source": [
    "def IPW_estimator(data, T, Y, P):\n",
    "  ITT = (data[T] * data[Y])/data[P] - ((1 - data[T])* data[Y])/(1 - data[P])\n",
    "  IPWE = ITT.mean()\n",
    "  return IPWE \n",
    "\n",
    "round(IPW_estimator(trim_df, categorize_treatment, 'Poor mental health days raw value' , 'pscore'), 3)"
   ]
  },
  {
   "cell_type": "markdown",
   "metadata": {},
   "source": [
    "### Conclusion: Cannot use Unemployment"
   ]
  }
 ],
 "metadata": {
  "interpreter": {
   "hash": "40d14adc38efa394e6a94aa5c0d3d4b5710ac6618335b369162bf1f3045144b1"
  },
  "kernelspec": {
   "display_name": "venv",
   "language": "python",
   "name": "venv"
  },
  "language_info": {
   "codemirror_mode": {
    "name": "ipython",
    "version": 3
   },
   "file_extension": ".py",
   "mimetype": "text/x-python",
   "name": "python",
   "nbconvert_exporter": "python",
   "pygments_lexer": "ipython3",
   "version": "3.8.5"
  }
 },
 "nbformat": 4,
 "nbformat_minor": 2
}
