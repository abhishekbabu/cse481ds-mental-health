{
 "cells": [
  {
   "cell_type": "code",
   "execution_count": 1,
   "metadata": {},
   "outputs": [],
   "source": [
    "from pyspark.sql import *\n",
    "import pyspark.sql.functions as F"
   ]
  },
  {
   "cell_type": "code",
   "execution_count": 2,
   "metadata": {},
   "outputs": [],
   "source": [
    "# DOES NOT WORK WITH JAVA 16: set JAVA_HOME to the path of your jdk home (< 16) if the next block has runtime errors\n",
    "import os\n",
    "os.environ['JAVA_HOME'] = '/Library/Java/JavaVirtualMachines/jdk-15.0.2.jdk/Contents/Home'"
   ]
  },
  {
   "cell_type": "code",
   "execution_count": 3,
   "metadata": {},
   "outputs": [
    {
     "name": "stderr",
     "output_type": "stream",
     "text": [
      "WARNING: An illegal reflective access operation has occurred\n",
      "WARNING: Illegal reflective access by org.apache.spark.unsafe.Platform (file:/Users/abhi/cse481ds-mental-health/venv/lib/python3.8/site-packages/pyspark/jars/spark-unsafe_2.12-3.2.0.jar) to constructor java.nio.DirectByteBuffer(long,int)\n",
      "WARNING: Please consider reporting this to the maintainers of org.apache.spark.unsafe.Platform\n",
      "WARNING: Use --illegal-access=warn to enable warnings of further illegal reflective access operations\n",
      "WARNING: All illegal access operations will be denied in a future release\n",
      "Using Spark's default log4j profile: org/apache/spark/log4j-defaults.properties\n",
      "Setting default log level to \"WARN\".\n",
      "To adjust logging level use sc.setLogLevel(newLevel). For SparkR, use setLogLevel(newLevel).\n",
      "21/10/23 22:50:26 WARN NativeCodeLoader: Unable to load native-hadoop library for your platform... using builtin-java classes where applicable\n"
     ]
    }
   ],
   "source": [
    "spark = SparkSession.builder.getOrCreate()\n",
    "sc = spark.sparkContext"
   ]
  },
  {
   "cell_type": "code",
   "execution_count": 4,
   "metadata": {},
   "outputs": [
    {
     "data": {
      "text/html": [
       "\n",
       "            <div>\n",
       "                <p><b>SparkSession - in-memory</b></p>\n",
       "                \n",
       "        <div>\n",
       "            <p><b>SparkContext</b></p>\n",
       "\n",
       "            <p><a href=\"http://192.168.0.52:4040\">Spark UI</a></p>\n",
       "\n",
       "            <dl>\n",
       "              <dt>Version</dt>\n",
       "                <dd><code>v3.2.0</code></dd>\n",
       "              <dt>Master</dt>\n",
       "                <dd><code>local[*]</code></dd>\n",
       "              <dt>AppName</dt>\n",
       "                <dd><code>pyspark-shell</code></dd>\n",
       "            </dl>\n",
       "        </div>\n",
       "        \n",
       "            </div>\n",
       "        "
      ],
      "text/plain": [
       "<pyspark.sql.session.SparkSession at 0x117822460>"
      ]
     },
     "execution_count": 4,
     "metadata": {},
     "output_type": "execute_result"
    }
   ],
   "source": [
    "spark # print details about Spark runtime"
   ]
  },
  {
   "cell_type": "code",
   "execution_count": 5,
   "metadata": {},
   "outputs": [
    {
     "name": "stderr",
     "output_type": "stream",
     "text": []
    },
    {
     "name": "stdout",
     "output_type": "stream",
     "text": [
      "+-------+----+------+-----------+-----------+----------+-----------------+------------+------------+------------------+------------------+---------------+\n",
      "|country|year|   sex|        age|suicides_no|population|suicides/100k pop|country-year|HDI for year| gdp_for_year ($) |gdp_per_capita ($)|     generation|\n",
      "+-------+----+------+-----------+-----------+----------+-----------------+------------+------------+------------------+------------------+---------------+\n",
      "|Albania|1987|  male|15-24 years|         21|    312900|             6.71| Albania1987|        null|     2,156,624,900|               796|   Generation X|\n",
      "|Albania|1987|  male|35-54 years|         16|    308000|             5.19| Albania1987|        null|     2,156,624,900|               796|         Silent|\n",
      "|Albania|1987|female|15-24 years|         14|    289700|             4.83| Albania1987|        null|     2,156,624,900|               796|   Generation X|\n",
      "|Albania|1987|  male|  75+ years|          1|     21800|             4.59| Albania1987|        null|     2,156,624,900|               796|G.I. Generation|\n",
      "|Albania|1987|  male|25-34 years|          9|    274300|             3.28| Albania1987|        null|     2,156,624,900|               796|        Boomers|\n",
      "|Albania|1987|female|  75+ years|          1|     35600|             2.81| Albania1987|        null|     2,156,624,900|               796|G.I. Generation|\n",
      "|Albania|1987|female|35-54 years|          6|    278800|             2.15| Albania1987|        null|     2,156,624,900|               796|         Silent|\n",
      "|Albania|1987|female|25-34 years|          4|    257200|             1.56| Albania1987|        null|     2,156,624,900|               796|        Boomers|\n",
      "|Albania|1987|  male|55-74 years|          1|    137500|             0.73| Albania1987|        null|     2,156,624,900|               796|G.I. Generation|\n",
      "|Albania|1987|female| 5-14 years|          0|    311000|              0.0| Albania1987|        null|     2,156,624,900|               796|   Generation X|\n",
      "|Albania|1987|female|55-74 years|          0|    144600|              0.0| Albania1987|        null|     2,156,624,900|               796|G.I. Generation|\n",
      "|Albania|1987|  male| 5-14 years|          0|    338200|              0.0| Albania1987|        null|     2,156,624,900|               796|   Generation X|\n",
      "|Albania|1988|female|  75+ years|          2|     36400|             5.49| Albania1988|        null|     2,126,000,000|               769|G.I. Generation|\n",
      "|Albania|1988|  male|15-24 years|         17|    319200|             5.33| Albania1988|        null|     2,126,000,000|               769|   Generation X|\n",
      "|Albania|1988|  male|  75+ years|          1|     22300|             4.48| Albania1988|        null|     2,126,000,000|               769|G.I. Generation|\n",
      "|Albania|1988|  male|35-54 years|         14|    314100|             4.46| Albania1988|        null|     2,126,000,000|               769|         Silent|\n",
      "|Albania|1988|  male|55-74 years|          4|    140200|             2.85| Albania1988|        null|     2,126,000,000|               769|G.I. Generation|\n",
      "|Albania|1988|female|15-24 years|          8|    295600|             2.71| Albania1988|        null|     2,126,000,000|               769|   Generation X|\n",
      "|Albania|1988|female|55-74 years|          3|    147500|             2.03| Albania1988|        null|     2,126,000,000|               769|G.I. Generation|\n",
      "|Albania|1988|female|25-34 years|          5|    262400|             1.91| Albania1988|        null|     2,126,000,000|               769|        Boomers|\n",
      "+-------+----+------+-----------+-----------+----------+-----------------+------------+------------+------------------+------------------+---------------+\n",
      "only showing top 20 rows\n",
      "\n"
     ]
    }
   ],
   "source": [
    "suicide_df = spark.read.csv('../data/suicide-rates-overview/master.csv', header=True, inferSchema=True)\n",
    "suicide_df.show()"
   ]
  },
  {
   "cell_type": "markdown",
   "metadata": {},
   "source": [
    "The country-year column looks to be redundant, so we can drop it"
   ]
  },
  {
   "cell_type": "code",
   "execution_count": 6,
   "metadata": {},
   "outputs": [
    {
     "name": "stdout",
     "output_type": "stream",
     "text": [
      "+-------+----+------+-----------+-----------+----------+-----------------+------------+------------------+------------------+---------------+\n",
      "|country|year|   sex|        age|suicides_no|population|suicides/100k pop|HDI for year| gdp_for_year ($) |gdp_per_capita ($)|     generation|\n",
      "+-------+----+------+-----------+-----------+----------+-----------------+------------+------------------+------------------+---------------+\n",
      "|Albania|1987|  male|15-24 years|         21|    312900|             6.71|        null|     2,156,624,900|               796|   Generation X|\n",
      "|Albania|1987|  male|35-54 years|         16|    308000|             5.19|        null|     2,156,624,900|               796|         Silent|\n",
      "|Albania|1987|female|15-24 years|         14|    289700|             4.83|        null|     2,156,624,900|               796|   Generation X|\n",
      "|Albania|1987|  male|  75+ years|          1|     21800|             4.59|        null|     2,156,624,900|               796|G.I. Generation|\n",
      "|Albania|1987|  male|25-34 years|          9|    274300|             3.28|        null|     2,156,624,900|               796|        Boomers|\n",
      "|Albania|1987|female|  75+ years|          1|     35600|             2.81|        null|     2,156,624,900|               796|G.I. Generation|\n",
      "|Albania|1987|female|35-54 years|          6|    278800|             2.15|        null|     2,156,624,900|               796|         Silent|\n",
      "|Albania|1987|female|25-34 years|          4|    257200|             1.56|        null|     2,156,624,900|               796|        Boomers|\n",
      "|Albania|1987|  male|55-74 years|          1|    137500|             0.73|        null|     2,156,624,900|               796|G.I. Generation|\n",
      "|Albania|1987|female| 5-14 years|          0|    311000|              0.0|        null|     2,156,624,900|               796|   Generation X|\n",
      "|Albania|1987|female|55-74 years|          0|    144600|              0.0|        null|     2,156,624,900|               796|G.I. Generation|\n",
      "|Albania|1987|  male| 5-14 years|          0|    338200|              0.0|        null|     2,156,624,900|               796|   Generation X|\n",
      "|Albania|1988|female|  75+ years|          2|     36400|             5.49|        null|     2,126,000,000|               769|G.I. Generation|\n",
      "|Albania|1988|  male|15-24 years|         17|    319200|             5.33|        null|     2,126,000,000|               769|   Generation X|\n",
      "|Albania|1988|  male|  75+ years|          1|     22300|             4.48|        null|     2,126,000,000|               769|G.I. Generation|\n",
      "|Albania|1988|  male|35-54 years|         14|    314100|             4.46|        null|     2,126,000,000|               769|         Silent|\n",
      "|Albania|1988|  male|55-74 years|          4|    140200|             2.85|        null|     2,126,000,000|               769|G.I. Generation|\n",
      "|Albania|1988|female|15-24 years|          8|    295600|             2.71|        null|     2,126,000,000|               769|   Generation X|\n",
      "|Albania|1988|female|55-74 years|          3|    147500|             2.03|        null|     2,126,000,000|               769|G.I. Generation|\n",
      "|Albania|1988|female|25-34 years|          5|    262400|             1.91|        null|     2,126,000,000|               769|        Boomers|\n",
      "+-------+----+------+-----------+-----------+----------+-----------------+------------+------------------+------------------+---------------+\n",
      "only showing top 20 rows\n",
      "\n"
     ]
    }
   ],
   "source": [
    "suicide_df = suicide_df.drop('country-year')\n",
    "suicide_df.show()"
   ]
  },
  {
   "cell_type": "code",
   "execution_count": 7,
   "metadata": {},
   "outputs": [],
   "source": [
    "sc.stop() # stop Spark runtime"
   ]
  }
 ],
 "metadata": {
  "interpreter": {
   "hash": "40d14adc38efa394e6a94aa5c0d3d4b5710ac6618335b369162bf1f3045144b1"
  },
  "kernelspec": {
   "display_name": "Python 3.8.12 64-bit ('venv': venv)",
   "name": "python3"
  },
  "language_info": {
   "codemirror_mode": {
    "name": "ipython",
    "version": 3
   },
   "file_extension": ".py",
   "mimetype": "text/x-python",
   "name": "python",
   "nbconvert_exporter": "python",
   "pygments_lexer": "ipython3",
   "version": "3.8.12"
  },
  "orig_nbformat": 4
 },
 "nbformat": 4,
 "nbformat_minor": 2
}
